{
 "cells": [
  {
   "cell_type": "code",
   "execution_count": 1,
   "metadata": {
    "scrolled": true
   },
   "outputs": [],
   "source": [
    "# used to open large csv files as I have low ram\n",
    "import sys\n",
    "import csv\n",
    "maxInt = sys.maxsize\n",
    "while True:\n",
    "    # decrease the maxInt value by factor 10 \n",
    "    # as long as the OverflowError occurs.\n",
    "\n",
    "    try:\n",
    "        csv.field_size_limit(maxInt)\n",
    "        break\n",
    "    except OverflowError:\n",
    "        maxInt = int(maxInt/10)"
   ]
  },
  {
   "cell_type": "code",
   "execution_count": 2,
   "metadata": {},
   "outputs": [],
   "source": [
    "import pandas as pd"
   ]
  },
  {
   "cell_type": "code",
   "execution_count": 8,
   "metadata": {},
   "outputs": [],
   "source": [
    "#open the csv file\n",
    "import pandas as pd\n",
    "data=pd.read_csv(\"export.csv\", engine='python')\n"
   ]
  },
  {
   "cell_type": "code",
   "execution_count": 2,
   "metadata": {},
   "outputs": [
    {
     "name": "stderr",
     "output_type": "stream",
     "text": [
      "C:\\ProgramData\\Anaconda3\\lib\\site-packages\\IPython\\core\\interactiveshell.py:3071: DtypeWarning: Columns (47,48,49,50,51,52,53,54,55,56,57,58,59,60,61,62,63,64,65,66,67,68,69,70,71,72,73,74,75,76,77,78,79,80,81,82,83,84,85,86,87,88,89,90,91,92,93,94,95,96,97,98,99,100,101,102,103,104,105,106,107,108,109,110,111,112,113,114,115,116,117,118,119,120,121,122,123,124,125,126,127,128,129,130,131,132,133,134,135,136,137,138,139,140,141,142,143,144,145,146,147,148,149,150,151,152,153,154,155,156,157,158,159,160,161,162,163,164,165,166,167,168,169,170,171,172,173,174,175,176,177,178,179,180,181,182,183,184,185,186,187,188,189,190,191,192,193,194,195,196) have mixed types.Specify dtype option on import or set low_memory=False.\n",
      "  has_raised = await self.run_ast_nodes(code_ast.body, cell_name,\n"
     ]
    }
   ],
   "source": [
    "import pandas as pd\n",
    "final_data=pd.read_csv('final_gender_df.csv')"
   ]
  },
  {
   "cell_type": "code",
   "execution_count": 3,
   "metadata": {},
   "outputs": [],
   "source": [
    "df_name_country=final_data"
   ]
  },
  {
   "cell_type": "code",
   "execution_count": 3,
   "metadata": {},
   "outputs": [],
   "source": [
    "\n",
    "city_country=pd.read_csv(\"City_country_university.csv\", engine='python')"
   ]
  },
  {
   "cell_type": "code",
   "execution_count": 4,
   "metadata": {},
   "outputs": [],
   "source": [
    "Uni_region=pd.read_csv(\"Performance.csv\", engine='python')"
   ]
  },
  {
   "cell_type": "code",
   "execution_count": 121,
   "metadata": {},
   "outputs": [],
   "source": [
    "Uni_region2=pd.read_csv('Unis_with_region.csv', engine='python')"
   ]
  },
  {
   "cell_type": "code",
   "execution_count": 10,
   "metadata": {},
   "outputs": [],
   "source": [
    "City=Uni_region.University.str.split(',', expand=True)"
   ]
  },
  {
   "cell_type": "code",
   "execution_count": 15,
   "metadata": {},
   "outputs": [],
   "source": [
    "Uni_region['University only']=City[0]"
   ]
  },
  {
   "cell_type": "code",
   "execution_count": 5,
   "metadata": {},
   "outputs": [
    {
     "data": {
      "text/plain": [
       "Index(['Unnamed: 0', 'universities', 'Departments', 'Cities', 'Countries'], dtype='object')"
      ]
     },
     "execution_count": 5,
     "metadata": {},
     "output_type": "execute_result"
    }
   ],
   "source": [
    "city_country.columns"
   ]
  },
  {
   "cell_type": "code",
   "execution_count": 7,
   "metadata": {},
   "outputs": [],
   "source": [
    "unis=city_country.universities.str.split(',', expand=True)"
   ]
  },
  {
   "cell_type": "code",
   "execution_count": 1,
   "metadata": {},
   "outputs": [],
   "source": [
    "#Countries=city_country.universities.str.split(',', expand=True)"
   ]
  },
  {
   "cell_type": "code",
   "execution_count": 2,
   "metadata": {},
   "outputs": [],
   "source": [
    "#city_country[city_country['universities'].str.contains(\"Department of Mathematics\")]\n"
   ]
  },
  {
   "cell_type": "code",
   "execution_count": 503,
   "metadata": {},
   "outputs": [],
   "source": [
    "import numpy as np\n",
    "Cities = Cities.replace(np.nan, '', regex=True)"
   ]
  },
  {
   "cell_type": "code",
   "execution_count": 106,
   "metadata": {},
   "outputs": [],
   "source": [
    "z=unis.replace( {r\"[a-zA-Z0-9]*\",'' }, inplace= True, regex = True)"
   ]
  },
  {
   "cell_type": "code",
   "execution_count": 571,
   "metadata": {},
   "outputs": [],
   "source": [
    "zz=df_name_country['0'].replace( {r\"[a-zA-Z0-9] *\",'' }, inplace= True, regex = True)"
   ]
  },
  {
   "cell_type": "code",
   "execution_count": 131,
   "metadata": {},
   "outputs": [
    {
     "data": {
      "text/plain": [
       "'*Department of Medicine Ayub Medical College'"
      ]
     },
     "execution_count": 131,
     "metadata": {},
     "output_type": "execute_result"
    }
   ],
   "source": [
    "'*Department of Medicine Ayub Medical College'.replace('r\"[a-zA-Z]', '')"
   ]
  },
  {
   "cell_type": "code",
   "execution_count": 125,
   "metadata": {},
   "outputs": [],
   "source": [
    "for x in unis:\n",
    "    unis[x]=unis[x].str.replace('\\W ', '')"
   ]
  },
  {
   "cell_type": "code",
   "execution_count": 486,
   "metadata": {},
   "outputs": [],
   "source": [
    "Cities = Cities.replace('[^A-Za-z ]+', '',regex=True)"
   ]
  },
  {
   "cell_type": "code",
   "execution_count": 487,
   "metadata": {},
   "outputs": [],
   "source": [
    "#leading whtie space\n",
    "#r\"^\\s+\" , \"\"\n",
    "Cities = Cities.replace(r\"^\\s+\" , '',regex=True)"
   ]
  },
  {
   "cell_type": "code",
   "execution_count": null,
   "metadata": {},
   "outputs": [],
   "source": [
    "import re\n",
    "for x in unis:\n",
    "    unis3[x]=unis3[x].str.replace('\\W ', '')\n",
    "re.sub('[^A-Za-z0-9 ]+', '', mystring)"
   ]
  },
  {
   "cell_type": "code",
   "execution_count": 141,
   "metadata": {},
   "outputs": [],
   "source": [
    "for x in unis:\n",
    "    unis3[x]=unis3[x].str.replace('[', '')\n"
   ]
  },
  {
   "cell_type": "code",
   "execution_count": 3,
   "metadata": {},
   "outputs": [],
   "source": [
    "\n",
    "# for column in unis3:\n",
    "#     print(column)\n",
    "#     for x in range(0,len(unis2[column])):\n",
    "        \n",
    "#         if (len(unis3[column][x])>0):\n",
    "#             if (unis3[column][x]!='*Department of Medicine Ayub Medical College'):\n",
    "#                 if (unis3[column][x]!='National University of Sciences and Technology (NUST'):\n",
    "# #                     print(unis[column][x])\n",
    "#                     z=len(Uni_region2[Uni_region2['University only'].str.match(unis3[column][x])]['Region'])\n",
    "#                     if z>0:\n",
    "#                         unis3[column][x]=Uni_region2[Uni_region2['University only'].str.match(unis3[column][x])]['Region'].iloc[0]\n",
    "# #                         print(unis[column][x])"
   ]
  },
  {
   "cell_type": "code",
   "execution_count": 507,
   "metadata": {},
   "outputs": [
    {
     "name": "stdout",
     "output_type": "stream",
     "text": [
      "0\n"
     ]
    },
    {
     "ename": "ValueError",
     "evalue": "Cannot mask with non-boolean array containing NA / NaN values",
     "output_type": "error",
     "traceback": [
      "\u001b[1;31m---------------------------------------------------------------------------\u001b[0m",
      "\u001b[1;31mValueError\u001b[0m                                Traceback (most recent call last)",
      "\u001b[1;32m<ipython-input-507-681b6c37e22b>\u001b[0m in \u001b[0;36m<module>\u001b[1;34m\u001b[0m\n\u001b[0;32m     11\u001b[0m )]['Region'])\n\u001b[0;32m     12\u001b[0m                     \u001b[1;32mif\u001b[0m \u001b[0mz\u001b[0m\u001b[1;33m>\u001b[0m\u001b[1;36m0\u001b[0m\u001b[1;33m:\u001b[0m\u001b[1;33m\u001b[0m\u001b[1;33m\u001b[0m\u001b[0m\n\u001b[1;32m---> 13\u001b[1;33m                         \u001b[0munis4\u001b[0m\u001b[1;33m[\u001b[0m\u001b[0mcolumn\u001b[0m\u001b[1;33m]\u001b[0m\u001b[1;33m[\u001b[0m\u001b[0mx\u001b[0m\u001b[1;33m]\u001b[0m\u001b[1;33m=\u001b[0m\u001b[0mUni_region2\u001b[0m\u001b[1;33m[\u001b[0m\u001b[0mUni_region2\u001b[0m\u001b[1;33m[\u001b[0m\u001b[1;34m'City'\u001b[0m\u001b[1;33m]\u001b[0m\u001b[1;33m.\u001b[0m\u001b[0mstr\u001b[0m\u001b[1;33m.\u001b[0m\u001b[0mmatch\u001b[0m\u001b[1;33m(\u001b[0m\u001b[0munis4\u001b[0m\u001b[1;33m[\u001b[0m\u001b[0mcolumn\u001b[0m\u001b[1;33m]\u001b[0m\u001b[1;33m[\u001b[0m\u001b[0mx\u001b[0m\u001b[1;33m]\u001b[0m\u001b[1;33m)\u001b[0m\u001b[1;33m]\u001b[0m\u001b[1;33m[\u001b[0m\u001b[1;34m'Region'\u001b[0m\u001b[1;33m]\u001b[0m\u001b[1;33m.\u001b[0m\u001b[0miloc\u001b[0m\u001b[1;33m[\u001b[0m\u001b[1;36m0\u001b[0m\u001b[1;33m]\u001b[0m\u001b[1;33m\u001b[0m\u001b[1;33m\u001b[0m\u001b[0m\n\u001b[0m\u001b[0;32m     14\u001b[0m \u001b[1;31m#                         print(unis[column][x])\u001b[0m\u001b[1;33m\u001b[0m\u001b[1;33m\u001b[0m\u001b[1;33m\u001b[0m\u001b[0m\n",
      "\u001b[1;32mC:\\ProgramData\\Anaconda3\\lib\\site-packages\\pandas\\core\\frame.py\u001b[0m in \u001b[0;36m__getitem__\u001b[1;34m(self, key)\u001b[0m\n\u001b[0;32m   2788\u001b[0m \u001b[1;33m\u001b[0m\u001b[0m\n\u001b[0;32m   2789\u001b[0m         \u001b[1;31m# Do we have a (boolean) 1d indexer?\u001b[0m\u001b[1;33m\u001b[0m\u001b[1;33m\u001b[0m\u001b[1;33m\u001b[0m\u001b[0m\n\u001b[1;32m-> 2790\u001b[1;33m         \u001b[1;32mif\u001b[0m \u001b[0mcom\u001b[0m\u001b[1;33m.\u001b[0m\u001b[0mis_bool_indexer\u001b[0m\u001b[1;33m(\u001b[0m\u001b[0mkey\u001b[0m\u001b[1;33m)\u001b[0m\u001b[1;33m:\u001b[0m\u001b[1;33m\u001b[0m\u001b[1;33m\u001b[0m\u001b[0m\n\u001b[0m\u001b[0;32m   2791\u001b[0m             \u001b[1;32mreturn\u001b[0m \u001b[0mself\u001b[0m\u001b[1;33m.\u001b[0m\u001b[0m_getitem_bool_array\u001b[0m\u001b[1;33m(\u001b[0m\u001b[0mkey\u001b[0m\u001b[1;33m)\u001b[0m\u001b[1;33m\u001b[0m\u001b[1;33m\u001b[0m\u001b[0m\n\u001b[0;32m   2792\u001b[0m \u001b[1;33m\u001b[0m\u001b[0m\n",
      "\u001b[1;32mC:\\ProgramData\\Anaconda3\\lib\\site-packages\\pandas\\core\\common.py\u001b[0m in \u001b[0;36mis_bool_indexer\u001b[1;34m(key)\u001b[0m\n\u001b[0;32m    134\u001b[0m                 \u001b[0mna_msg\u001b[0m \u001b[1;33m=\u001b[0m \u001b[1;34m\"Cannot mask with non-boolean array containing NA / NaN values\"\u001b[0m\u001b[1;33m\u001b[0m\u001b[1;33m\u001b[0m\u001b[0m\n\u001b[0;32m    135\u001b[0m                 \u001b[1;32mif\u001b[0m \u001b[0misna\u001b[0m\u001b[1;33m(\u001b[0m\u001b[0mkey\u001b[0m\u001b[1;33m)\u001b[0m\u001b[1;33m.\u001b[0m\u001b[0many\u001b[0m\u001b[1;33m(\u001b[0m\u001b[1;33m)\u001b[0m\u001b[1;33m:\u001b[0m\u001b[1;33m\u001b[0m\u001b[1;33m\u001b[0m\u001b[0m\n\u001b[1;32m--> 136\u001b[1;33m                     \u001b[1;32mraise\u001b[0m \u001b[0mValueError\u001b[0m\u001b[1;33m(\u001b[0m\u001b[0mna_msg\u001b[0m\u001b[1;33m)\u001b[0m\u001b[1;33m\u001b[0m\u001b[1;33m\u001b[0m\u001b[0m\n\u001b[0m\u001b[0;32m    137\u001b[0m                 \u001b[1;32mreturn\u001b[0m \u001b[1;32mFalse\u001b[0m\u001b[1;33m\u001b[0m\u001b[1;33m\u001b[0m\u001b[0m\n\u001b[0;32m    138\u001b[0m             \u001b[1;32mreturn\u001b[0m \u001b[1;32mTrue\u001b[0m\u001b[1;33m\u001b[0m\u001b[1;33m\u001b[0m\u001b[0m\n",
      "\u001b[1;31mValueError\u001b[0m: Cannot mask with non-boolean array containing NA / NaN values"
     ]
    }
   ],
   "source": [
    "unis4=Cities\n",
    "for column in unis4:\n",
    "    print(column)\n",
    "    for x in range(0,len(unis2[column])):\n",
    "        \n",
    "        if (len(unis4[column][x])>0):\n",
    "            if (unis4[column][x]!='*Department of Medicine Ayub Medical College'):\n",
    "                if (unis4[column][x]!='National University of Sciences and Technology (NUST'):\n",
    "#                     print(unis[column][x])\n",
    "                    z=len(Uni_region2[Uni_region2['City'].str.match(unis4[column][x])]['Region'])\n",
    "                    if z>0:\n",
    "                        unis4[column][x]=Uni_region2[Uni_region2['City'].str.match(unis4[column][x])]['Region'].iloc[0]\n",
    "#                         print(unis[column][x])"
   ]
  },
  {
   "cell_type": "code",
   "execution_count": 313,
   "metadata": {},
   "outputs": [
    {
     "ename": "ValueError",
     "evalue": "unknown type str32",
     "output_type": "error",
     "traceback": [
      "\u001b[1;31m---------------------------------------------------------------------------\u001b[0m",
      "\u001b[1;31mValueError\u001b[0m                                Traceback (most recent call last)",
      "\u001b[1;32m<ipython-input-313-21460290e3b1>\u001b[0m in \u001b[0;36m<module>\u001b[1;34m\u001b[0m\n\u001b[0;32m      1\u001b[0m \u001b[1;32mfor\u001b[0m \u001b[0mcolumns\u001b[0m \u001b[1;32min\u001b[0m \u001b[0mdf_testt\u001b[0m\u001b[1;33m:\u001b[0m\u001b[1;33m\u001b[0m\u001b[1;33m\u001b[0m\u001b[0m\n\u001b[0;32m      2\u001b[0m \u001b[1;33m\u001b[0m\u001b[0m\n\u001b[1;32m----> 3\u001b[1;33m     \u001b[0mdf_name_uni\u001b[0m\u001b[1;33m[\u001b[0m\u001b[0mcolumns\u001b[0m\u001b[1;33m]\u001b[0m\u001b[1;33m=\u001b[0m\u001b[0mdf_testt\u001b[0m\u001b[1;33m[\u001b[0m\u001b[0mcolumns\u001b[0m\u001b[1;33m]\u001b[0m\u001b[1;33m+\u001b[0m\u001b[1;34m'|'\u001b[0m\u001b[1;33m+\u001b[0m\u001b[0munis2\u001b[0m\u001b[1;33m[\u001b[0m\u001b[0mcolumns\u001b[0m\u001b[1;33m]\u001b[0m\u001b[1;33m\u001b[0m\u001b[1;33m\u001b[0m\u001b[0m\n\u001b[0m",
      "\u001b[1;32mC:\\ProgramData\\Anaconda3\\lib\\site-packages\\pandas\\core\\ops\\common.py\u001b[0m in \u001b[0;36mnew_method\u001b[1;34m(self, other)\u001b[0m\n\u001b[0;32m     62\u001b[0m         \u001b[0mother\u001b[0m \u001b[1;33m=\u001b[0m \u001b[0mitem_from_zerodim\u001b[0m\u001b[1;33m(\u001b[0m\u001b[0mother\u001b[0m\u001b[1;33m)\u001b[0m\u001b[1;33m\u001b[0m\u001b[1;33m\u001b[0m\u001b[0m\n\u001b[0;32m     63\u001b[0m \u001b[1;33m\u001b[0m\u001b[0m\n\u001b[1;32m---> 64\u001b[1;33m         \u001b[1;32mreturn\u001b[0m \u001b[0mmethod\u001b[0m\u001b[1;33m(\u001b[0m\u001b[0mself\u001b[0m\u001b[1;33m,\u001b[0m \u001b[0mother\u001b[0m\u001b[1;33m)\u001b[0m\u001b[1;33m\u001b[0m\u001b[1;33m\u001b[0m\u001b[0m\n\u001b[0m\u001b[0;32m     65\u001b[0m \u001b[1;33m\u001b[0m\u001b[0m\n\u001b[0;32m     66\u001b[0m     \u001b[1;32mreturn\u001b[0m \u001b[0mnew_method\u001b[0m\u001b[1;33m\u001b[0m\u001b[1;33m\u001b[0m\u001b[0m\n",
      "\u001b[1;32mC:\\ProgramData\\Anaconda3\\lib\\site-packages\\pandas\\core\\ops\\__init__.py\u001b[0m in \u001b[0;36mwrapper\u001b[1;34m(left, right)\u001b[0m\n\u001b[0;32m    501\u001b[0m         \u001b[0mlvalues\u001b[0m \u001b[1;33m=\u001b[0m \u001b[0mextract_array\u001b[0m\u001b[1;33m(\u001b[0m\u001b[0mleft\u001b[0m\u001b[1;33m,\u001b[0m \u001b[0mextract_numpy\u001b[0m\u001b[1;33m=\u001b[0m\u001b[1;32mTrue\u001b[0m\u001b[1;33m)\u001b[0m\u001b[1;33m\u001b[0m\u001b[1;33m\u001b[0m\u001b[0m\n\u001b[0;32m    502\u001b[0m         \u001b[0mrvalues\u001b[0m \u001b[1;33m=\u001b[0m \u001b[0mextract_array\u001b[0m\u001b[1;33m(\u001b[0m\u001b[0mright\u001b[0m\u001b[1;33m,\u001b[0m \u001b[0mextract_numpy\u001b[0m\u001b[1;33m=\u001b[0m\u001b[1;32mTrue\u001b[0m\u001b[1;33m)\u001b[0m\u001b[1;33m\u001b[0m\u001b[1;33m\u001b[0m\u001b[0m\n\u001b[1;32m--> 503\u001b[1;33m         \u001b[0mresult\u001b[0m \u001b[1;33m=\u001b[0m \u001b[0marithmetic_op\u001b[0m\u001b[1;33m(\u001b[0m\u001b[0mlvalues\u001b[0m\u001b[1;33m,\u001b[0m \u001b[0mrvalues\u001b[0m\u001b[1;33m,\u001b[0m \u001b[0mop\u001b[0m\u001b[1;33m,\u001b[0m \u001b[0mstr_rep\u001b[0m\u001b[1;33m)\u001b[0m\u001b[1;33m\u001b[0m\u001b[1;33m\u001b[0m\u001b[0m\n\u001b[0m\u001b[0;32m    504\u001b[0m \u001b[1;33m\u001b[0m\u001b[0m\n\u001b[0;32m    505\u001b[0m         \u001b[1;32mreturn\u001b[0m \u001b[0m_construct_result\u001b[0m\u001b[1;33m(\u001b[0m\u001b[0mleft\u001b[0m\u001b[1;33m,\u001b[0m \u001b[0mresult\u001b[0m\u001b[1;33m,\u001b[0m \u001b[0mindex\u001b[0m\u001b[1;33m=\u001b[0m\u001b[0mleft\u001b[0m\u001b[1;33m.\u001b[0m\u001b[0mindex\u001b[0m\u001b[1;33m,\u001b[0m \u001b[0mname\u001b[0m\u001b[1;33m=\u001b[0m\u001b[0mres_name\u001b[0m\u001b[1;33m)\u001b[0m\u001b[1;33m\u001b[0m\u001b[1;33m\u001b[0m\u001b[0m\n",
      "\u001b[1;32mC:\\ProgramData\\Anaconda3\\lib\\site-packages\\pandas\\core\\ops\\array_ops.py\u001b[0m in \u001b[0;36marithmetic_op\u001b[1;34m(left, right, op, str_rep)\u001b[0m\n\u001b[0;32m    195\u001b[0m     \u001b[1;32melse\u001b[0m\u001b[1;33m:\u001b[0m\u001b[1;33m\u001b[0m\u001b[1;33m\u001b[0m\u001b[0m\n\u001b[0;32m    196\u001b[0m         \u001b[1;32mwith\u001b[0m \u001b[0mnp\u001b[0m\u001b[1;33m.\u001b[0m\u001b[0merrstate\u001b[0m\u001b[1;33m(\u001b[0m\u001b[0mall\u001b[0m\u001b[1;33m=\u001b[0m\u001b[1;34m\"ignore\"\u001b[0m\u001b[1;33m)\u001b[0m\u001b[1;33m:\u001b[0m\u001b[1;33m\u001b[0m\u001b[1;33m\u001b[0m\u001b[0m\n\u001b[1;32m--> 197\u001b[1;33m             \u001b[0mres_values\u001b[0m \u001b[1;33m=\u001b[0m \u001b[0mna_arithmetic_op\u001b[0m\u001b[1;33m(\u001b[0m\u001b[0mlvalues\u001b[0m\u001b[1;33m,\u001b[0m \u001b[0mrvalues\u001b[0m\u001b[1;33m,\u001b[0m \u001b[0mop\u001b[0m\u001b[1;33m,\u001b[0m \u001b[0mstr_rep\u001b[0m\u001b[1;33m)\u001b[0m\u001b[1;33m\u001b[0m\u001b[1;33m\u001b[0m\u001b[0m\n\u001b[0m\u001b[0;32m    198\u001b[0m \u001b[1;33m\u001b[0m\u001b[0m\n\u001b[0;32m    199\u001b[0m     \u001b[1;32mreturn\u001b[0m \u001b[0mres_values\u001b[0m\u001b[1;33m\u001b[0m\u001b[1;33m\u001b[0m\u001b[0m\n",
      "\u001b[1;32mC:\\ProgramData\\Anaconda3\\lib\\site-packages\\pandas\\core\\ops\\array_ops.py\u001b[0m in \u001b[0;36mna_arithmetic_op\u001b[1;34m(left, right, op, str_rep)\u001b[0m\n\u001b[0;32m    147\u001b[0m \u001b[1;33m\u001b[0m\u001b[0m\n\u001b[0;32m    148\u001b[0m     \u001b[1;32mtry\u001b[0m\u001b[1;33m:\u001b[0m\u001b[1;33m\u001b[0m\u001b[1;33m\u001b[0m\u001b[0m\n\u001b[1;32m--> 149\u001b[1;33m         \u001b[0mresult\u001b[0m \u001b[1;33m=\u001b[0m \u001b[0mexpressions\u001b[0m\u001b[1;33m.\u001b[0m\u001b[0mevaluate\u001b[0m\u001b[1;33m(\u001b[0m\u001b[0mop\u001b[0m\u001b[1;33m,\u001b[0m \u001b[0mstr_rep\u001b[0m\u001b[1;33m,\u001b[0m \u001b[0mleft\u001b[0m\u001b[1;33m,\u001b[0m \u001b[0mright\u001b[0m\u001b[1;33m)\u001b[0m\u001b[1;33m\u001b[0m\u001b[1;33m\u001b[0m\u001b[0m\n\u001b[0m\u001b[0;32m    150\u001b[0m     \u001b[1;32mexcept\u001b[0m \u001b[0mTypeError\u001b[0m\u001b[1;33m:\u001b[0m\u001b[1;33m\u001b[0m\u001b[1;33m\u001b[0m\u001b[0m\n\u001b[0;32m    151\u001b[0m         \u001b[0mresult\u001b[0m \u001b[1;33m=\u001b[0m \u001b[0mmasked_arith_op\u001b[0m\u001b[1;33m(\u001b[0m\u001b[0mleft\u001b[0m\u001b[1;33m,\u001b[0m \u001b[0mright\u001b[0m\u001b[1;33m,\u001b[0m \u001b[0mop\u001b[0m\u001b[1;33m)\u001b[0m\u001b[1;33m\u001b[0m\u001b[1;33m\u001b[0m\u001b[0m\n",
      "\u001b[1;32mC:\\ProgramData\\Anaconda3\\lib\\site-packages\\pandas\\core\\computation\\expressions.py\u001b[0m in \u001b[0;36mevaluate\u001b[1;34m(op, op_str, a, b, use_numexpr)\u001b[0m\n\u001b[0;32m    206\u001b[0m     \u001b[0muse_numexpr\u001b[0m \u001b[1;33m=\u001b[0m \u001b[0muse_numexpr\u001b[0m \u001b[1;32mand\u001b[0m \u001b[0m_bool_arith_check\u001b[0m\u001b[1;33m(\u001b[0m\u001b[0mop_str\u001b[0m\u001b[1;33m,\u001b[0m \u001b[0ma\u001b[0m\u001b[1;33m,\u001b[0m \u001b[0mb\u001b[0m\u001b[1;33m)\u001b[0m\u001b[1;33m\u001b[0m\u001b[1;33m\u001b[0m\u001b[0m\n\u001b[0;32m    207\u001b[0m     \u001b[1;32mif\u001b[0m \u001b[0muse_numexpr\u001b[0m\u001b[1;33m:\u001b[0m\u001b[1;33m\u001b[0m\u001b[1;33m\u001b[0m\u001b[0m\n\u001b[1;32m--> 208\u001b[1;33m         \u001b[1;32mreturn\u001b[0m \u001b[0m_evaluate\u001b[0m\u001b[1;33m(\u001b[0m\u001b[0mop\u001b[0m\u001b[1;33m,\u001b[0m \u001b[0mop_str\u001b[0m\u001b[1;33m,\u001b[0m \u001b[0ma\u001b[0m\u001b[1;33m,\u001b[0m \u001b[0mb\u001b[0m\u001b[1;33m)\u001b[0m\u001b[1;33m\u001b[0m\u001b[1;33m\u001b[0m\u001b[0m\n\u001b[0m\u001b[0;32m    209\u001b[0m     \u001b[1;32mreturn\u001b[0m \u001b[0m_evaluate_standard\u001b[0m\u001b[1;33m(\u001b[0m\u001b[0mop\u001b[0m\u001b[1;33m,\u001b[0m \u001b[0mop_str\u001b[0m\u001b[1;33m,\u001b[0m \u001b[0ma\u001b[0m\u001b[1;33m,\u001b[0m \u001b[0mb\u001b[0m\u001b[1;33m)\u001b[0m\u001b[1;33m\u001b[0m\u001b[1;33m\u001b[0m\u001b[0m\n\u001b[0;32m    210\u001b[0m \u001b[1;33m\u001b[0m\u001b[0m\n",
      "\u001b[1;32mC:\\ProgramData\\Anaconda3\\lib\\site-packages\\pandas\\core\\computation\\expressions.py\u001b[0m in \u001b[0;36m_evaluate_numexpr\u001b[1;34m(op, op_str, a, b)\u001b[0m\n\u001b[0;32m    109\u001b[0m         \u001b[0mb_value\u001b[0m \u001b[1;33m=\u001b[0m \u001b[0mgetattr\u001b[0m\u001b[1;33m(\u001b[0m\u001b[0mb\u001b[0m\u001b[1;33m,\u001b[0m \u001b[1;34m\"values\"\u001b[0m\u001b[1;33m,\u001b[0m \u001b[0mb\u001b[0m\u001b[1;33m)\u001b[0m\u001b[1;33m\u001b[0m\u001b[1;33m\u001b[0m\u001b[0m\n\u001b[0;32m    110\u001b[0m \u001b[1;33m\u001b[0m\u001b[0m\n\u001b[1;32m--> 111\u001b[1;33m         result = ne.evaluate(\n\u001b[0m\u001b[0;32m    112\u001b[0m             \u001b[1;34mf\"a_value {op_str} b_value\"\u001b[0m\u001b[1;33m,\u001b[0m\u001b[1;33m\u001b[0m\u001b[1;33m\u001b[0m\u001b[0m\n\u001b[0;32m    113\u001b[0m             \u001b[0mlocal_dict\u001b[0m\u001b[1;33m=\u001b[0m\u001b[1;33m{\u001b[0m\u001b[1;34m\"a_value\"\u001b[0m\u001b[1;33m:\u001b[0m \u001b[0ma_value\u001b[0m\u001b[1;33m,\u001b[0m \u001b[1;34m\"b_value\"\u001b[0m\u001b[1;33m:\u001b[0m \u001b[0mb_value\u001b[0m\u001b[1;33m}\u001b[0m\u001b[1;33m,\u001b[0m\u001b[1;33m\u001b[0m\u001b[1;33m\u001b[0m\u001b[0m\n",
      "\u001b[1;32mC:\\ProgramData\\Anaconda3\\lib\\site-packages\\numexpr\\necompiler.py\u001b[0m in \u001b[0;36mevaluate\u001b[1;34m(ex, local_dict, global_dict, out, order, casting, **kwargs)\u001b[0m\n\u001b[0;32m    819\u001b[0m \u001b[1;33m\u001b[0m\u001b[0m\n\u001b[0;32m    820\u001b[0m     \u001b[1;31m# Create a signature\u001b[0m\u001b[1;33m\u001b[0m\u001b[1;33m\u001b[0m\u001b[1;33m\u001b[0m\u001b[0m\n\u001b[1;32m--> 821\u001b[1;33m     signature = [(name, getType(arg)) for (name, arg) in\n\u001b[0m\u001b[0;32m    822\u001b[0m                  zip(names, arguments)]\n\u001b[0;32m    823\u001b[0m \u001b[1;33m\u001b[0m\u001b[0m\n",
      "\u001b[1;32mC:\\ProgramData\\Anaconda3\\lib\\site-packages\\numexpr\\necompiler.py\u001b[0m in \u001b[0;36m<listcomp>\u001b[1;34m(.0)\u001b[0m\n\u001b[0;32m    819\u001b[0m \u001b[1;33m\u001b[0m\u001b[0m\n\u001b[0;32m    820\u001b[0m     \u001b[1;31m# Create a signature\u001b[0m\u001b[1;33m\u001b[0m\u001b[1;33m\u001b[0m\u001b[1;33m\u001b[0m\u001b[0m\n\u001b[1;32m--> 821\u001b[1;33m     signature = [(name, getType(arg)) for (name, arg) in\n\u001b[0m\u001b[0;32m    822\u001b[0m                  zip(names, arguments)]\n\u001b[0;32m    823\u001b[0m \u001b[1;33m\u001b[0m\u001b[0m\n",
      "\u001b[1;32mC:\\ProgramData\\Anaconda3\\lib\\site-packages\\numexpr\\necompiler.py\u001b[0m in \u001b[0;36mgetType\u001b[1;34m(a)\u001b[0m\n\u001b[0;32m    701\u001b[0m     \u001b[1;32mif\u001b[0m \u001b[0mkind\u001b[0m \u001b[1;33m==\u001b[0m \u001b[1;34m'S'\u001b[0m\u001b[1;33m:\u001b[0m\u001b[1;33m\u001b[0m\u001b[1;33m\u001b[0m\u001b[0m\n\u001b[0;32m    702\u001b[0m         \u001b[1;32mreturn\u001b[0m \u001b[0mbytes\u001b[0m\u001b[1;33m\u001b[0m\u001b[1;33m\u001b[0m\u001b[0m\n\u001b[1;32m--> 703\u001b[1;33m     \u001b[1;32mraise\u001b[0m \u001b[0mValueError\u001b[0m\u001b[1;33m(\u001b[0m\u001b[1;34m\"unknown type %s\"\u001b[0m \u001b[1;33m%\u001b[0m \u001b[0ma\u001b[0m\u001b[1;33m.\u001b[0m\u001b[0mdtype\u001b[0m\u001b[1;33m.\u001b[0m\u001b[0mname\u001b[0m\u001b[1;33m)\u001b[0m\u001b[1;33m\u001b[0m\u001b[1;33m\u001b[0m\u001b[0m\n\u001b[0m\u001b[0;32m    704\u001b[0m \u001b[1;33m\u001b[0m\u001b[0m\n\u001b[0;32m    705\u001b[0m \u001b[1;33m\u001b[0m\u001b[0m\n",
      "\u001b[1;31mValueError\u001b[0m: unknown type str32"
     ]
    }
   ],
   "source": [
    "for columns in df_testt:\n",
    "    \n",
    "    df_name_uni[columns]=df_testt[columns]+'|'+unis2[columns]"
   ]
  },
  {
   "cell_type": "code",
   "execution_count": 673,
   "metadata": {},
   "outputs": [
    {
     "name": "stdout",
     "output_type": "stream",
     "text": [
      "Public 108994 female 26018 female proportion 0.1927087962551477\n"
     ]
    }
   ],
   "source": [
    "male=0\n",
    "female=0\n",
    "total=0\n",
    "for column in df_name_university2.iloc[:, : 197]:\n",
    "    male=male+df_name_university2[column].loc[df_name_university2[column]=='male|Public'].count()\n",
    "    female=female+df_name_university2[column].loc[df_name_university2[column]=='female|Public'].count()\n",
    "    \n",
    "print('Public '+str(male)+' female '+str(female)+' female proportion '+str((female/(male+female))))\n",
    "    "
   ]
  },
  {
   "cell_type": "code",
   "execution_count": 657,
   "metadata": {},
   "outputs": [
    {
     "name": "stdout",
     "output_type": "stream",
     "text": [
      "48\n",
      "14\n",
      "0.22580645161290322\n"
     ]
    }
   ],
   "source": [
    "male=df_name_region2['LastAuthor'].loc[df_name_region2['LastAuthor']=='male|Azad Jammu and Kashmir'].count()\n",
    "print(male)\n",
    "female=df_name_region2['LastAuthor'].loc[df_name_region2['LastAuthor']=='female|Azad Jammu and Kashmir'].count()\n",
    "print(female)\n",
    "print(female/(male+female))"
   ]
  },
  {
   "cell_type": "code",
   "execution_count": 670,
   "metadata": {},
   "outputs": [
    {
     "name": "stdout",
     "output_type": "stream",
     "text": [
      "13024\n",
      "2933\n",
      "0.18380647991477095\n"
     ]
    }
   ],
   "source": [
    "male=df_name_university2['0'].loc[df_name_university2['0']=='male|Private'].count()\n",
    "print(male)\n",
    "female=df_name_university2['0'].loc[df_name_university2['0']=='female|Private'].count()\n",
    "print(female)\n",
    "print(female/(male+female))"
   ]
  },
  {
   "cell_type": "code",
   "execution_count": 668,
   "metadata": {},
   "outputs": [
    {
     "name": "stdout",
     "output_type": "stream",
     "text": [
      "54309\n",
      "12013\n",
      "0.18113144959440305\n"
     ]
    }
   ],
   "source": [
    "male=df_name_university2['0'].loc[df_name_university2['0']=='male|Public'].count()\n",
    "print(male)\n",
    "female=df_name_university2['0'].loc[df_name_university2['0']=='female|Public'].count()\n",
    "print(female)\n",
    "print(female/(male+female))"
   ]
  },
  {
   "cell_type": "code",
   "execution_count": 617,
   "metadata": {},
   "outputs": [],
   "source": [
    "female=df_name_region['0'].loc[df_name_region['0']=='female|Azad Jammu and Kashmir'].count()"
   ]
  },
  {
   "cell_type": "code",
   "execution_count": 8,
   "metadata": {},
   "outputs": [
    {
     "data": {
      "text/plain": [
       "array(['University of Karachi',\n",
       "       'Government College University,Erciyes University',\n",
       "       'Molecular and Cell Genetics Laboratory, CAS Key Laboratory of Innate Immunity and Chronic Disease, Hefei National Laboratory for Physical Sciences at Microscale, School of Life Sciences, University of Science and Technology of China,Department of Biochemistry and Molecular Biology, School of Basic Medical Sciences, Anhui Medical University,Center for Reproductive Medicine, Anhui Provincial Hospital Affiliated to Anhui Medical University,Department of Statistics, University of Kentucky,Collaborative Innovation Center of Genetics and Development, Fudan University,Hefei Institutes of Physical Science, Chinese Academy of Sciences,Institute of Pure and Applied Biology, Bahauddin Zakariya University Multan',\n",
       "       ...,\n",
       "       'NWFP University of Engineering and Technology,Capital University of Science and Technology,International Islamic University',\n",
       "       'Structures Department, AMEY,Department of Civil Engineering, Muhammad Ali Jinnah University',\n",
       "       'University of the Punjab,Dalhousie University Halifax,Aurel Vlaicu,University of Lahore'],\n",
       "      dtype=object)"
      ]
     },
     "execution_count": 8,
     "metadata": {},
     "output_type": "execute_result"
    }
   ],
   "source": [
    "for x in city_country['universities'].unique():\n",
    "    "
   ]
  },
  {
   "cell_type": "code",
   "execution_count": 9,
   "metadata": {},
   "outputs": [],
   "source": [
    "data['University']=city_country['universities']\n",
    "data['Departments']=city_country['Departments']\n",
    "data['Cities']=city_country['Cities']\n",
    "data['Countries']=city_country['Countries']"
   ]
  },
  {
   "cell_type": "code",
   "execution_count": 157,
   "metadata": {},
   "outputs": [
    {
     "data": {
      "text/plain": [
       "Index(['Unnamed: 0', 'Eid', 'ItemStage', 'PII', 'PUI', 'ScienceDirectScore',\n",
       "       'abstract', 'citation_type', 'correspondence', 'doi', 'funding_content',\n",
       "       'funding_count', 'funding_text', 'issn', 'item_online', 'n_Af', 'n_Au',\n",
       "       'n_citations', 'n_subjareas', 'openaccess', 'pmid', 'pub_year', 'title',\n",
       "       'Af_str', 'ASJC_str', 'Au_str', 'Au_cors_str', 'Au_unique_IN_str',\n",
       "       'citations_str', 'copyright_types_str', 'funding_list_str', 'grant_str',\n",
       "       'keywords_str', 'source_str', 'subjareas_str', 'Full name',\n",
       "       'Full name count', 'University', 'Departments', 'Cities', 'Countries'],\n",
       "      dtype='object')"
      ]
     },
     "execution_count": 157,
     "metadata": {},
     "output_type": "execute_result"
    }
   ],
   "source": [
    "DATA.columns"
   ]
  },
  {
   "cell_type": "code",
   "execution_count": 10,
   "metadata": {},
   "outputs": [
    {
     "data": {
      "text/plain": [
       "'China,China,China,United States,China,China,Pakistan'"
      ]
     },
     "execution_count": 10,
     "metadata": {},
     "output_type": "execute_result"
    }
   ],
   "source": [
    "data['Countries'].values[2]"
   ]
  },
  {
   "cell_type": "markdown",
   "metadata": {},
   "source": [
    "### Removing entries before 1947 pakistan"
   ]
  },
  {
   "cell_type": "code",
   "execution_count": 3,
   "metadata": {},
   "outputs": [
    {
     "data": {
      "text/plain": [
       "207397"
      ]
     },
     "execution_count": 3,
     "metadata": {},
     "output_type": "execute_result"
    }
   ],
   "source": [
    "data.pub_year.count()"
   ]
  },
  {
   "cell_type": "code",
   "execution_count": 4,
   "metadata": {},
   "outputs": [
    {
     "data": {
      "text/plain": [
       "207051"
      ]
     },
     "execution_count": 4,
     "metadata": {},
     "output_type": "execute_result"
    }
   ],
   "source": [
    "data['pub_year'].loc[data['pub_year']>1947].count()"
   ]
  },
  {
   "cell_type": "markdown",
   "metadata": {},
   "source": [
    "# Extracting first name and last name ofe ach author"
   ]
  },
  {
   "cell_type": "code",
   "execution_count": 165,
   "metadata": {},
   "outputs": [],
   "source": [
    "quoted = re.compile(\"(?<=')[^']+(?=')\")\n",
    "c=quoted.findall(res['given_name'])\n",
    "cc=quoted.findall(res['surname'])\n",
    "# res['given_name']+res['surname']"
   ]
  },
  {
   "cell_type": "code",
   "execution_count": 23,
   "metadata": {},
   "outputs": [],
   "source": [
    "#drop a row\n",
    "data=data.drop(data.index[79])"
   ]
  },
  {
   "cell_type": "code",
   "execution_count": 12,
   "metadata": {},
   "outputs": [],
   "source": [
    "data['Full name count'] = data['Full name'].apply(lambda x: len(x.split(',')))"
   ]
  },
  {
   "cell_type": "code",
   "execution_count": 36,
   "metadata": {},
   "outputs": [],
   "source": [
    "#dropping rows where authors names are null\n",
    "data=data[data['Au_unique_IN_str'].notnull()]"
   ]
  },
  {
   "cell_type": "code",
   "execution_count": null,
   "metadata": {},
   "outputs": [],
   "source": [
    "data['Authors count'] = data['Full name'].apply(lambda x: len(x.split(',')))"
   ]
  },
  {
   "cell_type": "code",
   "execution_count": 56,
   "metadata": {},
   "outputs": [
    {
     "data": {
      "text/plain": [
       "0"
      ]
     },
     "execution_count": 56,
     "metadata": {},
     "output_type": "execute_result"
    }
   ],
   "source": [
    "data['Countries'].loc[data['Countries'].isnull()].count()"
   ]
  },
  {
   "cell_type": "code",
   "execution_count": 38,
   "metadata": {},
   "outputs": [],
   "source": [
    "# #count number of authors\n",
    "data['NumberofAuthors'] = data['Au_unique_IN_str'].apply(lambda x: len(x.split(',')))"
   ]
  },
  {
   "cell_type": "code",
   "execution_count": 81,
   "metadata": {},
   "outputs": [
    {
     "data": {
      "text/plain": [
       "0"
      ]
     },
     "execution_count": 81,
     "metadata": {},
     "output_type": "execute_result"
    }
   ],
   "source": [
    "data['Countries'].loc[data['Countries'].isnull()].count()"
   ]
  },
  {
   "cell_type": "code",
   "execution_count": 80,
   "metadata": {},
   "outputs": [
    {
     "data": {
      "text/plain": [
       "207395"
      ]
     },
     "execution_count": 80,
     "metadata": {},
     "output_type": "execute_result"
    }
   ],
   "source": [
    "len(data['Countries'])"
   ]
  },
  {
   "cell_type": "code",
   "execution_count": 50,
   "metadata": {},
   "outputs": [],
   "source": [
    "newdff=data.loc[data['NumberofAuthors'] < data['Full name count']]"
   ]
  },
  {
   "cell_type": "markdown",
   "metadata": {},
   "source": [
    "# Authors full name splitted"
   ]
  },
  {
   "cell_type": "code",
   "execution_count": 114,
   "metadata": {},
   "outputs": [],
   "source": [
    "countrynames1=data_top['Countries'].str.split(\",\",expand=True)\n",
    "\n"
   ]
  },
  {
   "cell_type": "code",
   "execution_count": 249,
   "metadata": {},
   "outputs": [],
   "source": [
    "actualauthors1=final_df['Au_unique_IN_str'].str.split(\",\",expand=True)\n",
    "\n"
   ]
  },
  {
   "cell_type": "code",
   "execution_count": 112,
   "metadata": {},
   "outputs": [],
   "source": [
    "#drop authors greater than 200 to reduce the size of dataframe\n",
    "data_top=data[data.NumberofAuthors < 200]"
   ]
  },
  {
   "cell_type": "code",
   "execution_count": 108,
   "metadata": {},
   "outputs": [
    {
     "data": {
      "text/html": [
       "<div>\n",
       "<style scoped>\n",
       "    .dataframe tbody tr th:only-of-type {\n",
       "        vertical-align: middle;\n",
       "    }\n",
       "\n",
       "    .dataframe tbody tr th {\n",
       "        vertical-align: top;\n",
       "    }\n",
       "\n",
       "    .dataframe thead th {\n",
       "        text-align: right;\n",
       "    }\n",
       "</style>\n",
       "<table border=\"1\" class=\"dataframe\">\n",
       "  <thead>\n",
       "    <tr style=\"text-align: right;\">\n",
       "      <th></th>\n",
       "      <th>0</th>\n",
       "      <th>1</th>\n",
       "      <th>2</th>\n",
       "      <th>3</th>\n",
       "      <th>4</th>\n",
       "      <th>5</th>\n",
       "      <th>6</th>\n",
       "      <th>7</th>\n",
       "      <th>8</th>\n",
       "      <th>9</th>\n",
       "      <th>...</th>\n",
       "      <th>205</th>\n",
       "      <th>206</th>\n",
       "      <th>207</th>\n",
       "      <th>208</th>\n",
       "      <th>209</th>\n",
       "      <th>210</th>\n",
       "      <th>211</th>\n",
       "      <th>212</th>\n",
       "      <th>213</th>\n",
       "      <th>214</th>\n",
       "    </tr>\n",
       "  </thead>\n",
       "  <tbody>\n",
       "    <tr>\n",
       "      <th>70132</th>\n",
       "      <td>United States</td>\n",
       "      <td>Iran</td>\n",
       "      <td>Iran</td>\n",
       "      <td>Iran</td>\n",
       "      <td>Iran</td>\n",
       "      <td>Iran</td>\n",
       "      <td>Iran</td>\n",
       "      <td>Iran</td>\n",
       "      <td>Iran</td>\n",
       "      <td>Iran</td>\n",
       "      <td>...</td>\n",
       "      <td>Iran</td>\n",
       "      <td>Iran</td>\n",
       "      <td>Germany</td>\n",
       "      <td>Ethiopia</td>\n",
       "      <td>Canada</td>\n",
       "      <td>Iran</td>\n",
       "      <td>Iran</td>\n",
       "      <td>Iran</td>\n",
       "      <td>Iran</td>\n",
       "      <td>China</td>\n",
       "    </tr>\n",
       "  </tbody>\n",
       "</table>\n",
       "<p>1 rows × 215 columns</p>\n",
       "</div>"
      ],
      "text/plain": [
       "                 0     1     2     3     4     5     6     7     8     9    \\\n",
       "70132  United States  Iran  Iran  Iran  Iran  Iran  Iran  Iran  Iran  Iran   \n",
       "\n",
       "       ...   205   206      207       208     209   210   211   212   213  \\\n",
       "70132  ...  Iran  Iran  Germany  Ethiopia  Canada  Iran  Iran  Iran  Iran   \n",
       "\n",
       "         214  \n",
       "70132  China  \n",
       "\n",
       "[1 rows x 215 columns]"
      ]
     },
     "execution_count": 108,
     "metadata": {},
     "output_type": "execute_result"
    }
   ],
   "source": [
    "countrynames.loc[countrynames[214].notnull()]"
   ]
  },
  {
   "cell_type": "code",
   "execution_count": 137,
   "metadata": {},
   "outputs": [],
   "source": [
    "authorgender=pd.DataFrame()"
   ]
  },
  {
   "cell_type": "code",
   "execution_count": null,
   "metadata": {},
   "outputs": [],
   "source": [
    "import pandas as pd\n",
    "\n",
    "def stream_groupby_csv(path, key, agg, chunk_size=1e6):\n",
    "\n",
    "    # Tell pandas to read the data in chunks\n",
    "    chunks = pd.read_csv(p, chunksize=chunk_size)\n",
    "\n",
    "    results = []\n",
    "    orphans = pd.DataFrame()\n",
    "\n",
    "    for chunk in chunks:\n",
    "\n",
    "        # Add the previous orphans to the chunk\n",
    "        chunk = pd.concat((orphans, chunk))\n",
    "\n",
    "        # Determine which rows are orphans\n",
    "        last_val = chunk[key].iloc[-1]\n",
    "        is_orphan = chunk[key] == last_val\n",
    "\n",
    "        # Put the new orphans aside\n",
    "        chunk, orphans = chunk[~is_orphan], chunk[is_orphan]\n",
    "\n",
    "        # Perform the aggregation and store the results\n",
    "        result = agg(chunk)\n",
    "        results.append(result)\n",
    "\n",
    "    return pd.concat(results)"
   ]
  },
  {
   "cell_type": "code",
   "execution_count": 188,
   "metadata": {},
   "outputs": [
    {
     "data": {
      "text/plain": [
       "0                       female\n",
       "1                         male\n",
       "2                         male\n",
       "3                         male\n",
       "4                         male\n",
       "                  ...         \n",
       "207392                Ali Aman\n",
       "207393             Kiran Iqbal\n",
       "207394                    None\n",
       "207395           Christy Munir\n",
       "207396    Mohamed E. El-Hawary\n",
       "Name: 2, Length: 205632, dtype: object"
      ]
     },
     "execution_count": 188,
     "metadata": {},
     "output_type": "execute_result"
    }
   ],
   "source": [
    "df_testt['2'].loc[~df_testt['2'].str.match('[\\u0080-\\uFFFF]')]"
   ]
  },
  {
   "cell_type": "code",
   "execution_count": 196,
   "metadata": {},
   "outputs": [],
   "source": [
    "mystring='Andrea SemaniÃƒÆ’Ã†â€™Ãƒâ€ Ã¢â*()[]'"
   ]
  },
  {
   "cell_type": "code",
   "execution_count": 197,
   "metadata": {},
   "outputs": [
    {
     "data": {
      "text/plain": [
       "'Andrea Semani'"
      ]
     },
     "execution_count": 197,
     "metadata": {},
     "output_type": "execute_result"
    }
   ],
   "source": [
    "mystring.split('Ã')[0]"
   ]
  },
  {
   "cell_type": "code",
   "execution_count": 197,
   "metadata": {},
   "outputs": [
    {
     "data": {
      "text/plain": [
       "'Andrea Semani '"
      ]
     },
     "execution_count": 197,
     "metadata": {},
     "output_type": "execute_result"
    }
   ],
   "source": [
    "import re\n",
    "re.sub('[^A-Za-z0-9 ]+', '', mystring)"
   ]
  },
  {
   "cell_type": "code",
   "execution_count": 4,
   "metadata": {},
   "outputs": [],
   "source": [
    "\n",
    "# # df_Pak_names.loc[df_Pak_names[column].notnull(),column]\n",
    "# myString = \"\"\n",
    "# df_Pak_genders = pd.DataFrame()\n",
    "# mylist= []\n",
    "# count=0\n",
    "# for column in df_testt:\n",
    "#     print('Column is'+str(column))\n",
    "#     for i in range(len(df_testt[column])):\n",
    "# #         if count%2000==0:\n",
    "# #             df_testt.to_csv('updatednamegender.csv')\n",
    "#         if (df_testt[column].values[i] != 'None'):\n",
    "            \n",
    "#             if ((df_testt[column].values[i] != 'male')):\n",
    "#                 if ((df_testt[column].values[i] != 'female')):\n",
    "#                     if \"Ã\" in (df_testt[column].values[i]):\n",
    "#                         continue\n",
    "# #                     if(df_testt[column].values[i].contains('Ã')):\n",
    "# #                         df_testt[column].values[i]=df_testt[column].values[i].split('Ã')[0]\n",
    "# #                     df_testt[column].values[i]=re.sub('[^A-Za-z0-9]+', '', df_testt[column].values[i])\n",
    "# #                     print(df_testt[column].values[i])\n",
    "# #                     print(df_testt[column].values[i])\n",
    "                    \n",
    "# #                     if(i!=57363):\n",
    "\n",
    "#                     print(i)\n",
    "# #                     if(pd.isnull(df_testt[column].values[i])):\n",
    "# #                     print('math nan value '+str(i))\n",
    "# #                     else:\n",
    "#                     gender=gender_fullname(df_testt[column].values[i])\n",
    "#                     df_testt[column].values[i] = gender\n",
    "# #                     print(i)\n",
    "# #                     mylist.append(gender)\n",
    "        \n"
   ]
  },
  {
   "cell_type": "code",
   "execution_count": 223,
   "metadata": {},
   "outputs": [],
   "source": [
    "df_testt['LastAuthor'] = df_testt.iloc[:, 1:].ffill(axis=1).iloc[:, -1]"
   ]
  },
  {
   "cell_type": "code",
   "execution_count": 170,
   "metadata": {},
   "outputs": [],
   "source": [
    "df_testt.replace('None', np.nan, inplace=True)"
   ]
  },
  {
   "cell_type": "code",
   "execution_count": 171,
   "metadata": {},
   "outputs": [],
   "source": [
    "df_testt=df_testt.replace(to_replace=[None], value=np.nan, inplace=True)"
   ]
  },
  {
   "cell_type": "code",
   "execution_count": 224,
   "metadata": {},
   "outputs": [
    {
     "data": {
      "text/plain": [
       "0         female\n",
       "1           male\n",
       "2         female\n",
       "3           male\n",
       "4           male\n",
       "           ...  \n",
       "205627      male\n",
       "205628      male\n",
       "205629      male\n",
       "205630    female\n",
       "205631      male\n",
       "Name: LastAuthor, Length: 205632, dtype: object"
      ]
     },
     "execution_count": 224,
     "metadata": {},
     "output_type": "execute_result"
    }
   ],
   "source": [
    "df_testt['LastAuthor']"
   ]
  },
  {
   "cell_type": "code",
   "execution_count": 5,
   "metadata": {},
   "outputs": [],
   "source": [
    "# lastgender=''\n",
    "# for index, row in df_testt.iterrows():\n",
    "#     if (row[0]=='None'):\n",
    "#         continue\n",
    "#     else:\n",
    "#         lastgender=row\n",
    "#     print(lastgender)"
   ]
  },
  {
   "cell_type": "markdown",
   "metadata": {},
   "source": [
    "# Final dataframe after extracting gender"
   ]
  },
  {
   "cell_type": "code",
   "execution_count": 296,
   "metadata": {},
   "outputs": [
    {
     "data": {
      "text/plain": [
       "162787"
      ]
     },
     "execution_count": 296,
     "metadata": {},
     "output_type": "execute_result"
    }
   ],
   "source": [
    "final_df['2'].loc[final_df['2'].notnull()].count()"
   ]
  },
  {
   "cell_type": "code",
   "execution_count": 274,
   "metadata": {},
   "outputs": [
    {
     "data": {
      "text/plain": [
       "83162"
      ]
     },
     "execution_count": 274,
     "metadata": {},
     "output_type": "execute_result"
    }
   ],
   "source": [
    "final_df['4'].loc[final_df['4'] != 'None'].count()"
   ]
  },
  {
   "cell_type": "code",
   "execution_count": 28,
   "metadata": {},
   "outputs": [
    {
     "data": {
      "text/plain": [
       "192923"
      ]
     },
     "execution_count": 28,
     "metadata": {},
     "output_type": "execute_result"
    }
   ],
   "source": [
    "df_testt['1'].loc[df_testt['2'] != 'None'].count()"
   ]
  },
  {
   "cell_type": "code",
   "execution_count": 263,
   "metadata": {},
   "outputs": [],
   "source": [
    "z=final_df['2']"
   ]
  },
  {
   "cell_type": "code",
   "execution_count": 262,
   "metadata": {},
   "outputs": [],
   "source": [
    "final_df['2_actual']=actualauthors1[2]"
   ]
  },
  {
   "cell_type": "code",
   "execution_count": 268,
   "metadata": {},
   "outputs": [],
   "source": [
    "final_df['1_actual']=actualauthors1[1]"
   ]
  },
  {
   "cell_type": "code",
   "execution_count": 297,
   "metadata": {},
   "outputs": [],
   "source": [
    "final_df['2'] = np.where(final_df['2_actual'].isnull(), final_df['2_actual'], final_df['2'])"
   ]
  },
  {
   "cell_type": "code",
   "execution_count": 291,
   "metadata": {},
   "outputs": [],
   "source": [
    "columns='2'\n",
    "df_testt[columns] = np.where(actualauthors1[int(columns)].isnull(), actualauthors1[int(columns)], df_testt[columns])"
   ]
  },
  {
   "cell_type": "markdown",
   "metadata": {},
   "source": [
    "# Exploring extraction of authors based on country"
   ]
  },
  {
   "cell_type": "code",
   "execution_count": 11,
   "metadata": {},
   "outputs": [
    {
     "data": {
      "text/plain": [
       "0                                                  Pakistan\n",
       "1                                           Pakistan,Turkey\n",
       "2         China,China,China,United States,China,China,Pa...\n",
       "3                                         Pakistan,Pakistan\n",
       "4                                          Pakistan,Karachi\n",
       "                                ...                        \n",
       "205627                           Pakistan,Pakistan,Pakistan\n",
       "205628                                    Pakistan,Pakistan\n",
       "205629                              United Kingdom,Pakistan\n",
       "205630                                             Pakistan\n",
       "205631                     Pakistan,Canada,Romania,Pakistan\n",
       "Name: Countries, Length: 205632, dtype: object"
      ]
     },
     "execution_count": 11,
     "metadata": {},
     "output_type": "execute_result"
    }
   ],
   "source": [
    "final_df['Countries']"
   ]
  },
  {
   "cell_type": "code",
   "execution_count": 18,
   "metadata": {},
   "outputs": [],
   "source": [
    "Countries=final_df['Countries'].str.split(\",\",expand=True)\n",
    "\n"
   ]
  },
  {
   "cell_type": "code",
   "execution_count": 34,
   "metadata": {},
   "outputs": [],
   "source": [
    "Cities=final_df['Cities'].str.split(\",\",expand=True)\n",
    "\n"
   ]
  },
  {
   "cell_type": "code",
   "execution_count": 326,
   "metadata": {},
   "outputs": [],
   "source": [
    "Cities=final_df2['Cities'].str.split(\",\",expand=True)\n",
    "\n"
   ]
  },
  {
   "cell_type": "code",
   "execution_count": 210,
   "metadata": {},
   "outputs": [],
   "source": [
    "Universities=final_df2['University_y'].str.split(\",\",expand=True)\n",
    "\n"
   ]
  },
  {
   "cell_type": "code",
   "execution_count": 342,
   "metadata": {},
   "outputs": [],
   "source": [
    "Universities_Region=Universities.iloc[:, : 197]"
   ]
  },
  {
   "cell_type": "code",
   "execution_count": 343,
   "metadata": {},
   "outputs": [
    {
     "data": {
      "text/html": [
       "<div>\n",
       "<style scoped>\n",
       "    .dataframe tbody tr th:only-of-type {\n",
       "        vertical-align: middle;\n",
       "    }\n",
       "\n",
       "    .dataframe tbody tr th {\n",
       "        vertical-align: top;\n",
       "    }\n",
       "\n",
       "    .dataframe thead th {\n",
       "        text-align: right;\n",
       "    }\n",
       "</style>\n",
       "<table border=\"1\" class=\"dataframe\">\n",
       "  <thead>\n",
       "    <tr style=\"text-align: right;\">\n",
       "      <th></th>\n",
       "      <th>0</th>\n",
       "      <th>1</th>\n",
       "      <th>2</th>\n",
       "      <th>3</th>\n",
       "      <th>4</th>\n",
       "      <th>5</th>\n",
       "      <th>6</th>\n",
       "      <th>7</th>\n",
       "      <th>8</th>\n",
       "      <th>9</th>\n",
       "      <th>...</th>\n",
       "      <th>187</th>\n",
       "      <th>188</th>\n",
       "      <th>189</th>\n",
       "      <th>190</th>\n",
       "      <th>191</th>\n",
       "      <th>192</th>\n",
       "      <th>193</th>\n",
       "      <th>194</th>\n",
       "      <th>195</th>\n",
       "      <th>196</th>\n",
       "    </tr>\n",
       "  </thead>\n",
       "  <tbody>\n",
       "    <tr>\n",
       "      <th>0</th>\n",
       "      <td>University of Karachi</td>\n",
       "      <td>None</td>\n",
       "      <td>None</td>\n",
       "      <td>None</td>\n",
       "      <td>None</td>\n",
       "      <td>None</td>\n",
       "      <td>None</td>\n",
       "      <td>None</td>\n",
       "      <td>None</td>\n",
       "      <td>None</td>\n",
       "      <td>...</td>\n",
       "      <td>None</td>\n",
       "      <td>None</td>\n",
       "      <td>None</td>\n",
       "      <td>None</td>\n",
       "      <td>None</td>\n",
       "      <td>None</td>\n",
       "      <td>None</td>\n",
       "      <td>None</td>\n",
       "      <td>None</td>\n",
       "      <td>None</td>\n",
       "    </tr>\n",
       "    <tr>\n",
       "      <th>1</th>\n",
       "      <td>Government College University</td>\n",
       "      <td>Erciyes University</td>\n",
       "      <td>None</td>\n",
       "      <td>None</td>\n",
       "      <td>None</td>\n",
       "      <td>None</td>\n",
       "      <td>None</td>\n",
       "      <td>None</td>\n",
       "      <td>None</td>\n",
       "      <td>None</td>\n",
       "      <td>...</td>\n",
       "      <td>None</td>\n",
       "      <td>None</td>\n",
       "      <td>None</td>\n",
       "      <td>None</td>\n",
       "      <td>None</td>\n",
       "      <td>None</td>\n",
       "      <td>None</td>\n",
       "      <td>None</td>\n",
       "      <td>None</td>\n",
       "      <td>None</td>\n",
       "    </tr>\n",
       "    <tr>\n",
       "      <th>2</th>\n",
       "      <td>Molecular and Cell Genetics Laboratory</td>\n",
       "      <td>CAS Key Laboratory of Innate Immunity and Chr...</td>\n",
       "      <td>Hefei National Laboratory for Physical Scienc...</td>\n",
       "      <td>School of Life Sciences</td>\n",
       "      <td>University of Science and Technology of China</td>\n",
       "      <td>Department of Biochemistry and Molecular Biology</td>\n",
       "      <td>School of Basic Medical Sciences</td>\n",
       "      <td>Anhui Medical University</td>\n",
       "      <td>Center for Reproductive Medicine</td>\n",
       "      <td>Anhui Provincial Hospital Affiliated to Anhui...</td>\n",
       "      <td>...</td>\n",
       "      <td>None</td>\n",
       "      <td>None</td>\n",
       "      <td>None</td>\n",
       "      <td>None</td>\n",
       "      <td>None</td>\n",
       "      <td>None</td>\n",
       "      <td>None</td>\n",
       "      <td>None</td>\n",
       "      <td>None</td>\n",
       "      <td>None</td>\n",
       "    </tr>\n",
       "    <tr>\n",
       "      <th>3</th>\n",
       "      <td>University of Sargodha</td>\n",
       "      <td>University of Sargodha</td>\n",
       "      <td>None</td>\n",
       "      <td>None</td>\n",
       "      <td>None</td>\n",
       "      <td>None</td>\n",
       "      <td>None</td>\n",
       "      <td>None</td>\n",
       "      <td>None</td>\n",
       "      <td>None</td>\n",
       "      <td>...</td>\n",
       "      <td>None</td>\n",
       "      <td>None</td>\n",
       "      <td>None</td>\n",
       "      <td>None</td>\n",
       "      <td>None</td>\n",
       "      <td>None</td>\n",
       "      <td>None</td>\n",
       "      <td>None</td>\n",
       "      <td>None</td>\n",
       "      <td>None</td>\n",
       "    </tr>\n",
       "    <tr>\n",
       "      <th>4</th>\n",
       "      <td>Kuwait Teaching Hospital</td>\n",
       "      <td>Defence Housing Authority</td>\n",
       "      <td>None</td>\n",
       "      <td>None</td>\n",
       "      <td>None</td>\n",
       "      <td>None</td>\n",
       "      <td>None</td>\n",
       "      <td>None</td>\n",
       "      <td>None</td>\n",
       "      <td>None</td>\n",
       "      <td>...</td>\n",
       "      <td>None</td>\n",
       "      <td>None</td>\n",
       "      <td>None</td>\n",
       "      <td>None</td>\n",
       "      <td>None</td>\n",
       "      <td>None</td>\n",
       "      <td>None</td>\n",
       "      <td>None</td>\n",
       "      <td>None</td>\n",
       "      <td>None</td>\n",
       "    </tr>\n",
       "    <tr>\n",
       "      <th>...</th>\n",
       "      <td>...</td>\n",
       "      <td>...</td>\n",
       "      <td>...</td>\n",
       "      <td>...</td>\n",
       "      <td>...</td>\n",
       "      <td>...</td>\n",
       "      <td>...</td>\n",
       "      <td>...</td>\n",
       "      <td>...</td>\n",
       "      <td>...</td>\n",
       "      <td>...</td>\n",
       "      <td>...</td>\n",
       "      <td>...</td>\n",
       "      <td>...</td>\n",
       "      <td>...</td>\n",
       "      <td>...</td>\n",
       "      <td>...</td>\n",
       "      <td>...</td>\n",
       "      <td>...</td>\n",
       "      <td>...</td>\n",
       "      <td>...</td>\n",
       "    </tr>\n",
       "    <tr>\n",
       "      <th>205627</th>\n",
       "      <td>The Aga Khan University</td>\n",
       "      <td>None</td>\n",
       "      <td>None</td>\n",
       "      <td>None</td>\n",
       "      <td>None</td>\n",
       "      <td>None</td>\n",
       "      <td>None</td>\n",
       "      <td>None</td>\n",
       "      <td>None</td>\n",
       "      <td>None</td>\n",
       "      <td>...</td>\n",
       "      <td>None</td>\n",
       "      <td>None</td>\n",
       "      <td>None</td>\n",
       "      <td>None</td>\n",
       "      <td>None</td>\n",
       "      <td>None</td>\n",
       "      <td>None</td>\n",
       "      <td>None</td>\n",
       "      <td>None</td>\n",
       "      <td>None</td>\n",
       "    </tr>\n",
       "    <tr>\n",
       "      <th>205628</th>\n",
       "      <td>Institute of Space Technology</td>\n",
       "      <td>King Khalid University</td>\n",
       "      <td>DCC-KFUPM</td>\n",
       "      <td>None</td>\n",
       "      <td>None</td>\n",
       "      <td>None</td>\n",
       "      <td>None</td>\n",
       "      <td>None</td>\n",
       "      <td>None</td>\n",
       "      <td>None</td>\n",
       "      <td>...</td>\n",
       "      <td>None</td>\n",
       "      <td>None</td>\n",
       "      <td>None</td>\n",
       "      <td>None</td>\n",
       "      <td>None</td>\n",
       "      <td>None</td>\n",
       "      <td>None</td>\n",
       "      <td>None</td>\n",
       "      <td>None</td>\n",
       "      <td>None</td>\n",
       "    </tr>\n",
       "    <tr>\n",
       "      <th>205629</th>\n",
       "      <td>Arriyadh Community College</td>\n",
       "      <td>King Saud University</td>\n",
       "      <td>Department of Zoology</td>\n",
       "      <td>Kohat University of Science and Technology</td>\n",
       "      <td>Department of Chemistry</td>\n",
       "      <td>Government College Ara Khel</td>\n",
       "      <td>FR Kohat</td>\n",
       "      <td>None</td>\n",
       "      <td>None</td>\n",
       "      <td>None</td>\n",
       "      <td>...</td>\n",
       "      <td>None</td>\n",
       "      <td>None</td>\n",
       "      <td>None</td>\n",
       "      <td>None</td>\n",
       "      <td>None</td>\n",
       "      <td>None</td>\n",
       "      <td>None</td>\n",
       "      <td>None</td>\n",
       "      <td>None</td>\n",
       "      <td>None</td>\n",
       "    </tr>\n",
       "    <tr>\n",
       "      <th>205630</th>\n",
       "      <td>Nishtar Hospital Multan</td>\n",
       "      <td>Children Hospital Complex</td>\n",
       "      <td>Nishtar Hospital Multan</td>\n",
       "      <td>Nishtar Hospital Multan</td>\n",
       "      <td>None</td>\n",
       "      <td>None</td>\n",
       "      <td>None</td>\n",
       "      <td>None</td>\n",
       "      <td>None</td>\n",
       "      <td>None</td>\n",
       "      <td>...</td>\n",
       "      <td>None</td>\n",
       "      <td>None</td>\n",
       "      <td>None</td>\n",
       "      <td>None</td>\n",
       "      <td>None</td>\n",
       "      <td>None</td>\n",
       "      <td>None</td>\n",
       "      <td>None</td>\n",
       "      <td>None</td>\n",
       "      <td>None</td>\n",
       "    </tr>\n",
       "    <tr>\n",
       "      <th>205631</th>\n",
       "      <td>COMSATS Institute of Information Technology</td>\n",
       "      <td>None</td>\n",
       "      <td>None</td>\n",
       "      <td>None</td>\n",
       "      <td>None</td>\n",
       "      <td>None</td>\n",
       "      <td>None</td>\n",
       "      <td>None</td>\n",
       "      <td>None</td>\n",
       "      <td>None</td>\n",
       "      <td>...</td>\n",
       "      <td>None</td>\n",
       "      <td>None</td>\n",
       "      <td>None</td>\n",
       "      <td>None</td>\n",
       "      <td>None</td>\n",
       "      <td>None</td>\n",
       "      <td>None</td>\n",
       "      <td>None</td>\n",
       "      <td>None</td>\n",
       "      <td>None</td>\n",
       "    </tr>\n",
       "  </tbody>\n",
       "</table>\n",
       "<p>205632 rows × 197 columns</p>\n",
       "</div>"
      ],
      "text/plain": [
       "                                                0    \\\n",
       "0                             University of Karachi   \n",
       "1                     Government College University   \n",
       "2            Molecular and Cell Genetics Laboratory   \n",
       "3                            University of Sargodha   \n",
       "4                          Kuwait Teaching Hospital   \n",
       "...                                             ...   \n",
       "205627                      The Aga Khan University   \n",
       "205628                Institute of Space Technology   \n",
       "205629                   Arriyadh Community College   \n",
       "205630                      Nishtar Hospital Multan   \n",
       "205631  COMSATS Institute of Information Technology   \n",
       "\n",
       "                                                      1    \\\n",
       "0                                                    None   \n",
       "1                                      Erciyes University   \n",
       "2        CAS Key Laboratory of Innate Immunity and Chr...   \n",
       "3                                  University of Sargodha   \n",
       "4                               Defence Housing Authority   \n",
       "...                                                   ...   \n",
       "205627                                               None   \n",
       "205628                             King Khalid University   \n",
       "205629                               King Saud University   \n",
       "205630                          Children Hospital Complex   \n",
       "205631                                               None   \n",
       "\n",
       "                                                      2    \\\n",
       "0                                                    None   \n",
       "1                                                    None   \n",
       "2        Hefei National Laboratory for Physical Scienc...   \n",
       "3                                                    None   \n",
       "4                                                    None   \n",
       "...                                                   ...   \n",
       "205627                                               None   \n",
       "205628                                          DCC-KFUPM   \n",
       "205629                              Department of Zoology   \n",
       "205630                            Nishtar Hospital Multan   \n",
       "205631                                               None   \n",
       "\n",
       "                                                3    \\\n",
       "0                                              None   \n",
       "1                                              None   \n",
       "2                           School of Life Sciences   \n",
       "3                                              None   \n",
       "4                                              None   \n",
       "...                                             ...   \n",
       "205627                                         None   \n",
       "205628                                         None   \n",
       "205629   Kohat University of Science and Technology   \n",
       "205630                      Nishtar Hospital Multan   \n",
       "205631                                         None   \n",
       "\n",
       "                                                   4    \\\n",
       "0                                                 None   \n",
       "1                                                 None   \n",
       "2        University of Science and Technology of China   \n",
       "3                                                 None   \n",
       "4                                                 None   \n",
       "...                                                ...   \n",
       "205627                                            None   \n",
       "205628                                            None   \n",
       "205629                         Department of Chemistry   \n",
       "205630                                            None   \n",
       "205631                                            None   \n",
       "\n",
       "                                                     5    \\\n",
       "0                                                   None   \n",
       "1                                                   None   \n",
       "2       Department of Biochemistry and Molecular Biology   \n",
       "3                                                   None   \n",
       "4                                                   None   \n",
       "...                                                  ...   \n",
       "205627                                              None   \n",
       "205628                                              None   \n",
       "205629                       Government College Ara Khel   \n",
       "205630                                              None   \n",
       "205631                                              None   \n",
       "\n",
       "                                      6                          7    \\\n",
       "0                                    None                       None   \n",
       "1                                    None                       None   \n",
       "2        School of Basic Medical Sciences   Anhui Medical University   \n",
       "3                                    None                       None   \n",
       "4                                    None                       None   \n",
       "...                                   ...                        ...   \n",
       "205627                               None                       None   \n",
       "205628                               None                       None   \n",
       "205629                           FR Kohat                       None   \n",
       "205630                               None                       None   \n",
       "205631                               None                       None   \n",
       "\n",
       "                                     8    \\\n",
       "0                                   None   \n",
       "1                                   None   \n",
       "2       Center for Reproductive Medicine   \n",
       "3                                   None   \n",
       "4                                   None   \n",
       "...                                  ...   \n",
       "205627                              None   \n",
       "205628                              None   \n",
       "205629                              None   \n",
       "205630                              None   \n",
       "205631                              None   \n",
       "\n",
       "                                                      9    ...   187   188  \\\n",
       "0                                                    None  ...  None  None   \n",
       "1                                                    None  ...  None  None   \n",
       "2        Anhui Provincial Hospital Affiliated to Anhui...  ...  None  None   \n",
       "3                                                    None  ...  None  None   \n",
       "4                                                    None  ...  None  None   \n",
       "...                                                   ...  ...   ...   ...   \n",
       "205627                                               None  ...  None  None   \n",
       "205628                                               None  ...  None  None   \n",
       "205629                                               None  ...  None  None   \n",
       "205630                                               None  ...  None  None   \n",
       "205631                                               None  ...  None  None   \n",
       "\n",
       "         189   190   191   192   193   194   195   196  \n",
       "0       None  None  None  None  None  None  None  None  \n",
       "1       None  None  None  None  None  None  None  None  \n",
       "2       None  None  None  None  None  None  None  None  \n",
       "3       None  None  None  None  None  None  None  None  \n",
       "4       None  None  None  None  None  None  None  None  \n",
       "...      ...   ...   ...   ...   ...   ...   ...   ...  \n",
       "205627  None  None  None  None  None  None  None  None  \n",
       "205628  None  None  None  None  None  None  None  None  \n",
       "205629  None  None  None  None  None  None  None  None  \n",
       "205630  None  None  None  None  None  None  None  None  \n",
       "205631  None  None  None  None  None  None  None  None  \n",
       "\n",
       "[205632 rows x 197 columns]"
      ]
     },
     "execution_count": 343,
     "metadata": {},
     "output_type": "execute_result"
    }
   ],
   "source": [
    "Universities_Region"
   ]
  },
  {
   "cell_type": "code",
   "execution_count": 516,
   "metadata": {},
   "outputs": [],
   "source": [
    "for columns in df_testt:\n",
    "    \n",
    "    df_name_region[columns]=df_testt[columns]+'|'+unis3[int(columns)]"
   ]
  },
  {
   "cell_type": "code",
   "execution_count": 663,
   "metadata": {},
   "outputs": [],
   "source": [
    "df_name_university2['LastAuthor'] = df_name_university2.iloc[:, 1:].ffill(axis=1).iloc[:, -1]"
   ]
  },
  {
   "cell_type": "code",
   "execution_count": 30,
   "metadata": {},
   "outputs": [],
   "source": [
    "for columns in df_name_country:\n",
    "    df_name_country[columns] = df_name_country[columns].fillna(df_testt[columns])"
   ]
  },
  {
   "cell_type": "code",
   "execution_count": 342,
   "metadata": {},
   "outputs": [],
   "source": [
    "columns='0'\n",
    "df_name_country[columns] = np.where(df_name_country[columns].isnull(), df_name_country[columns], df_testt[columns])"
   ]
  },
  {
   "cell_type": "code",
   "execution_count": 32,
   "metadata": {},
   "outputs": [
    {
     "name": "stdout",
     "output_type": "stream",
     "text": [
      "Pakistan 22% female 1 authors\n",
      "Pakistan 29% female 2 authors\n",
      "Pakistan 20% female 3 authors\n",
      "Pakistan 19% female 4 authors\n",
      "Pakistan 20% female 5 authors\n",
      "Pakistan 21% female 6 authors\n",
      "Pakistan 30% female 7 authors\n",
      "Pakistan 35% female 8 authors\n",
      "Pakistan 16% female 9 authors\n",
      "Pakistan 16% female 10 authors\n",
      "Pakistan 0% female 11 authors\n",
      "Pakistan 33% female 12 authors\n",
      "Pakistan 0% female 13 authors\n",
      "Pakistan 0% female 14 authors\n",
      "Pakistan 0% female 15 authors\n",
      "Pakistan 0% female 16 authors\n"
     ]
    },
    {
     "ename": "ZeroDivisionError",
     "evalue": "division by zero",
     "output_type": "error",
     "traceback": [
      "\u001b[1;31m---------------------------------------------------------------------------\u001b[0m",
      "\u001b[1;31mZeroDivisionError\u001b[0m                         Traceback (most recent call last)",
      "\u001b[1;32m<ipython-input-32-8ba0c02ac9e5>\u001b[0m in \u001b[0;36m<module>\u001b[1;34m\u001b[0m\n\u001b[0;32m      2\u001b[0m \u001b[1;31m#     print('Female authors '+ str(columns)+'    '+str(df_name_country[columns].str.startswith('female|Pakistan').sum()))\u001b[0m\u001b[1;33m\u001b[0m\u001b[1;33m\u001b[0m\u001b[1;33m\u001b[0m\u001b[0m\n\u001b[0;32m      3\u001b[0m \u001b[1;31m#     print(df_name_country[columns].str.startswith('male|Pakistan').sum())\u001b[0m\u001b[1;33m\u001b[0m\u001b[1;33m\u001b[0m\u001b[1;33m\u001b[0m\u001b[0m\n\u001b[1;32m----> 4\u001b[1;33m     \u001b[0mfemaletomale\u001b[0m\u001b[1;33m=\u001b[0m\u001b[1;33m(\u001b[0m\u001b[0mdf_name_country\u001b[0m\u001b[1;33m[\u001b[0m\u001b[0mcolumns\u001b[0m\u001b[1;33m]\u001b[0m\u001b[1;33m.\u001b[0m\u001b[0mstr\u001b[0m\u001b[1;33m.\u001b[0m\u001b[0mstartswith\u001b[0m\u001b[1;33m(\u001b[0m\u001b[1;34m'female|Pakistan'\u001b[0m\u001b[1;33m)\u001b[0m\u001b[1;33m.\u001b[0m\u001b[0msum\u001b[0m\u001b[1;33m(\u001b[0m\u001b[1;33m)\u001b[0m\u001b[1;33m/\u001b[0m\u001b[0mdf_name_country\u001b[0m\u001b[1;33m[\u001b[0m\u001b[0mcolumns\u001b[0m\u001b[1;33m]\u001b[0m\u001b[1;33m.\u001b[0m\u001b[0mstr\u001b[0m\u001b[1;33m.\u001b[0m\u001b[0mstartswith\u001b[0m\u001b[1;33m(\u001b[0m\u001b[1;34m'male|Pakistan'\u001b[0m\u001b[1;33m)\u001b[0m\u001b[1;33m.\u001b[0m\u001b[0msum\u001b[0m\u001b[1;33m(\u001b[0m\u001b[1;33m)\u001b[0m\u001b[1;33m)\u001b[0m\u001b[1;33m*\u001b[0m\u001b[1;36m100\u001b[0m\u001b[1;33m\u001b[0m\u001b[1;33m\u001b[0m\u001b[0m\n\u001b[0m\u001b[0;32m      5\u001b[0m     \u001b[0mprint\u001b[0m\u001b[1;33m(\u001b[0m\u001b[1;34m'Pakistan '\u001b[0m\u001b[1;33m+\u001b[0m\u001b[0mstr\u001b[0m\u001b[1;33m(\u001b[0m\u001b[0mint\u001b[0m\u001b[1;33m(\u001b[0m\u001b[0mfemaletomale\u001b[0m\u001b[1;33m)\u001b[0m\u001b[1;33m)\u001b[0m\u001b[1;33m+\u001b[0m\u001b[1;34m'% female '\u001b[0m\u001b[1;33m+\u001b[0m\u001b[0mstr\u001b[0m\u001b[1;33m(\u001b[0m\u001b[0mint\u001b[0m\u001b[1;33m(\u001b[0m\u001b[0mcolumns\u001b[0m\u001b[1;33m)\u001b[0m\u001b[1;33m+\u001b[0m\u001b[1;36m1\u001b[0m\u001b[1;33m)\u001b[0m\u001b[1;33m+\u001b[0m\u001b[1;34m' authors'\u001b[0m\u001b[1;33m)\u001b[0m\u001b[1;33m\u001b[0m\u001b[1;33m\u001b[0m\u001b[0m\n\u001b[0;32m      6\u001b[0m \u001b[1;31m#     print(df_name_country[columns].str.endswith('female').sum())\u001b[0m\u001b[1;33m\u001b[0m\u001b[1;33m\u001b[0m\u001b[1;33m\u001b[0m\u001b[0m\n",
      "\u001b[1;31mZeroDivisionError\u001b[0m: division by zero"
     ]
    }
   ],
   "source": [
    "for columns in df_name_country:\n",
    "#     print('Female authors '+ str(columns)+'    '+str(df_name_country[columns].str.startswith('female|Pakistan').sum()))\n",
    "#     print(df_name_country[columns].str.startswith('male|Pakistan').sum())\n",
    "    femaletomale=(df_name_country[columns].str.startswith('female|Pakistan').sum()/df_name_country[columns].str.startswith('male|Pakistan').sum())*100\n",
    "    print('Pakistan '+str(int(femaletomale))+'% female '+str(int(columns)+1)+' authors')\n",
    "#     print(df_name_country[columns].str.endswith('female').sum())\n",
    "#     print(df_name_country[columns].str.endswith('male').sum())"
   ]
  },
  {
   "cell_type": "code",
   "execution_count": 401,
   "metadata": {},
   "outputs": [
    {
     "data": {
      "text/plain": [
       "0         1\n",
       "1         1\n",
       "2         1\n",
       "3         1\n",
       "4         1\n",
       "         ..\n",
       "207392    1\n",
       "207393    1\n",
       "207394    1\n",
       "207395    1\n",
       "207396    1\n",
       "Name: 0, Length: 205632, dtype: int64"
      ]
     },
     "execution_count": 401,
     "metadata": {},
     "output_type": "execute_result"
    }
   ],
   "source": [
    "df_name_country['0'].str.count('male|Karachi')"
   ]
  },
  {
   "cell_type": "code",
   "execution_count": 411,
   "metadata": {},
   "outputs": [
    {
     "data": {
      "text/plain": [
       "699"
      ]
     },
     "execution_count": 411,
     "metadata": {},
     "output_type": "execute_result"
    }
   ],
   "source": [
    "df_name_country['0'].str.startswith('male|Turkey').sum()"
   ]
  },
  {
   "cell_type": "code",
   "execution_count": 18,
   "metadata": {},
   "outputs": [],
   "source": [
    "df_name_country['n_Au']=final_df['n_Au']"
   ]
  },
  {
   "cell_type": "code",
   "execution_count": 62,
   "metadata": {},
   "outputs": [],
   "source": [
    "df_name_country['Subject']=final_df['Subject']"
   ]
  },
  {
   "cell_type": "code",
   "execution_count": 440,
   "metadata": {},
   "outputs": [
    {
     "data": {
      "text/plain": [
       "array(['AGRI', 'CHEM', 'IMMU', 'MEDI', 'DENT', 'MATH', 'ENGI', 'BIOC',\n",
       "       'ARTS', 'COMP', 'VETE', 'PHYS', 'ENER', 'PHAR', 'MATE', 'CENG',\n",
       "       'EART', 'ENVI', 'BUSI', 'SOCI', 'MULT', 'ECON', 'DECI', 'NURS',\n",
       "       'HEAL', 'PSYC', 'undefined', 'NEUR', nan], dtype=object)"
      ]
     },
     "execution_count": 440,
     "metadata": {},
     "output_type": "execute_result"
    }
   ],
   "source": [
    "df_name_country['Subject'].unique()"
   ]
  },
  {
   "cell_type": "code",
   "execution_count": 494,
   "metadata": {},
   "outputs": [
    {
     "data": {
      "text/plain": [
       "0                                  [1107]\n",
       "1                        [1600,2500,3104]\n",
       "2                        [1100,1300,1710]\n",
       "3                        [1600,2500,3104]\n",
       "4                             [2405,2725]\n",
       "                       ...               \n",
       "207392                   [2208,2500,3104]\n",
       "207393    [1303,1503,1604,1605,1606,3002]\n",
       "207394                             [2205]\n",
       "207395                             [1600]\n",
       "207396              [1702,1712,2604,2614]\n",
       "Name: ASJC_str, Length: 207397, dtype: object"
      ]
     },
     "execution_count": 494,
     "metadata": {},
     "output_type": "execute_result"
    }
   ],
   "source": [
    "data.ASJC_str"
   ]
  },
  {
   "cell_type": "code",
   "execution_count": 497,
   "metadata": {},
   "outputs": [],
   "source": [
    "decade=pd.DataFrame()"
   ]
  },
  {
   "cell_type": "code",
   "execution_count": 118,
   "metadata": {},
   "outputs": [
    {
     "data": {
      "text/plain": [
       "0.18225901253918494"
      ]
     },
     "execution_count": 118,
     "metadata": {},
     "output_type": "execute_result"
    }
   ],
   "source": [
    "OverallResults_df1['Female'].sum()/OverallResults_df1['totalauthorscount'].sum()"
   ]
  },
  {
   "cell_type": "code",
   "execution_count": null,
   "metadata": {},
   "outputs": [],
   "source": [
    "OverallResults_df['Authorship']=Authorship\n",
    "OverallResults_df['Authorship1']=Authorship1\n",
    "OverallResults_df['Male']=maleauthorscount\n",
    "OverallResults_df['Female']=femaleauthorscount\n",
    "# OverallResults_df['femaletomaleratio']=femaletomaleratio\n",
    "OverallResults_df['Female Proportion']=femalepercentage"
   ]
  },
  {
   "cell_type": "markdown",
   "metadata": {},
   "source": [
    "# Overall total gender landscape"
   ]
  },
  {
   "cell_type": "code",
   "execution_count": 108,
   "metadata": {},
   "outputs": [],
   "source": [
    "OverallResults_df.to_csv('overall_results.csv')\n",
    "maleauthorscount=[]\n",
    "totalauthorscount=[]\n",
    "femaleauthorscount=[]\n",
    "femaletomaleratio=[]\n",
    "femalepercentage=[]\n",
    "Authorship=[]\n",
    "Authorship1=[]\n",
    "\n",
    "\n",
    "df_dummy=df_name_country\n",
    "df_dummy = df_dummy[df_dummy.columns[0:12]]\n",
    "for column in df_dummy:\n",
    "    if int(column)<100:\n",
    "        maleauthors=df_dummy[column].loc[df_dummy[column]=='male|Pakistan'].count()\n",
    "        femaleauthors=df_dummy[column].loc[df_dummy[column]=='female|Pakistan'].count()\n",
    "        Totalauthors=maleauthors+femaleauthors\n",
    "        maleauthorscount.append(maleauthors)\n",
    "        femaleauthorscount.append(femaleauthors)\n",
    "        femaletomaleratio.append((femaleauthors/maleauthors))\n",
    "        femalepercentage.append(round((femaleauthors/Totalauthors)*100, 2))\n",
    "        Authorship.append(str(int(column)+1)+' Authorship')\n",
    "        print(str(int(column)+1)+' Authorship -->  Male '+str(maleauthors)+' Female '+str(femaleauthors)+' Total '+str(Totalauthors)+' male to female ratio '+str(femaleauthors/Totalauthors))\n",
    "        Authorship1.append(str(int(column)+1))"
   ]
  },
  {
   "cell_type": "code",
   "execution_count": 532,
   "metadata": {},
   "outputs": [
    {
     "name": "stdout",
     "output_type": "stream",
     "text": [
      "1 Authorship -->  Male 32660 Female 7291 Total 39951 male to female ratio 0.1824985607369027\n",
      "2 Authorship -->  Male 21419 Female 6392 Total 27811 male to female ratio 0.22983711481068642\n",
      "3 Authorship -->  Male 9285 Female 1880 Total 11165 male to female ratio 0.1683833407971339\n",
      "4 Authorship -->  Male 4047 Female 773 Total 4820 male to female ratio 0.1603734439834025\n",
      "5 Authorship -->  Male 1189 Female 268 Total 1457 male to female ratio 0.18393960192175704\n",
      "6 Authorship -->  Male 467 Female 119 Total 586 male to female ratio 0.2030716723549488\n",
      "7 Authorship -->  Male 136 Female 31 Total 167 male to female ratio 0.18562874251497005\n",
      "8 Authorship -->  Male 63 Female 20 Total 83 male to female ratio 0.24096385542168675\n",
      "9 Authorship -->  Male 23 Female 1 Total 24 male to female ratio 0.041666666666666664\n",
      "10 Authorship -->  Male 9 Female 4 Total 13 male to female ratio 0.3076923076923077\n",
      "11 Authorship -->  Male 3 Female 1 Total 4 male to female ratio 0.25\n",
      "12 Authorship -->  Male 3 Female 1 Total 4 male to female ratio 0.25\n",
      "13 Authorship -->  Male 0 Female 0 Total 0 male to female ratio nan\n",
      "14 Authorship -->  Male 1 Female 0 Total 1 male to female ratio 0.0\n",
      "15 Authorship -->  Male 0 Female 0 Total 0 male to female ratio nan\n",
      "16 Authorship -->  Male 0 Female 0 Total 0 male to female ratio nan\n",
      "17 Authorship -->  Male 0 Female 0 Total 0 male to female ratio nan\n",
      "18 Authorship -->  Male 0 Female 0 Total 0 male to female ratio nan\n",
      "19 Authorship -->  Male 0 Female 0 Total 0 male to female ratio nan\n",
      "20 Authorship -->  Male 0 Female 0 Total 0 male to female ratio nan\n",
      "21 Authorship -->  Male 0 Female 0 Total 0 male to female ratio nan"
     ]
    },
    {
     "name": "stderr",
     "output_type": "stream",
     "text": [
      "<ipython-input-532-6309ceb0a9c7>:19: RuntimeWarning: invalid value encountered in long_scalars\n",
      "  femaletomaleratio.append((femaleauthors/maleauthors))\n",
      "<ipython-input-532-6309ceb0a9c7>:20: RuntimeWarning: invalid value encountered in long_scalars\n",
      "  femalepercentage.append(round((femaleauthors/Totalauthors)*100, 2))\n",
      "<ipython-input-532-6309ceb0a9c7>:23: RuntimeWarning: invalid value encountered in long_scalars\n",
      "  print(str(int(column)+1)+' Authorship -->  Male '+str(maleauthors)+' Female '+str(femaleauthors)+' Total '+str(Totalauthors)+' male to female ratio '+str(femaleauthors/Totalauthors))\n"
     ]
    },
    {
     "name": "stdout",
     "output_type": "stream",
     "text": [
      "\n",
      "22 Authorship -->  Male 0 Female 0 Total 0 male to female ratio nan\n",
      "23 Authorship -->  Male 0 Female 0 Total 0 male to female ratio nan\n",
      "24 Authorship -->  Male 0 Female 0 Total 0 male to female ratio nan\n",
      "25 Authorship -->  Male 0 Female 0 Total 0 male to female ratio nan\n",
      "26 Authorship -->  Male 0 Female 0 Total 0 male to female ratio nan\n",
      "27 Authorship -->  Male 0 Female 0 Total 0 male to female ratio nan\n",
      "28 Authorship -->  Male 0 Female 0 Total 0 male to female ratio nan\n",
      "29 Authorship -->  Male 0 Female 0 Total 0 male to female ratio nan\n",
      "30 Authorship -->  Male 0 Female 0 Total 0 male to female ratio nan\n",
      "31 Authorship -->  Male 0 Female 0 Total 0 male to female ratio nan\n",
      "32 Authorship -->  Male 0 Female 0 Total 0 male to female ratio nan\n",
      "33 Authorship -->  Male 0 Female 0 Total 0 male to female ratio nan\n",
      "34 Authorship -->  Male 0 Female 0 Total 0 male to female ratio nan\n",
      "35 Authorship -->  Male 0 Female 0 Total 0 male to female ratio nan\n",
      "36 Authorship -->  Male 0 Female 0 Total 0 male to female ratio nan\n",
      "37 Authorship -->  Male 0 Female 0 Total 0 male to female ratio nan\n",
      "38 Authorship -->  Male 0 Female 0 Total 0 male to female ratio nan\n",
      "39 Authorship -->  Male 0 Female 0 Total 0 male to female ratio nan\n",
      "40 Authorship -->  Male 0 Female 0 Total 0 male to female ratio nan\n",
      "41 Authorship -->  Male 0 Female 0 Total 0 male to female ratio nan\n",
      "42 Authorship -->  Male 0 Female 0 Total 0 male to female ratio nan\n",
      "43 Authorship -->  Male 0 Female 0 Total 0 male to female ratio nan\n",
      "44 Authorship -->  Male 0 Female 0 Total 0 male to female ratio nan\n",
      "45 Authorship -->  Male 0 Female 0 Total 0 male to female ratio nan\n",
      "46 Authorship -->  Male 0 Female 0 Total 0 male to female ratio nan\n",
      "47 Authorship -->  Male 0 Female 0 Total 0 male to female ratio nan\n",
      "48 Authorship -->  Male 0 Female 0 Total 0 male to female ratio nan\n",
      "49 Authorship -->  Male 0 Female 0 Total 0 male to female ratio nan\n",
      "50 Authorship -->  Male 0 Female 0 Total 0 male to female ratio nan\n",
      "51 Authorship -->  Male 0 Female 0 Total 0 male to female ratio nan\n",
      "52 Authorship -->  Male 0 Female 0 Total 0 male to female ratio nan\n",
      "53 Authorship -->  Male 0 Female 0 Total 0 male to female ratio nan\n",
      "54 Authorship -->  Male 0 Female 0 Total 0 male to female ratio nan\n",
      "55 Authorship -->  Male 0 Female 0 Total 0 male to female ratio nan\n",
      "56 Authorship -->  Male 0 Female 0 Total 0 male to female ratio nan\n",
      "57 Authorship -->  Male 0 Female 0 Total 0 male to female ratio nan\n",
      "58 Authorship -->  Male 0 Female 0 Total 0 male to female ratio nan\n",
      "59 Authorship -->  Male 0 Female 0 Total 0 male to female ratio nan\n",
      "60 Authorship -->  Male 0 Female 0 Total 0 male to female ratio nan\n",
      "61 Authorship -->  Male 0 Female 0 Total 0 male to female ratio nan\n",
      "62 Authorship -->  Male 0 Female 0 Total 0 male to female ratio nan\n",
      "63 Authorship -->  Male 0 Female 0 Total 0 male to female ratio nan\n",
      "64 Authorship -->  Male 0 Female 0 Total 0 male to female ratio nan\n",
      "65 Authorship -->  Male 0 Female 0 Total 0 male to female ratio nan\n",
      "66 Authorship -->  Male 0 Female 0 Total 0 male to female ratio nan\n",
      "67 Authorship -->  Male 0 Female 0 Total 0 male to female ratio nan\n",
      "68 Authorship -->  Male 0 Female 0 Total 0 male to female ratio nan\n",
      "69 Authorship -->  Male 0 Female 0 Total 0 male to female ratio nan\n",
      "70 Authorship -->  Male 0 Female 0 Total 0 male to female ratio nan\n",
      "71 Authorship -->  Male 0 Female 0 Total 0 male to female ratio nan\n",
      "72 Authorship -->  Male 0 Female 0 Total 0 male to female ratio nan\n",
      "73 Authorship -->  Male 0 Female 0 Total 0 male to female ratio nan\n",
      "74 Authorship -->  Male 0 Female 0 Total 0 male to female ratio nan\n",
      "75 Authorship -->  Male 0 Female 0 Total 0 male to female ratio nan\n",
      "76 Authorship -->  Male 0 Female 0 Total 0 male to female ratio nan\n",
      "77 Authorship -->  Male 0 Female 0 Total 0 male to female ratio nan\n",
      "78 Authorship -->  Male 0 Female 0 Total 0 male to female ratio nan\n",
      "79 Authorship -->  Male 0 Female 0 Total 0 male to female ratio nan\n",
      "80 Authorship -->  Male 0 Female 0 Total 0 male to female ratio nan\n",
      "81 Authorship -->  Male 0 Female 0 Total 0 male to female ratio nan\n",
      "82 Authorship -->  Male 0 Female 0 Total 0 male to female ratio nan\n",
      "83 Authorship -->  Male 0 Female 0 Total 0 male to female ratio nan\n",
      "84 Authorship -->  Male 0 Female 0 Total 0 male to female ratio nan\n",
      "85 Authorship -->  Male 0 Female 0 Total 0 male to female ratio nan\n",
      "86 Authorship -->  Male 0 Female 0 Total 0 male to female ratio nan\n",
      "87 Authorship -->  Male 0 Female 0 Total 0 male to female ratio nan\n",
      "88 Authorship -->  Male 0 Female 0 Total 0 male to female ratio nan\n",
      "89 Authorship -->  Male 0 Female 0 Total 0 male to female ratio nan\n",
      "90 Authorship -->  Male 0 Female 0 Total 0 male to female ratio nan\n",
      "91 Authorship -->  Male 0 Female 0 Total 0 male to female ratio nan\n",
      "92 Authorship -->  Male 0 Female 0 Total 0 male to female ratio nan\n",
      "93 Authorship -->  Male 0 Female 0 Total 0 male to female ratio nan\n",
      "94 Authorship -->  Male 0 Female 0 Total 0 male to female ratio nan\n",
      "95 Authorship -->  Male 0 Female 0 Total 0 male to female ratio nan\n",
      "96 Authorship -->  Male 0 Female 0 Total 0 male to female ratio nan\n",
      "97 Authorship -->  Male 0 Female 0 Total 0 male to female ratio nan\n",
      "98 Authorship -->  Male 0 Female 0 Total 0 male to female ratio nan\n",
      "99 Authorship -->  Male 0 Female 0 Total 0 male to female ratio nan\n",
      "100 Authorship -->  Male 0 Female 0 Total 0 male to female ratio nan\n",
      "101 Authorship -->  Male 0 Female 0 Total 0 male to female ratio nan\n",
      "102 Authorship -->  Male 0 Female 0 Total 0 male to female ratio nan\n",
      "103 Authorship -->  Male 0 Female 0 Total 0 male to female ratio nan\n",
      "104 Authorship -->  Male 0 Female 0 Total 0 male to female ratio nan\n",
      "105 Authorship -->  Male 0 Female 0 Total 0 male to female ratio nan\n",
      "106 Authorship -->  Male 0 Female 0 Total 0 male to female ratio nan\n",
      "107 Authorship -->  Male 0 Female 0 Total 0 male to female ratio nan\n",
      "108 Authorship -->  Male 0 Female 0 Total 0 male to female ratio nan\n",
      "109 Authorship -->  Male 0 Female 0 Total 0 male to female ratio nan\n",
      "110 Authorship -->  Male 0 Female 0 Total 0 male to female ratio nan\n",
      "111 Authorship -->  Male 0 Female 0 Total 0 male to female ratio nan\n",
      "112 Authorship -->  Male 0 Female 0 Total 0 male to female ratio nan\n",
      "113 Authorship -->  Male 0 Female 0 Total 0 male to female ratio nan\n",
      "114 Authorship -->  Male 0 Female 0 Total 0 male to female ratio nan\n",
      "115 Authorship -->  Male 0 Female 0 Total 0 male to female ratio nan\n",
      "116 Authorship -->  Male 0 Female 0 Total 0 male to female ratio nan\n",
      "117 Authorship -->  Male 0 Female 0 Total 0 male to female ratio nan\n",
      "118 Authorship -->  Male 0 Female 0 Total 0 male to female ratio nan\n",
      "119 Authorship -->  Male 0 Female 0 Total 0 male to female ratio nan\n",
      "120 Authorship -->  Male 0 Female 0 Total 0 male to female ratio nan\n",
      "121 Authorship -->  Male 0 Female 0 Total 0 male to female ratio nan\n",
      "122 Authorship -->  Male 0 Female 0 Total 0 male to female ratio nan\n",
      "123 Authorship -->  Male 0 Female 0 Total 0 male to female ratio nan\n",
      "124 Authorship -->  Male 0 Female 0 Total 0 male to female ratio nan\n",
      "125 Authorship -->  Male 0 Female 0 Total 0 male to female ratio nan\n",
      "126 Authorship -->  Male 0 Female 0 Total 0 male to female ratio nan\n",
      "127 Authorship -->  Male 0 Female 0 Total 0 male to female ratio nan\n",
      "128 Authorship -->  Male 0 Female 0 Total 0 male to female ratio nan\n",
      "129 Authorship -->  Male 0 Female 0 Total 0 male to female ratio nan\n",
      "130 Authorship -->  Male 0 Female 0 Total 0 male to female ratio nan\n",
      "131 Authorship -->  Male 0 Female 0 Total 0 male to female ratio nan\n",
      "132 Authorship -->  Male 0 Female 0 Total 0 male to female ratio nan\n",
      "133 Authorship -->  Male 0 Female 0 Total 0 male to female ratio nan\n",
      "134 Authorship -->  Male 0 Female 0 Total 0 male to female ratio nan\n",
      "135 Authorship -->  Male 0 Female 0 Total 0 male to female ratio nan\n",
      "136 Authorship -->  Male 0 Female 0 Total 0 male to female ratio nan\n",
      "137 Authorship -->  Male 0 Female 0 Total 0 male to female ratio nan\n",
      "138 Authorship -->  Male 0 Female 0 Total 0 male to female ratio nan\n",
      "139 Authorship -->  Male 0 Female 0 Total 0 male to female ratio nan\n",
      "140 Authorship -->  Male 0 Female 0 Total 0 male to female ratio nan\n",
      "141 Authorship -->  Male 0 Female 0 Total 0 male to female ratio nan\n",
      "142 Authorship -->  Male 0 Female 0 Total 0 male to female ratio nan\n",
      "143 Authorship -->  Male 0 Female 0 Total 0 male to female ratio nan\n",
      "144 Authorship -->  Male 0 Female 0 Total 0 male to female ratio nan\n",
      "145 Authorship -->  Male 0 Female 0 Total 0 male to female ratio nan\n",
      "146 Authorship -->  Male 0 Female 0 Total 0 male to female ratio nan\n"
     ]
    },
    {
     "name": "stdout",
     "output_type": "stream",
     "text": [
      "147 Authorship -->  Male 0 Female 0 Total 0 male to female ratio nan\n",
      "148 Authorship -->  Male 0 Female 0 Total 0 male to female ratio nan\n",
      "149 Authorship -->  Male 0 Female 0 Total 0 male to female ratio nan\n",
      "150 Authorship -->  Male 0 Female 0 Total 0 male to female ratio nan\n",
      "151 Authorship -->  Male 0 Female 0 Total 0 male to female ratio nan\n",
      "152 Authorship -->  Male 0 Female 0 Total 0 male to female ratio nan\n",
      "153 Authorship -->  Male 0 Female 0 Total 0 male to female ratio nan\n",
      "154 Authorship -->  Male 0 Female 0 Total 0 male to female ratio nan\n",
      "155 Authorship -->  Male 0 Female 0 Total 0 male to female ratio nan\n",
      "156 Authorship -->  Male 0 Female 0 Total 0 male to female ratio nan\n",
      "157 Authorship -->  Male 0 Female 0 Total 0 male to female ratio nan\n",
      "158 Authorship -->  Male 0 Female 0 Total 0 male to female ratio nan\n",
      "159 Authorship -->  Male 0 Female 0 Total 0 male to female ratio nan\n",
      "160 Authorship -->  Male 0 Female 0 Total 0 male to female ratio nan\n",
      "161 Authorship -->  Male 0 Female 0 Total 0 male to female ratio nan\n",
      "162 Authorship -->  Male 0 Female 0 Total 0 male to female ratio nan\n",
      "163 Authorship -->  Male 0 Female 0 Total 0 male to female ratio nan\n",
      "164 Authorship -->  Male 0 Female 0 Total 0 male to female ratio nan\n",
      "165 Authorship -->  Male 0 Female 0 Total 0 male to female ratio nan\n",
      "166 Authorship -->  Male 0 Female 0 Total 0 male to female ratio nan\n",
      "167 Authorship -->  Male 0 Female 0 Total 0 male to female ratio nan\n",
      "168 Authorship -->  Male 0 Female 0 Total 0 male to female ratio nan\n",
      "169 Authorship -->  Male 0 Female 0 Total 0 male to female ratio nan\n",
      "170 Authorship -->  Male 0 Female 0 Total 0 male to female ratio nan\n",
      "171 Authorship -->  Male 0 Female 0 Total 0 male to female ratio nan\n",
      "172 Authorship -->  Male 0 Female 0 Total 0 male to female ratio nan\n",
      "173 Authorship -->  Male 0 Female 0 Total 0 male to female ratio nan\n",
      "174 Authorship -->  Male 0 Female 0 Total 0 male to female ratio nan\n",
      "175 Authorship -->  Male 0 Female 0 Total 0 male to female ratio nan\n",
      "176 Authorship -->  Male 0 Female 0 Total 0 male to female ratio nan\n",
      "177 Authorship -->  Male 0 Female 0 Total 0 male to female ratio nan\n",
      "178 Authorship -->  Male 0 Female 0 Total 0 male to female ratio nan\n",
      "179 Authorship -->  Male 0 Female 0 Total 0 male to female ratio nan\n",
      "180 Authorship -->  Male 0 Female 0 Total 0 male to female ratio nan\n",
      "181 Authorship -->  Male 0 Female 0 Total 0 male to female ratio nan\n",
      "182 Authorship -->  Male 0 Female 0 Total 0 male to female ratio nan\n",
      "183 Authorship -->  Male 0 Female 0 Total 0 male to female ratio nan\n",
      "184 Authorship -->  Male 0 Female 0 Total 0 male to female ratio nan\n",
      "185 Authorship -->  Male 0 Female 0 Total 0 male to female ratio nan\n",
      "186 Authorship -->  Male 0 Female 0 Total 0 male to female ratio nan\n",
      "187 Authorship -->  Male 0 Female 0 Total 0 male to female ratio nan\n",
      "188 Authorship -->  Male 0 Female 0 Total 0 male to female ratio nan\n",
      "189 Authorship -->  Male 0 Female 0 Total 0 male to female ratio nan\n",
      "190 Authorship -->  Male 0 Female 0 Total 0 male to female ratio nan\n",
      "191 Authorship -->  Male 0 Female 0 Total 0 male to female ratio nan\n",
      "192 Authorship -->  Male 0 Female 0 Total 0 male to female ratio nan\n",
      "193 Authorship -->  Male 0 Female 0 Total 0 male to female ratio nan\n",
      "194 Authorship -->  Male 0 Female 0 Total 0 male to female ratio nan\n",
      "195 Authorship -->  Male 0 Female 0 Total 0 male to female ratio nan\n",
      "196 Authorship -->  Male 0 Female 0 Total 0 male to female ratio nan\n"
     ]
    }
   ],
   "source": [
    "maleauthorscount=[]\n",
    "totalauthorscount=[]\n",
    "femaleauthorscount=[]\n",
    "femaletomaleratio=[]\n",
    "femalepercentage=[]\n",
    "Authorship=[]\n",
    "Authorship1=[]\n",
    "\n",
    "\n",
    "df_dummy=df_name_region\n",
    "df_dummy = df_dummy[df_dummy.columns[0:196]]\n",
    "for column in df_dummy:\n",
    "    if int(column)<196:\n",
    "        maleauthors=df_dummy[column].loc[df_dummy[column]=='male|Punjab'].count()\n",
    "        femaleauthors=df_dummy[column].loc[df_dummy[column]=='female|Punjab'].count()\n",
    "        Totalauthors=maleauthors+femaleauthors\n",
    "        maleauthorscount.append(maleauthors)\n",
    "        femaleauthorscount.append(femaleauthors)\n",
    "        femaletomaleratio.append((femaleauthors/maleauthors))\n",
    "        femalepercentage.append(round((femaleauthors/Totalauthors)*100, 2))\n",
    "        totalauthorscount.append(Totalauthors)\n",
    "        Authorship.append(str(int(column)+1)+' Authorship')\n",
    "        print(str(int(column)+1)+' Authorship -->  Male '+str(maleauthors)+' Female '+str(femaleauthors)+' Total '+str(Totalauthors)+' male to female ratio '+str(femaleauthors/Totalauthors))\n",
    "        Authorship1.append(str(int(column)+1))"
   ]
  },
  {
   "cell_type": "code",
   "execution_count": 556,
   "metadata": {},
   "outputs": [
    {
     "name": "stdout",
     "output_type": "stream",
     "text": [
      "196 Authorship -->  Male 3704 Female 1335 Total 5039 male to female ratio 0.2649335185552689\n"
     ]
    }
   ],
   "source": [
    "\n",
    "\n",
    "maleauthors=df_dummy['LastAuthor'].loc[df_dummy['LastAuthor']=='male|Punjab'].count()\n",
    "femaleauthors=df_dummy['LastAuthor'].loc[df_dummy['LastAuthor']=='female|Punjab'].count()\n",
    "Totalauthors=maleauthors+femaleauthors\n",
    "print(str(int(column)+1)+' Authorship -->  Male '+str(maleauthors)+' Female '+str(femaleauthors)+' Total '+str(Totalauthors)+' male to female ratio '+str(femaleauthors/Totalauthors))\n"
   ]
  },
  {
   "cell_type": "code",
   "execution_count": 661,
   "metadata": {},
   "outputs": [],
   "source": [
    "df_name_university2 = df_name_university.replace('None|', np.nan)"
   ]
  },
  {
   "cell_type": "code",
   "execution_count": 37,
   "metadata": {},
   "outputs": [],
   "source": [
    "df_name_country['Subject']=final_df['Subject']"
   ]
  },
  {
   "cell_type": "code",
   "execution_count": 565,
   "metadata": {},
   "outputs": [],
   "source": [
    "df_name_country=pd.read_csv('df_name_country.csv')"
   ]
  },
  {
   "cell_type": "code",
   "execution_count": 566,
   "metadata": {},
   "outputs": [],
   "source": [
    "zz=df_name_country.replace( {r\"[a-zA-Z] *\" }, inplace= True, regex = True)"
   ]
  },
  {
   "cell_type": "code",
   "execution_count": 38,
   "metadata": {},
   "outputs": [],
   "source": [
    "df_name_country.to_csv('df_name_country.csv')"
   ]
  },
  {
   "cell_type": "code",
   "execution_count": 135,
   "metadata": {},
   "outputs": [],
   "source": [
    "df_decade.to_csv('overall_result_subject_category_based.csv')\n",
    "df_decade=pd.DataFrame()\n",
    "\n",
    "decade=1950\n",
    "while decade<2021:\n",
    "    \n",
    "\n",
    "\n",
    "    df_dummy=df_name_country.loc[(df_name_country['pub_year']>decade) & (df_name_country['pub_year']<(decade+100))]\n",
    "    \n",
    "    print('Publication decade '+str(int(decade))+'  ')\n",
    "    \n",
    "#     df_dummy=df_name_country.loc[df_name_country['pub_year']==x]\n",
    "    df_dummy1=df_dummy\n",
    "    df_dummy = df_dummy[df_dummy.columns[0:3]]\n",
    "    for column in df_dummy:\n",
    "        if int(column)<10:\n",
    "            maleauthorscount=[]\n",
    "            totalauthorscount=[]\n",
    "            femaleauthorscount=[]\n",
    "            femaletomaleratio=[]\n",
    "            femalepercentage=[]\n",
    "            Subject=[]\n",
    "\n",
    "            maleauthors=df_dummy[column].loc[df_dummy[column]=='male|Pakistan'].count()\n",
    "            femaleauthors=df_dummy[column].loc[df_dummy[column]=='female|Pakistan'].count()\n",
    "            Totalauthors=maleauthors+femaleauthors\n",
    "            maleauthorscount.append(maleauthors)\n",
    "            femaleauthorscount.append(femaleauthors)\n",
    "            femaletomaleratio.append(femaleauthors/maleauthors)\n",
    "            femalepercentage.append(femaleauthors/Totalauthors)\n",
    "            print(str(int(column)+1)+' Authorship -->  Male '+str(maleauthors)+' Female '+str(femaleauthors)+' Total '+str(Totalauthors)+' male to female ratio '+str(femaleauthors/maleauthors))\n",
    "            maleauthorscount1=[]\n",
    "            Subject_papers_count=[]\n",
    "            femaleauthorscount1=[]\n",
    "            femaletomaleratio1=[]\n",
    "            femalepercentage1=[]\n",
    "            maleauthorscount2=[]\n",
    "            femaleauthorscount2=[]\n",
    "            femaletomaleratio2=[]\n",
    "            femalepercentage2=[]\n",
    "            maleauthorscount3=[]\n",
    "            femaleauthorscount3=[]\n",
    "            femaletomaleratio3=[]\n",
    "            femalepercentage3=[]\n",
    "            decadelist=[]\n",
    "            for x in df_dummy1['Subject'].unique():\n",
    "                Subject.append(x)\n",
    "                decadelist.append(str(decade)+'-'+str((decade+10)))\n",
    "  \n",
    "                print(str(x)+' count is '+str(df_dummy1['Subject'].loc[df_dummy1['Subject'].str.contains(x)].count()))\n",
    "                Subject_papers_count.append(df_dummy1['Subject'].loc[df_dummy1['Subject'].str.contains(x)].count())\n",
    "                \n",
    "                df_dummy=df_dummy1.loc[df_dummy1['Subject'].str.contains(x)]\n",
    "                df_dummy = df_dummy[df_dummy.columns[0:3]]\n",
    "                for column in df_dummy:\n",
    "                    if int(column)<10:\n",
    "                        if int(column)==0:\n",
    "\n",
    "                            maleauthors=df_dummy[column].loc[df_dummy[column]=='male|Pakistan'].count()\n",
    "                            femaleauthors=df_dummy[column].loc[df_dummy[column]=='female|Pakistan'].count()\n",
    "                            Totalauthors=maleauthors+femaleauthors\n",
    "                            maleauthorscount1.append(maleauthors)\n",
    "                            femaleauthorscount1.append(femaleauthors)\n",
    "                            femaletomaleratio1.append(femaleauthors/maleauthors)\n",
    "                            femalepercentage1.append(round((femaleauthors/Totalauthors)*100, 2))\n",
    "                        if int(column)==1:\n",
    "\n",
    "                            maleauthors=df_dummy[column].loc[df_dummy[column]=='male|Pakistan'].count()\n",
    "                            femaleauthors=df_dummy[column].loc[df_dummy[column]=='female|Pakistan'].count()\n",
    "                            Totalauthors=maleauthors+femaleauthors\n",
    "                            maleauthorscount2.append(maleauthors)\n",
    "                            femaleauthorscount2.append(femaleauthors)\n",
    "                            femaletomaleratio2.append(femaleauthors/maleauthors)\n",
    "                            femalepercentage2.append(round((femaleauthors/Totalauthors)*100, 2))\n",
    "                        if int(column)==2:\n",
    "\n",
    "                            maleauthors=df_dummy[column].loc[df_dummy[column]=='male|Pakistan'].count()\n",
    "                            femaleauthors=df_dummy[column].loc[df_dummy[column]=='female|Pakistan'].count()\n",
    "                            Totalauthors=maleauthors+femaleauthors\n",
    "                            maleauthorscount3.append(maleauthors)\n",
    "                            femaleauthorscount3.append(femaleauthors)\n",
    "                            femaletomaleratio3.append(femaleauthors/maleauthors)\n",
    "                            femalepercentage3.append(round((femaleauthors/Totalauthors)*100, 2))\n",
    "\n",
    "                        print(str(int(column)+1)+' Authorship -->  Male '+str(maleauthors)+' Female '+str(femaleauthors)+' Total '+str(Totalauthors)+' male to female ratio '+str(((femaleauthors/maleauthors)*100)))\n",
    "            \n",
    "        df_decade['Subject']=Subject\n",
    "        df_decade['# of papers']=Subject_papers_count\n",
    "        df_decade[str(decade)+'Male (1)']=maleauthorscount1\n",
    "        df_decade[str(decade)+'female1 (1)']=femaleauthorscount1\n",
    "        df_decade[str(decade)+'Proportion1 (1)']=femalepercentage1\n",
    "        df_decade[str(decade)+'Male (2)']=maleauthorscount2\n",
    "        df_decade[str(decade)+'female (2)']=femaleauthorscount2\n",
    "        df_decade[str(decade)+'Proportion (2)']=femalepercentage2\n",
    "        df_decade[str(decade)+'Male (3)']=maleauthorscount3\n",
    "        df_decade[str(decade)+'female (3)']=femaleauthorscount3\n",
    "        df_decade[str(decade)+'Proportion (3)']=femalepercentage3\n",
    "#         df_decade.to_csv('decade_2020'+str(decade)+'.csv')\n",
    "            \n",
    "            \n",
    "\n",
    "    decade=decade+100"
   ]
  },
  {
   "cell_type": "code",
   "execution_count": 505,
   "metadata": {},
   "outputs": [
    {
     "name": "stdout",
     "output_type": "stream",
     "text": [
      "Publication decade 1950  \n",
      "1 Authorship -->  Male 113110 Female 25359 Total 138469 male to female ratio 0.22419768367076298\n",
      "AGRI count is 28230\n",
      "1 Authorship -->  Male 18155 Female 3992 Total 22147 male to female ratio 21.988432938584413\n",
      "2 Authorship -->  Male 11008 Female 2396 Total 13404 male to female ratio 21.765988372093023\n",
      "3 Authorship -->  Male 4949 Female 1034 Total 5983 male to female ratio 20.89310971913518\n",
      "CHEM count is 12696\n",
      "1 Authorship -->  Male 7981 Female 1713 Total 9694 male to female ratio 21.46347575491793\n",
      "2 Authorship -->  Male 4589 Female 1001 Total 5590 male to female ratio 21.813031161473088\n",
      "3 Authorship -->  Male 2090 Female 435 Total 2525 male to female ratio 20.813397129186605\n",
      "IMMU count is 2068\n",
      "1 Authorship -->  Male 1155 Female 244 Total 1399 male to female ratio 21.125541125541126\n",
      "2 Authorship -->  Male 749 Female 145 Total 894 male to female ratio 19.359145527369826\n",
      "3 Authorship -->  Male 397 Female 72 Total 469 male to female ratio 18.1360201511335\n",
      "MEDI count is 36899\n",
      "1 Authorship -->  Male 25567 Female 5708 Total 31275 male to female ratio 22.325654163570228\n",
      "2 Authorship -->  Male 11568 Female 2610 Total 14178 male to female ratio 22.562240663900415\n",
      "3 Authorship -->  Male 5265 Female 1051 Total 6316 male to female ratio 19.96201329534663\n",
      "DENT count is 347\n",
      "1 Authorship -->  Male 171 Female 48 Total 219 male to female ratio 28.07017543859649\n",
      "2 Authorship -->  Male 119 Female 26 Total 145 male to female ratio 21.84873949579832\n",
      "3 Authorship -->  Male 64 Female 14 Total 78 male to female ratio 21.875\n",
      "MATH count is 5700\n",
      "1 Authorship -->  Male 3178 Female 693 Total 3871 male to female ratio 21.80616740088106\n",
      "2 Authorship -->  Male 1570 Female 311 Total 1881 male to female ratio 19.80891719745223\n",
      "3 Authorship -->  Male 556 Female 119 Total 675 male to female ratio 21.402877697841728\n",
      "ENGI count is 13232\n",
      "1 Authorship -->  Male 7769 Female 1723 Total 9492 male to female ratio 22.177886471875404\n",
      "2 Authorship -->  Male 3850 Female 857 Total 4707 male to female ratio 22.25974025974026\n",
      "3 Authorship -->  Male 1437 Female 278 Total 1715 male to female ratio 19.345859429366737\n",
      "ARTS count is 1602\n",
      "1 Authorship -->  Male 1007 Female 262 Total 1269 male to female ratio 26.01787487586892\n",
      "2 Authorship -->  Male 399 Female 92 Total 491 male to female ratio 23.05764411027569\n",
      "3 Authorship -->  Male 129 Female 22 Total 151 male to female ratio 17.05426356589147\n",
      "COMP count is 22119\n",
      "1 Authorship -->  Male 13656 Female 3119 Total 16775 male to female ratio 22.839777387229056\n",
      "2 Authorship -->  Male 6402 Female 1312 Total 7714 male to female ratio 20.49359575132771\n",
      "3 Authorship -->  Male 2105 Female 454 Total 2559 male to female ratio 21.567695961995252\n",
      "BIOC count is 11875\n",
      "1 Authorship -->  Male 6437 Female 1473 Total 7910 male to female ratio 22.883330744135467\n",
      "2 Authorship -->  Male 4129 Female 914 Total 5043 male to female ratio 22.1361104383628\n",
      "3 Authorship -->  Male 2077 Female 424 Total 2501 male to female ratio 20.414058738565238\n",
      "VETE count is 809\n",
      "1 Authorship -->  Male 568 Female 120 Total 688 male to female ratio 21.12676056338028\n",
      "2 Authorship -->  Male 424 Female 78 Total 502 male to female ratio 18.39622641509434\n",
      "3 Authorship -->  Male 211 Female 38 Total 249 male to female ratio 18.009478672985782\n",
      "PHYS count is 6690\n",
      "1 Authorship -->  Male 3949 Female 973 Total 4922 male to female ratio 24.63914915168397\n",
      "2 Authorship -->  Male 1864 Female 412 Total 2276 male to female ratio 22.103004291845494\n",
      "3 Authorship -->  Male 745 Female 132 Total 877 male to female ratio 17.71812080536913\n",
      "ENER count is 3540\n",
      "1 Authorship -->  Male 1864 Female 429 Total 2293 male to female ratio 23.015021459227466\n",
      "2 Authorship -->  Male 1154 Female 217 Total 1371 male to female ratio 18.80415944540728\n",
      "3 Authorship -->  Male 434 Female 80 Total 514 male to female ratio 18.433179723502306\n",
      "PHAR count is 4316\n",
      "1 Authorship -->  Male 3025 Female 675 Total 3700 male to female ratio 22.31404958677686\n",
      "2 Authorship -->  Male 1997 Female 460 Total 2457 male to female ratio 23.034551827741613\n",
      "3 Authorship -->  Male 1060 Female 204 Total 1264 male to female ratio 19.245283018867926\n",
      "MATE count is 3241\n",
      "1 Authorship -->  Male 1863 Female 413 Total 2276 male to female ratio 22.168545356951157\n",
      "2 Authorship -->  Male 1149 Female 248 Total 1397 male to female ratio 21.583986074847694\n",
      "3 Authorship -->  Male 522 Female 107 Total 629 male to female ratio 20.49808429118774\n",
      "CENG count is 5805\n",
      "1 Authorship -->  Male 3025 Female 714 Total 3739 male to female ratio 23.60330578512397\n",
      "2 Authorship -->  Male 1920 Female 417 Total 2337 male to female ratio 21.71875\n",
      "3 Authorship -->  Male 862 Female 194 Total 1056 male to female ratio 22.505800464037122\n",
      "EART count is 3652\n",
      "1 Authorship -->  Male 1909 Female 425 Total 2334 male to female ratio 22.262964903090623\n",
      "2 Authorship -->  Male 1047 Female 209 Total 1256 male to female ratio 19.961795606494746\n",
      "3 Authorship -->  Male 455 Female 95 Total 550 male to female ratio 20.87912087912088\n",
      "ENVI count is 3838\n",
      "1 Authorship -->  Male 2051 Female 432 Total 2483 male to female ratio 21.062896148220382\n",
      "2 Authorship -->  Male 1376 Female 314 Total 1690 male to female ratio 22.819767441860463\n",
      "3 Authorship -->  Male 671 Female 149 Total 820 male to female ratio 22.205663189269746\n",
      "BUSI count is 3949\n",
      "1 Authorship -->  Male 2268 Female 553 Total 2821 male to female ratio 24.382716049382715\n",
      "2 Authorship -->  Male 1163 Female 241 Total 1404 male to female ratio 20.72226999140155\n",
      "3 Authorship -->  Male 431 Female 104 Total 535 male to female ratio 24.129930394431554\n",
      "SOCI count is 3391\n",
      "1 Authorship -->  Male 2404 Female 522 Total 2926 male to female ratio 21.713810316139767\n",
      "2 Authorship -->  Male 835 Female 148 Total 983 male to female ratio 17.724550898203592\n",
      "3 Authorship -->  Male 225 Female 52 Total 277 male to female ratio 23.11111111111111\n",
      "ECON count is 1411\n",
      "1 Authorship -->  Male 790 Female 180 Total 970 male to female ratio 22.78481012658228\n",
      "2 Authorship -->  Male 400 Female 85 Total 485 male to female ratio 21.25\n",
      "3 Authorship -->  Male 139 Female 31 Total 170 male to female ratio 22.302158273381295\n",
      "MULT count is 3532\n",
      "1 Authorship -->  Male 2272 Female 498 Total 2770 male to female ratio 21.919014084507044\n",
      "2 Authorship -->  Male 1117 Female 235 Total 1352 male to female ratio 21.038495971351836\n",
      "3 Authorship -->  Male 398 Female 79 Total 477 male to female ratio 19.849246231155778\n",
      "DECI count is 574\n",
      "1 Authorship -->  Male 359 Female 72 Total 431 male to female ratio 20.055710306406684\n",
      "2 Authorship -->  Male 186 Female 32 Total 218 male to female ratio 17.20430107526882\n",
      "3 Authorship -->  Male 54 Female 24 Total 78 male to female ratio 44.44444444444444\n",
      "HEAL count is 487\n",
      "1 Authorship -->  Male 281 Female 52 Total 333 male to female ratio 18.505338078291814\n",
      "2 Authorship -->  Male 183 Female 30 Total 213 male to female ratio 16.39344262295082\n",
      "3 Authorship -->  Male 91 Female 13 Total 104 male to female ratio 14.285714285714285\n",
      "NURS count is 1207\n",
      "1 Authorship -->  Male 901 Female 212 Total 1113 male to female ratio 23.52941176470588\n",
      "2 Authorship -->  Male 227 Female 60 Total 287 male to female ratio 26.431718061674008\n",
      "3 Authorship -->  Male 71 Female 19 Total 90 male to female ratio 26.76056338028169\n",
      "PSYC count is 511\n",
      "1 Authorship -->  Male 312 Female 71 Total 383 male to female ratio 22.756410256410255\n",
      "2 Authorship -->  Male 130 Female 24 Total 154 male to female ratio 18.461538461538463\n",
      "3 Authorship -->  Male 36 Female 13 Total 49 male to female ratio 36.11111111111111\n",
      "undefined count is 110\n",
      "1 Authorship -->  Male 79 Female 20 Total 99 male to female ratio 25.31645569620253\n",
      "2 Authorship -->  Male 37 Female 9 Total 46 male to female ratio 24.324324324324326\n",
      "3 Authorship -->  Male 11 Female 3 Total 14 male to female ratio 27.27272727272727\n",
      "NEUR count is 258\n",
      "1 Authorship -->  Male 114 Female 23 Total 137 male to female ratio 20.175438596491226\n",
      "2 Authorship -->  Male 77 Female 13 Total 90 male to female ratio 16.883116883116884\n",
      "3 Authorship -->  Male 39 Female 6 Total 45 male to female ratio 15.384615384615385\n",
      "2 Authorship -->  Male 77 Female 13 Total 90 male to female ratio 0.16883116883116883\n",
      "AGRI count is 28230\n",
      "1 Authorship -->  Male 18155 Female 3992 Total 22147 male to female ratio 21.988432938584413\n",
      "2 Authorship -->  Male 11008 Female 2396 Total 13404 male to female ratio 21.765988372093023\n",
      "3 Authorship -->  Male 4949 Female 1034 Total 5983 male to female ratio 20.89310971913518\n",
      "CHEM count is 12696\n"
     ]
    },
    {
     "name": "stdout",
     "output_type": "stream",
     "text": [
      "1 Authorship -->  Male 7981 Female 1713 Total 9694 male to female ratio 21.46347575491793\n",
      "2 Authorship -->  Male 4589 Female 1001 Total 5590 male to female ratio 21.813031161473088\n",
      "3 Authorship -->  Male 2090 Female 435 Total 2525 male to female ratio 20.813397129186605\n",
      "IMMU count is 2068\n",
      "1 Authorship -->  Male 1155 Female 244 Total 1399 male to female ratio 21.125541125541126\n",
      "2 Authorship -->  Male 749 Female 145 Total 894 male to female ratio 19.359145527369826\n",
      "3 Authorship -->  Male 397 Female 72 Total 469 male to female ratio 18.1360201511335\n",
      "MEDI count is 36899\n",
      "1 Authorship -->  Male 25567 Female 5708 Total 31275 male to female ratio 22.325654163570228\n",
      "2 Authorship -->  Male 11568 Female 2610 Total 14178 male to female ratio 22.562240663900415\n",
      "3 Authorship -->  Male 5265 Female 1051 Total 6316 male to female ratio 19.96201329534663\n",
      "DENT count is 347\n",
      "1 Authorship -->  Male 171 Female 48 Total 219 male to female ratio 28.07017543859649\n",
      "2 Authorship -->  Male 119 Female 26 Total 145 male to female ratio 21.84873949579832\n",
      "3 Authorship -->  Male 64 Female 14 Total 78 male to female ratio 21.875\n",
      "MATH count is 5700\n",
      "1 Authorship -->  Male 3178 Female 693 Total 3871 male to female ratio 21.80616740088106\n",
      "2 Authorship -->  Male 1570 Female 311 Total 1881 male to female ratio 19.80891719745223\n",
      "3 Authorship -->  Male 556 Female 119 Total 675 male to female ratio 21.402877697841728\n",
      "ENGI count is 13232\n",
      "1 Authorship -->  Male 7769 Female 1723 Total 9492 male to female ratio 22.177886471875404\n",
      "2 Authorship -->  Male 3850 Female 857 Total 4707 male to female ratio 22.25974025974026\n",
      "3 Authorship -->  Male 1437 Female 278 Total 1715 male to female ratio 19.345859429366737\n",
      "ARTS count is 1602\n",
      "1 Authorship -->  Male 1007 Female 262 Total 1269 male to female ratio 26.01787487586892\n",
      "2 Authorship -->  Male 399 Female 92 Total 491 male to female ratio 23.05764411027569\n",
      "3 Authorship -->  Male 129 Female 22 Total 151 male to female ratio 17.05426356589147\n",
      "COMP count is 22119\n",
      "1 Authorship -->  Male 13656 Female 3119 Total 16775 male to female ratio 22.839777387229056\n",
      "2 Authorship -->  Male 6402 Female 1312 Total 7714 male to female ratio 20.49359575132771\n",
      "3 Authorship -->  Male 2105 Female 454 Total 2559 male to female ratio 21.567695961995252\n",
      "BIOC count is 11875\n",
      "1 Authorship -->  Male 6437 Female 1473 Total 7910 male to female ratio 22.883330744135467\n",
      "2 Authorship -->  Male 4129 Female 914 Total 5043 male to female ratio 22.1361104383628\n",
      "3 Authorship -->  Male 2077 Female 424 Total 2501 male to female ratio 20.414058738565238\n",
      "VETE count is 809\n",
      "1 Authorship -->  Male 568 Female 120 Total 688 male to female ratio 21.12676056338028\n",
      "2 Authorship -->  Male 424 Female 78 Total 502 male to female ratio 18.39622641509434\n",
      "3 Authorship -->  Male 211 Female 38 Total 249 male to female ratio 18.009478672985782\n",
      "PHYS count is 6690\n",
      "1 Authorship -->  Male 3949 Female 973 Total 4922 male to female ratio 24.63914915168397\n",
      "2 Authorship -->  Male 1864 Female 412 Total 2276 male to female ratio 22.103004291845494\n",
      "3 Authorship -->  Male 745 Female 132 Total 877 male to female ratio 17.71812080536913\n",
      "ENER count is 3540\n",
      "1 Authorship -->  Male 1864 Female 429 Total 2293 male to female ratio 23.015021459227466\n",
      "2 Authorship -->  Male 1154 Female 217 Total 1371 male to female ratio 18.80415944540728\n",
      "3 Authorship -->  Male 434 Female 80 Total 514 male to female ratio 18.433179723502306\n",
      "PHAR count is 4316\n",
      "1 Authorship -->  Male 3025 Female 675 Total 3700 male to female ratio 22.31404958677686\n",
      "2 Authorship -->  Male 1997 Female 460 Total 2457 male to female ratio 23.034551827741613\n",
      "3 Authorship -->  Male 1060 Female 204 Total 1264 male to female ratio 19.245283018867926\n",
      "MATE count is 3241\n",
      "1 Authorship -->  Male 1863 Female 413 Total 2276 male to female ratio 22.168545356951157\n",
      "2 Authorship -->  Male 1149 Female 248 Total 1397 male to female ratio 21.583986074847694\n",
      "3 Authorship -->  Male 522 Female 107 Total 629 male to female ratio 20.49808429118774\n",
      "CENG count is 5805\n",
      "1 Authorship -->  Male 3025 Female 714 Total 3739 male to female ratio 23.60330578512397\n",
      "2 Authorship -->  Male 1920 Female 417 Total 2337 male to female ratio 21.71875\n",
      "3 Authorship -->  Male 862 Female 194 Total 1056 male to female ratio 22.505800464037122\n",
      "EART count is 3652\n",
      "1 Authorship -->  Male 1909 Female 425 Total 2334 male to female ratio 22.262964903090623\n",
      "2 Authorship -->  Male 1047 Female 209 Total 1256 male to female ratio 19.961795606494746\n",
      "3 Authorship -->  Male 455 Female 95 Total 550 male to female ratio 20.87912087912088\n",
      "ENVI count is 3838\n",
      "1 Authorship -->  Male 2051 Female 432 Total 2483 male to female ratio 21.062896148220382\n",
      "2 Authorship -->  Male 1376 Female 314 Total 1690 male to female ratio 22.819767441860463\n",
      "3 Authorship -->  Male 671 Female 149 Total 820 male to female ratio 22.205663189269746\n",
      "BUSI count is 3949\n",
      "1 Authorship -->  Male 2268 Female 553 Total 2821 male to female ratio 24.382716049382715\n",
      "2 Authorship -->  Male 1163 Female 241 Total 1404 male to female ratio 20.72226999140155\n",
      "3 Authorship -->  Male 431 Female 104 Total 535 male to female ratio 24.129930394431554\n",
      "SOCI count is 3391\n",
      "1 Authorship -->  Male 2404 Female 522 Total 2926 male to female ratio 21.713810316139767\n",
      "2 Authorship -->  Male 835 Female 148 Total 983 male to female ratio 17.724550898203592\n",
      "3 Authorship -->  Male 225 Female 52 Total 277 male to female ratio 23.11111111111111\n",
      "ECON count is 1411\n",
      "1 Authorship -->  Male 790 Female 180 Total 970 male to female ratio 22.78481012658228\n",
      "2 Authorship -->  Male 400 Female 85 Total 485 male to female ratio 21.25\n",
      "3 Authorship -->  Male 139 Female 31 Total 170 male to female ratio 22.302158273381295\n",
      "MULT count is 3532\n",
      "1 Authorship -->  Male 2272 Female 498 Total 2770 male to female ratio 21.919014084507044\n",
      "2 Authorship -->  Male 1117 Female 235 Total 1352 male to female ratio 21.038495971351836\n",
      "3 Authorship -->  Male 398 Female 79 Total 477 male to female ratio 19.849246231155778\n",
      "DECI count is 574\n",
      "1 Authorship -->  Male 359 Female 72 Total 431 male to female ratio 20.055710306406684\n",
      "2 Authorship -->  Male 186 Female 32 Total 218 male to female ratio 17.20430107526882\n",
      "3 Authorship -->  Male 54 Female 24 Total 78 male to female ratio 44.44444444444444\n",
      "HEAL count is 487\n",
      "1 Authorship -->  Male 281 Female 52 Total 333 male to female ratio 18.505338078291814\n",
      "2 Authorship -->  Male 183 Female 30 Total 213 male to female ratio 16.39344262295082\n",
      "3 Authorship -->  Male 91 Female 13 Total 104 male to female ratio 14.285714285714285\n",
      "NURS count is 1207\n",
      "1 Authorship -->  Male 901 Female 212 Total 1113 male to female ratio 23.52941176470588\n",
      "2 Authorship -->  Male 227 Female 60 Total 287 male to female ratio 26.431718061674008\n",
      "3 Authorship -->  Male 71 Female 19 Total 90 male to female ratio 26.76056338028169\n",
      "PSYC count is 511\n",
      "1 Authorship -->  Male 312 Female 71 Total 383 male to female ratio 22.756410256410255\n",
      "2 Authorship -->  Male 130 Female 24 Total 154 male to female ratio 18.461538461538463\n",
      "3 Authorship -->  Male 36 Female 13 Total 49 male to female ratio 36.11111111111111\n",
      "undefined count is 110\n",
      "1 Authorship -->  Male 79 Female 20 Total 99 male to female ratio 25.31645569620253\n",
      "2 Authorship -->  Male 37 Female 9 Total 46 male to female ratio 24.324324324324326\n",
      "3 Authorship -->  Male 11 Female 3 Total 14 male to female ratio 27.27272727272727\n",
      "NEUR count is 258\n",
      "1 Authorship -->  Male 114 Female 23 Total 137 male to female ratio 20.175438596491226\n",
      "2 Authorship -->  Male 77 Female 13 Total 90 male to female ratio 16.883116883116884\n",
      "3 Authorship -->  Male 39 Female 6 Total 45 male to female ratio 15.384615384615385\n",
      "3 Authorship -->  Male 39 Female 6 Total 45 male to female ratio 0.15384615384615385\n",
      "AGRI count is 28230\n",
      "1 Authorship -->  Male 18155 Female 3992 Total 22147 male to female ratio 21.988432938584413\n",
      "2 Authorship -->  Male 11008 Female 2396 Total 13404 male to female ratio 21.765988372093023\n",
      "3 Authorship -->  Male 4949 Female 1034 Total 5983 male to female ratio 20.89310971913518\n",
      "CHEM count is 12696\n",
      "1 Authorship -->  Male 7981 Female 1713 Total 9694 male to female ratio 21.46347575491793\n",
      "2 Authorship -->  Male 4589 Female 1001 Total 5590 male to female ratio 21.813031161473088\n",
      "3 Authorship -->  Male 2090 Female 435 Total 2525 male to female ratio 20.813397129186605\n",
      "IMMU count is 2068\n"
     ]
    },
    {
     "name": "stdout",
     "output_type": "stream",
     "text": [
      "1 Authorship -->  Male 1155 Female 244 Total 1399 male to female ratio 21.125541125541126\n",
      "2 Authorship -->  Male 749 Female 145 Total 894 male to female ratio 19.359145527369826\n",
      "3 Authorship -->  Male 397 Female 72 Total 469 male to female ratio 18.1360201511335\n",
      "MEDI count is 36899\n",
      "1 Authorship -->  Male 25567 Female 5708 Total 31275 male to female ratio 22.325654163570228\n",
      "2 Authorship -->  Male 11568 Female 2610 Total 14178 male to female ratio 22.562240663900415\n",
      "3 Authorship -->  Male 5265 Female 1051 Total 6316 male to female ratio 19.96201329534663\n",
      "DENT count is 347\n",
      "1 Authorship -->  Male 171 Female 48 Total 219 male to female ratio 28.07017543859649\n",
      "2 Authorship -->  Male 119 Female 26 Total 145 male to female ratio 21.84873949579832\n",
      "3 Authorship -->  Male 64 Female 14 Total 78 male to female ratio 21.875\n",
      "MATH count is 5700\n",
      "1 Authorship -->  Male 3178 Female 693 Total 3871 male to female ratio 21.80616740088106\n",
      "2 Authorship -->  Male 1570 Female 311 Total 1881 male to female ratio 19.80891719745223\n",
      "3 Authorship -->  Male 556 Female 119 Total 675 male to female ratio 21.402877697841728\n",
      "ENGI count is 13232\n",
      "1 Authorship -->  Male 7769 Female 1723 Total 9492 male to female ratio 22.177886471875404\n",
      "2 Authorship -->  Male 3850 Female 857 Total 4707 male to female ratio 22.25974025974026\n",
      "3 Authorship -->  Male 1437 Female 278 Total 1715 male to female ratio 19.345859429366737\n",
      "ARTS count is 1602\n",
      "1 Authorship -->  Male 1007 Female 262 Total 1269 male to female ratio 26.01787487586892\n",
      "2 Authorship -->  Male 399 Female 92 Total 491 male to female ratio 23.05764411027569\n",
      "3 Authorship -->  Male 129 Female 22 Total 151 male to female ratio 17.05426356589147\n",
      "COMP count is 22119\n",
      "1 Authorship -->  Male 13656 Female 3119 Total 16775 male to female ratio 22.839777387229056\n",
      "2 Authorship -->  Male 6402 Female 1312 Total 7714 male to female ratio 20.49359575132771\n",
      "3 Authorship -->  Male 2105 Female 454 Total 2559 male to female ratio 21.567695961995252\n",
      "BIOC count is 11875\n",
      "1 Authorship -->  Male 6437 Female 1473 Total 7910 male to female ratio 22.883330744135467\n",
      "2 Authorship -->  Male 4129 Female 914 Total 5043 male to female ratio 22.1361104383628\n",
      "3 Authorship -->  Male 2077 Female 424 Total 2501 male to female ratio 20.414058738565238\n",
      "VETE count is 809\n",
      "1 Authorship -->  Male 568 Female 120 Total 688 male to female ratio 21.12676056338028\n",
      "2 Authorship -->  Male 424 Female 78 Total 502 male to female ratio 18.39622641509434\n",
      "3 Authorship -->  Male 211 Female 38 Total 249 male to female ratio 18.009478672985782\n",
      "PHYS count is 6690\n",
      "1 Authorship -->  Male 3949 Female 973 Total 4922 male to female ratio 24.63914915168397\n",
      "2 Authorship -->  Male 1864 Female 412 Total 2276 male to female ratio 22.103004291845494\n",
      "3 Authorship -->  Male 745 Female 132 Total 877 male to female ratio 17.71812080536913\n",
      "ENER count is 3540\n",
      "1 Authorship -->  Male 1864 Female 429 Total 2293 male to female ratio 23.015021459227466\n",
      "2 Authorship -->  Male 1154 Female 217 Total 1371 male to female ratio 18.80415944540728\n",
      "3 Authorship -->  Male 434 Female 80 Total 514 male to female ratio 18.433179723502306\n",
      "PHAR count is 4316\n",
      "1 Authorship -->  Male 3025 Female 675 Total 3700 male to female ratio 22.31404958677686\n",
      "2 Authorship -->  Male 1997 Female 460 Total 2457 male to female ratio 23.034551827741613\n",
      "3 Authorship -->  Male 1060 Female 204 Total 1264 male to female ratio 19.245283018867926\n",
      "MATE count is 3241\n",
      "1 Authorship -->  Male 1863 Female 413 Total 2276 male to female ratio 22.168545356951157\n",
      "2 Authorship -->  Male 1149 Female 248 Total 1397 male to female ratio 21.583986074847694\n",
      "3 Authorship -->  Male 522 Female 107 Total 629 male to female ratio 20.49808429118774\n",
      "CENG count is 5805\n",
      "1 Authorship -->  Male 3025 Female 714 Total 3739 male to female ratio 23.60330578512397\n",
      "2 Authorship -->  Male 1920 Female 417 Total 2337 male to female ratio 21.71875\n",
      "3 Authorship -->  Male 862 Female 194 Total 1056 male to female ratio 22.505800464037122\n",
      "EART count is 3652\n",
      "1 Authorship -->  Male 1909 Female 425 Total 2334 male to female ratio 22.262964903090623\n",
      "2 Authorship -->  Male 1047 Female 209 Total 1256 male to female ratio 19.961795606494746\n",
      "3 Authorship -->  Male 455 Female 95 Total 550 male to female ratio 20.87912087912088\n",
      "ENVI count is 3838\n",
      "1 Authorship -->  Male 2051 Female 432 Total 2483 male to female ratio 21.062896148220382\n",
      "2 Authorship -->  Male 1376 Female 314 Total 1690 male to female ratio 22.819767441860463\n",
      "3 Authorship -->  Male 671 Female 149 Total 820 male to female ratio 22.205663189269746\n",
      "BUSI count is 3949\n",
      "1 Authorship -->  Male 2268 Female 553 Total 2821 male to female ratio 24.382716049382715\n",
      "2 Authorship -->  Male 1163 Female 241 Total 1404 male to female ratio 20.72226999140155\n",
      "3 Authorship -->  Male 431 Female 104 Total 535 male to female ratio 24.129930394431554\n",
      "SOCI count is 3391\n",
      "1 Authorship -->  Male 2404 Female 522 Total 2926 male to female ratio 21.713810316139767\n",
      "2 Authorship -->  Male 835 Female 148 Total 983 male to female ratio 17.724550898203592\n",
      "3 Authorship -->  Male 225 Female 52 Total 277 male to female ratio 23.11111111111111\n",
      "ECON count is 1411\n",
      "1 Authorship -->  Male 790 Female 180 Total 970 male to female ratio 22.78481012658228\n",
      "2 Authorship -->  Male 400 Female 85 Total 485 male to female ratio 21.25\n",
      "3 Authorship -->  Male 139 Female 31 Total 170 male to female ratio 22.302158273381295\n",
      "MULT count is 3532\n",
      "1 Authorship -->  Male 2272 Female 498 Total 2770 male to female ratio 21.919014084507044\n",
      "2 Authorship -->  Male 1117 Female 235 Total 1352 male to female ratio 21.038495971351836\n",
      "3 Authorship -->  Male 398 Female 79 Total 477 male to female ratio 19.849246231155778\n",
      "DECI count is 574\n",
      "1 Authorship -->  Male 359 Female 72 Total 431 male to female ratio 20.055710306406684\n",
      "2 Authorship -->  Male 186 Female 32 Total 218 male to female ratio 17.20430107526882\n",
      "3 Authorship -->  Male 54 Female 24 Total 78 male to female ratio 44.44444444444444\n",
      "HEAL count is 487\n",
      "1 Authorship -->  Male 281 Female 52 Total 333 male to female ratio 18.505338078291814\n",
      "2 Authorship -->  Male 183 Female 30 Total 213 male to female ratio 16.39344262295082\n",
      "3 Authorship -->  Male 91 Female 13 Total 104 male to female ratio 14.285714285714285\n",
      "NURS count is 1207\n",
      "1 Authorship -->  Male 901 Female 212 Total 1113 male to female ratio 23.52941176470588\n",
      "2 Authorship -->  Male 227 Female 60 Total 287 male to female ratio 26.431718061674008\n",
      "3 Authorship -->  Male 71 Female 19 Total 90 male to female ratio 26.76056338028169\n",
      "PSYC count is 511\n",
      "1 Authorship -->  Male 312 Female 71 Total 383 male to female ratio 22.756410256410255\n",
      "2 Authorship -->  Male 130 Female 24 Total 154 male to female ratio 18.461538461538463\n",
      "3 Authorship -->  Male 36 Female 13 Total 49 male to female ratio 36.11111111111111\n",
      "undefined count is 110\n",
      "1 Authorship -->  Male 79 Female 20 Total 99 male to female ratio 25.31645569620253\n",
      "2 Authorship -->  Male 37 Female 9 Total 46 male to female ratio 24.324324324324326\n",
      "3 Authorship -->  Male 11 Female 3 Total 14 male to female ratio 27.27272727272727\n",
      "NEUR count is 258\n",
      "1 Authorship -->  Male 114 Female 23 Total 137 male to female ratio 20.175438596491226\n",
      "2 Authorship -->  Male 77 Female 13 Total 90 male to female ratio 16.883116883116884\n",
      "3 Authorship -->  Male 39 Female 6 Total 45 male to female ratio 15.384615384615385\n"
     ]
    },
    {
     "ename": "PermissionError",
     "evalue": "[Errno 13] Permission denied: 'decade_20201950.csv'",
     "output_type": "error",
     "traceback": [
      "\u001b[1;31m---------------------------------------------------------------------------\u001b[0m",
      "\u001b[1;31mPermissionError\u001b[0m                           Traceback (most recent call last)",
      "\u001b[1;32m<ipython-input-505-2c89ae921705>\u001b[0m in \u001b[0;36m<module>\u001b[1;34m\u001b[0m\n\u001b[0;32m     92\u001b[0m             \u001b[0mdf_decade\u001b[0m\u001b[1;33m[\u001b[0m\u001b[1;34m'female (3)'\u001b[0m\u001b[1;33m]\u001b[0m\u001b[1;33m=\u001b[0m\u001b[0mfemaleauthorscount3\u001b[0m\u001b[1;33m\u001b[0m\u001b[1;33m\u001b[0m\u001b[0m\n\u001b[0;32m     93\u001b[0m             \u001b[0mdf_decade\u001b[0m\u001b[1;33m[\u001b[0m\u001b[1;34m'Proportion (3)'\u001b[0m\u001b[1;33m]\u001b[0m\u001b[1;33m=\u001b[0m\u001b[0mfemalepercentage3\u001b[0m\u001b[1;33m\u001b[0m\u001b[1;33m\u001b[0m\u001b[0m\n\u001b[1;32m---> 94\u001b[1;33m             \u001b[0mdf_decade\u001b[0m\u001b[1;33m.\u001b[0m\u001b[0mto_csv\u001b[0m\u001b[1;33m(\u001b[0m\u001b[1;34m'decade_2020'\u001b[0m\u001b[1;33m+\u001b[0m\u001b[0mstr\u001b[0m\u001b[1;33m(\u001b[0m\u001b[0mdecade\u001b[0m\u001b[1;33m)\u001b[0m\u001b[1;33m+\u001b[0m\u001b[1;34m'.csv'\u001b[0m\u001b[1;33m)\u001b[0m\u001b[1;33m\u001b[0m\u001b[1;33m\u001b[0m\u001b[0m\n\u001b[0m\u001b[0;32m     95\u001b[0m \u001b[1;33m\u001b[0m\u001b[0m\n\u001b[0;32m     96\u001b[0m \u001b[1;33m\u001b[0m\u001b[0m\n",
      "\u001b[1;32mC:\\ProgramData\\Anaconda3\\lib\\site-packages\\pandas\\core\\generic.py\u001b[0m in \u001b[0;36mto_csv\u001b[1;34m(self, path_or_buf, sep, na_rep, float_format, columns, header, index, index_label, mode, encoding, compression, quoting, quotechar, line_terminator, chunksize, date_format, doublequote, escapechar, decimal)\u001b[0m\n\u001b[0;32m   3202\u001b[0m             \u001b[0mdecimal\u001b[0m\u001b[1;33m=\u001b[0m\u001b[0mdecimal\u001b[0m\u001b[1;33m,\u001b[0m\u001b[1;33m\u001b[0m\u001b[1;33m\u001b[0m\u001b[0m\n\u001b[0;32m   3203\u001b[0m         )\n\u001b[1;32m-> 3204\u001b[1;33m         \u001b[0mformatter\u001b[0m\u001b[1;33m.\u001b[0m\u001b[0msave\u001b[0m\u001b[1;33m(\u001b[0m\u001b[1;33m)\u001b[0m\u001b[1;33m\u001b[0m\u001b[1;33m\u001b[0m\u001b[0m\n\u001b[0m\u001b[0;32m   3205\u001b[0m \u001b[1;33m\u001b[0m\u001b[0m\n\u001b[0;32m   3206\u001b[0m         \u001b[1;32mif\u001b[0m \u001b[0mpath_or_buf\u001b[0m \u001b[1;32mis\u001b[0m \u001b[1;32mNone\u001b[0m\u001b[1;33m:\u001b[0m\u001b[1;33m\u001b[0m\u001b[1;33m\u001b[0m\u001b[0m\n",
      "\u001b[1;32mC:\\ProgramData\\Anaconda3\\lib\\site-packages\\pandas\\io\\formats\\csvs.py\u001b[0m in \u001b[0;36msave\u001b[1;34m(self)\u001b[0m\n\u001b[0;32m    182\u001b[0m             \u001b[0mclose\u001b[0m \u001b[1;33m=\u001b[0m \u001b[1;32mFalse\u001b[0m\u001b[1;33m\u001b[0m\u001b[1;33m\u001b[0m\u001b[0m\n\u001b[0;32m    183\u001b[0m         \u001b[1;32melse\u001b[0m\u001b[1;33m:\u001b[0m\u001b[1;33m\u001b[0m\u001b[1;33m\u001b[0m\u001b[0m\n\u001b[1;32m--> 184\u001b[1;33m             f, handles = get_handle(\n\u001b[0m\u001b[0;32m    185\u001b[0m                 \u001b[0mself\u001b[0m\u001b[1;33m.\u001b[0m\u001b[0mpath_or_buf\u001b[0m\u001b[1;33m,\u001b[0m\u001b[1;33m\u001b[0m\u001b[1;33m\u001b[0m\u001b[0m\n\u001b[0;32m    186\u001b[0m                 \u001b[0mself\u001b[0m\u001b[1;33m.\u001b[0m\u001b[0mmode\u001b[0m\u001b[1;33m,\u001b[0m\u001b[1;33m\u001b[0m\u001b[1;33m\u001b[0m\u001b[0m\n",
      "\u001b[1;32mC:\\ProgramData\\Anaconda3\\lib\\site-packages\\pandas\\io\\common.py\u001b[0m in \u001b[0;36mget_handle\u001b[1;34m(path_or_buf, mode, encoding, compression, memory_map, is_text)\u001b[0m\n\u001b[0;32m    426\u001b[0m         \u001b[1;32mif\u001b[0m \u001b[0mencoding\u001b[0m\u001b[1;33m:\u001b[0m\u001b[1;33m\u001b[0m\u001b[1;33m\u001b[0m\u001b[0m\n\u001b[0;32m    427\u001b[0m             \u001b[1;31m# Encoding\u001b[0m\u001b[1;33m\u001b[0m\u001b[1;33m\u001b[0m\u001b[1;33m\u001b[0m\u001b[0m\n\u001b[1;32m--> 428\u001b[1;33m             \u001b[0mf\u001b[0m \u001b[1;33m=\u001b[0m \u001b[0mopen\u001b[0m\u001b[1;33m(\u001b[0m\u001b[0mpath_or_buf\u001b[0m\u001b[1;33m,\u001b[0m \u001b[0mmode\u001b[0m\u001b[1;33m,\u001b[0m \u001b[0mencoding\u001b[0m\u001b[1;33m=\u001b[0m\u001b[0mencoding\u001b[0m\u001b[1;33m,\u001b[0m \u001b[0mnewline\u001b[0m\u001b[1;33m=\u001b[0m\u001b[1;34m\"\"\u001b[0m\u001b[1;33m)\u001b[0m\u001b[1;33m\u001b[0m\u001b[1;33m\u001b[0m\u001b[0m\n\u001b[0m\u001b[0;32m    429\u001b[0m         \u001b[1;32melif\u001b[0m \u001b[0mis_text\u001b[0m\u001b[1;33m:\u001b[0m\u001b[1;33m\u001b[0m\u001b[1;33m\u001b[0m\u001b[0m\n\u001b[0;32m    430\u001b[0m             \u001b[1;31m# No explicit encoding\u001b[0m\u001b[1;33m\u001b[0m\u001b[1;33m\u001b[0m\u001b[1;33m\u001b[0m\u001b[0m\n",
      "\u001b[1;31mPermissionError\u001b[0m: [Errno 13] Permission denied: 'decade_20201950.csv'"
     ]
    }
   ],
   "source": [
    "decade=1950\n",
    "while decade<2021:\n",
    "    \n",
    "\n",
    "\n",
    "    df_dummy=df_name_country.loc[(df_name_country['pub_year']>decade) & (df_name_country['pub_year']<(2020))]\n",
    "    \n",
    "    print('Publication decade '+str(int(decade))+'  ')\n",
    "    \n",
    "#     df_dummy=df_name_country.loc[df_name_country['pub_year']==x]\n",
    "    df_dummy1=df_dummy\n",
    "    df_dummy = df_dummy[df_dummy.columns[0:3]]\n",
    "    for column in df_dummy:\n",
    "        if int(column)<10:\n",
    "            maleauthorscount=[]\n",
    "            totalauthorscount=[]\n",
    "            femaleauthorscount=[]\n",
    "            femaletomaleratio=[]\n",
    "            femalepercentage=[]\n",
    "            Subject=[]\n",
    "\n",
    "            maleauthors=df_dummy[column].loc[df_dummy[column]=='male|Pakistan'].count()\n",
    "            femaleauthors=df_dummy[column].loc[df_dummy[column]=='female|Pakistan'].count()\n",
    "            Totalauthors=maleauthors+femaleauthors\n",
    "            maleauthorscount.append(maleauthors)\n",
    "            femaleauthorscount.append(femaleauthors)\n",
    "            femaletomaleratio.append(femaleauthors/maleauthors)\n",
    "            femalepercentage.append(femaleauthors/Totalauthors)\n",
    "            print(str(int(column)+1)+' Authorship -->  Male '+str(maleauthors)+' Female '+str(femaleauthors)+' Total '+str(Totalauthors)+' male to female ratio '+str(femaleauthors/maleauthors))\n",
    "            df_decade=pd.DataFrame()\n",
    "            maleauthorscount1=[]\n",
    "            femaleauthorscount1=[]\n",
    "            femaletomaleratio1=[]\n",
    "            femalepercentage1=[]\n",
    "            maleauthorscount2=[]\n",
    "            femaleauthorscount2=[]\n",
    "            femaletomaleratio2=[]\n",
    "            femalepercentage2=[]\n",
    "            maleauthorscount3=[]\n",
    "            femaleauthorscount3=[]\n",
    "            femaletomaleratio3=[]\n",
    "            femalepercentage3=[]\n",
    "            decadelist=[]\n",
    "            for x in df_dummy1['Subject'].unique():\n",
    "                Subject.append(x)\n",
    "                decadelist.append(str(decade)+'-'+str((decade+10)))\n",
    "  \n",
    "                print(str(x)+' count is '+str(df_dummy1['Subject'].loc[df_dummy1['Subject'].str.contains(x)].count()))\n",
    "                \n",
    "                df_dummy=df_dummy1.loc[df_dummy1['Subject'].str.contains(x)]\n",
    "                df_dummy = df_dummy[df_dummy.columns[0:3]]\n",
    "                for column in df_dummy:\n",
    "                    if int(column)<10:\n",
    "                        if int(column)==0:\n",
    "\n",
    "                            maleauthors=df_dummy[column].loc[df_dummy[column]=='male|Pakistan'].count()\n",
    "                            femaleauthors=df_dummy[column].loc[df_dummy[column]=='female|Pakistan'].count()\n",
    "                            Totalauthors=maleauthors+femaleauthors\n",
    "                            maleauthorscount1.append(maleauthors)\n",
    "                            femaleauthorscount1.append(femaleauthors)\n",
    "                            femaletomaleratio1.append(femaleauthors/maleauthors)\n",
    "                            femalepercentage1.append((femaleauthors/Totalauthors)*100)\n",
    "                        if int(column)==1:\n",
    "\n",
    "                            maleauthors=df_dummy[column].loc[df_dummy[column]=='male|Pakistan'].count()\n",
    "                            femaleauthors=df_dummy[column].loc[df_dummy[column]=='female|Pakistan'].count()\n",
    "                            Totalauthors=maleauthors+femaleauthors\n",
    "                            maleauthorscount2.append(maleauthors)\n",
    "                            femaleauthorscount2.append(femaleauthors)\n",
    "                            femaletomaleratio2.append(femaleauthors/maleauthors)\n",
    "                            femalepercentage2.append((femaleauthors/Totalauthors)*100)\n",
    "                        if int(column)==2:\n",
    "\n",
    "                            maleauthors=df_dummy[column].loc[df_dummy[column]=='male|Pakistan'].count()\n",
    "                            femaleauthors=df_dummy[column].loc[df_dummy[column]=='female|Pakistan'].count()\n",
    "                            Totalauthors=maleauthors+femaleauthors\n",
    "                            maleauthorscount3.append(maleauthors)\n",
    "                            femaleauthorscount3.append(femaleauthors)\n",
    "                            femaletomaleratio3.append(femaleauthors/maleauthors)\n",
    "                            femalepercentage3.append((femaleauthors/Totalauthors)*100)\n",
    "\n",
    "                        print(str(int(column)+1)+' Authorship -->  Male '+str(maleauthors)+' Female '+str(femaleauthors)+' Total '+str(Totalauthors)+' male to female ratio '+str(((femaleauthors/maleauthors)*100)))\n",
    "            \n",
    "            df_decade['Subject']=Subject\n",
    "            df_decade['Male (1)']=maleauthorscount1\n",
    "            df_decade['female1 (1)']=femaleauthorscount1\n",
    "            df_decade['Proportion1 (1)']=femalepercentage1\n",
    "            df_decade['Male (2)']=maleauthorscount2\n",
    "            df_decade['female (2)']=femaleauthorscount2\n",
    "            df_decade['Proportion (2)']=femalepercentage2\n",
    "            df_decade['Male (3)']=maleauthorscount3\n",
    "            df_decade['female (3)']=femaleauthorscount3\n",
    "            df_decade['Proportion (3)']=femalepercentage3\n",
    "            df_decade.to_csv('decade_2020'+str(decade)+'.csv')\n",
    "            \n",
    "            \n",
    "\n",
    "    decade=decade+100"
   ]
  },
  {
   "cell_type": "code",
   "execution_count": 25,
   "metadata": {},
   "outputs": [],
   "source": [
    "df_authorhsippattern=pd.DataFrame()"
   ]
  },
  {
   "cell_type": "code",
   "execution_count": 31,
   "metadata": {},
   "outputs": [
    {
     "data": {
      "text/html": [
       "<div>\n",
       "<style scoped>\n",
       "    .dataframe tbody tr th:only-of-type {\n",
       "        vertical-align: middle;\n",
       "    }\n",
       "\n",
       "    .dataframe tbody tr th {\n",
       "        vertical-align: top;\n",
       "    }\n",
       "\n",
       "    .dataframe thead th {\n",
       "        text-align: right;\n",
       "    }\n",
       "</style>\n",
       "<table border=\"1\" class=\"dataframe\">\n",
       "  <thead>\n",
       "    <tr style=\"text-align: right;\">\n",
       "      <th></th>\n",
       "      <th>0</th>\n",
       "      <th>1</th>\n",
       "      <th>2</th>\n",
       "      <th>3</th>\n",
       "      <th>4</th>\n",
       "      <th>5</th>\n",
       "      <th>6</th>\n",
       "      <th>7</th>\n",
       "      <th>8</th>\n",
       "      <th>9</th>\n",
       "      <th>...</th>\n",
       "      <th>189</th>\n",
       "      <th>190</th>\n",
       "      <th>191</th>\n",
       "      <th>192</th>\n",
       "      <th>193</th>\n",
       "      <th>194</th>\n",
       "      <th>195</th>\n",
       "      <th>196</th>\n",
       "      <th>Subject</th>\n",
       "      <th>n_Au</th>\n",
       "    </tr>\n",
       "  </thead>\n",
       "  <tbody>\n",
       "    <tr>\n",
       "      <th>5</th>\n",
       "      <td>female|Pakistan</td>\n",
       "      <td>male</td>\n",
       "      <td>female</td>\n",
       "      <td>None</td>\n",
       "      <td>None</td>\n",
       "      <td>None</td>\n",
       "      <td>None</td>\n",
       "      <td>None</td>\n",
       "      <td>None</td>\n",
       "      <td>None</td>\n",
       "      <td>...</td>\n",
       "      <td>None</td>\n",
       "      <td>None</td>\n",
       "      <td>None</td>\n",
       "      <td>None</td>\n",
       "      <td>None</td>\n",
       "      <td>None</td>\n",
       "      <td>None</td>\n",
       "      <td>None</td>\n",
       "      <td>CHEM</td>\n",
       "      <td>3</td>\n",
       "    </tr>\n",
       "    <tr>\n",
       "      <th>6</th>\n",
       "      <td>female|Pakistan</td>\n",
       "      <td>male|Pakistan</td>\n",
       "      <td>male|Pakistan</td>\n",
       "      <td>None</td>\n",
       "      <td>None</td>\n",
       "      <td>None</td>\n",
       "      <td>None</td>\n",
       "      <td>None</td>\n",
       "      <td>None</td>\n",
       "      <td>None</td>\n",
       "      <td>...</td>\n",
       "      <td>None</td>\n",
       "      <td>None</td>\n",
       "      <td>None</td>\n",
       "      <td>None</td>\n",
       "      <td>None</td>\n",
       "      <td>None</td>\n",
       "      <td>None</td>\n",
       "      <td>None</td>\n",
       "      <td>MEDI</td>\n",
       "      <td>3</td>\n",
       "    </tr>\n",
       "    <tr>\n",
       "      <th>8</th>\n",
       "      <td>male|Pakistan</td>\n",
       "      <td>female</td>\n",
       "      <td>male</td>\n",
       "      <td>None</td>\n",
       "      <td>None</td>\n",
       "      <td>None</td>\n",
       "      <td>None</td>\n",
       "      <td>None</td>\n",
       "      <td>None</td>\n",
       "      <td>None</td>\n",
       "      <td>...</td>\n",
       "      <td>None</td>\n",
       "      <td>None</td>\n",
       "      <td>None</td>\n",
       "      <td>None</td>\n",
       "      <td>None</td>\n",
       "      <td>None</td>\n",
       "      <td>None</td>\n",
       "      <td>None</td>\n",
       "      <td>AGRI</td>\n",
       "      <td>3</td>\n",
       "    </tr>\n",
       "    <tr>\n",
       "      <th>19</th>\n",
       "      <td>male|Pakistan</td>\n",
       "      <td>male</td>\n",
       "      <td>male</td>\n",
       "      <td>None</td>\n",
       "      <td>None</td>\n",
       "      <td>None</td>\n",
       "      <td>None</td>\n",
       "      <td>None</td>\n",
       "      <td>None</td>\n",
       "      <td>None</td>\n",
       "      <td>...</td>\n",
       "      <td>None</td>\n",
       "      <td>None</td>\n",
       "      <td>None</td>\n",
       "      <td>None</td>\n",
       "      <td>None</td>\n",
       "      <td>None</td>\n",
       "      <td>None</td>\n",
       "      <td>None</td>\n",
       "      <td>COMP</td>\n",
       "      <td>3</td>\n",
       "    </tr>\n",
       "    <tr>\n",
       "      <th>24</th>\n",
       "      <td>male|Pakistan</td>\n",
       "      <td>male|Italy</td>\n",
       "      <td>male</td>\n",
       "      <td>None</td>\n",
       "      <td>None</td>\n",
       "      <td>None</td>\n",
       "      <td>None</td>\n",
       "      <td>None</td>\n",
       "      <td>None</td>\n",
       "      <td>None</td>\n",
       "      <td>...</td>\n",
       "      <td>None</td>\n",
       "      <td>None</td>\n",
       "      <td>None</td>\n",
       "      <td>None</td>\n",
       "      <td>None</td>\n",
       "      <td>None</td>\n",
       "      <td>None</td>\n",
       "      <td>None</td>\n",
       "      <td>PHYS</td>\n",
       "      <td>3</td>\n",
       "    </tr>\n",
       "    <tr>\n",
       "      <th>...</th>\n",
       "      <td>...</td>\n",
       "      <td>...</td>\n",
       "      <td>...</td>\n",
       "      <td>...</td>\n",
       "      <td>...</td>\n",
       "      <td>...</td>\n",
       "      <td>...</td>\n",
       "      <td>...</td>\n",
       "      <td>...</td>\n",
       "      <td>...</td>\n",
       "      <td>...</td>\n",
       "      <td>...</td>\n",
       "      <td>...</td>\n",
       "      <td>...</td>\n",
       "      <td>...</td>\n",
       "      <td>...</td>\n",
       "      <td>...</td>\n",
       "      <td>...</td>\n",
       "      <td>...</td>\n",
       "      <td>...</td>\n",
       "      <td>...</td>\n",
       "    </tr>\n",
       "    <tr>\n",
       "      <th>205606</th>\n",
       "      <td>male|Pakistan</td>\n",
       "      <td>male|Pakistan</td>\n",
       "      <td>male</td>\n",
       "      <td>female</td>\n",
       "      <td>male</td>\n",
       "      <td>male</td>\n",
       "      <td>None</td>\n",
       "      <td>None</td>\n",
       "      <td>None</td>\n",
       "      <td>None</td>\n",
       "      <td>...</td>\n",
       "      <td>None</td>\n",
       "      <td>None</td>\n",
       "      <td>None</td>\n",
       "      <td>None</td>\n",
       "      <td>None</td>\n",
       "      <td>None</td>\n",
       "      <td>None</td>\n",
       "      <td>None</td>\n",
       "      <td>COMP</td>\n",
       "      <td>3</td>\n",
       "    </tr>\n",
       "    <tr>\n",
       "      <th>205609</th>\n",
       "      <td>male|Pakistan</td>\n",
       "      <td>female</td>\n",
       "      <td>None</td>\n",
       "      <td>None</td>\n",
       "      <td>None</td>\n",
       "      <td>None</td>\n",
       "      <td>None</td>\n",
       "      <td>None</td>\n",
       "      <td>None</td>\n",
       "      <td>None</td>\n",
       "      <td>...</td>\n",
       "      <td>None</td>\n",
       "      <td>None</td>\n",
       "      <td>None</td>\n",
       "      <td>None</td>\n",
       "      <td>None</td>\n",
       "      <td>None</td>\n",
       "      <td>None</td>\n",
       "      <td>None</td>\n",
       "      <td>MEDI</td>\n",
       "      <td>3</td>\n",
       "    </tr>\n",
       "    <tr>\n",
       "      <th>205619</th>\n",
       "      <td>male|Pakistan</td>\n",
       "      <td>male</td>\n",
       "      <td>None</td>\n",
       "      <td>None</td>\n",
       "      <td>None</td>\n",
       "      <td>None</td>\n",
       "      <td>None</td>\n",
       "      <td>None</td>\n",
       "      <td>None</td>\n",
       "      <td>None</td>\n",
       "      <td>...</td>\n",
       "      <td>None</td>\n",
       "      <td>None</td>\n",
       "      <td>None</td>\n",
       "      <td>None</td>\n",
       "      <td>None</td>\n",
       "      <td>None</td>\n",
       "      <td>None</td>\n",
       "      <td>None</td>\n",
       "      <td>CHEM</td>\n",
       "      <td>3</td>\n",
       "    </tr>\n",
       "    <tr>\n",
       "      <th>205623</th>\n",
       "      <td>male|Pakistan</td>\n",
       "      <td>male|Pakistan</td>\n",
       "      <td>None</td>\n",
       "      <td>None</td>\n",
       "      <td>None</td>\n",
       "      <td>None</td>\n",
       "      <td>None</td>\n",
       "      <td>None</td>\n",
       "      <td>None</td>\n",
       "      <td>None</td>\n",
       "      <td>...</td>\n",
       "      <td>None</td>\n",
       "      <td>None</td>\n",
       "      <td>None</td>\n",
       "      <td>None</td>\n",
       "      <td>None</td>\n",
       "      <td>None</td>\n",
       "      <td>None</td>\n",
       "      <td>None</td>\n",
       "      <td>SOCI</td>\n",
       "      <td>3</td>\n",
       "    </tr>\n",
       "    <tr>\n",
       "      <th>205630</th>\n",
       "      <td>female|Pakistan</td>\n",
       "      <td>male</td>\n",
       "      <td>female</td>\n",
       "      <td>male</td>\n",
       "      <td>male</td>\n",
       "      <td>male</td>\n",
       "      <td>None</td>\n",
       "      <td>None</td>\n",
       "      <td>None</td>\n",
       "      <td>None</td>\n",
       "      <td>...</td>\n",
       "      <td>None</td>\n",
       "      <td>None</td>\n",
       "      <td>None</td>\n",
       "      <td>None</td>\n",
       "      <td>None</td>\n",
       "      <td>None</td>\n",
       "      <td>None</td>\n",
       "      <td>None</td>\n",
       "      <td>CHEM</td>\n",
       "      <td>3</td>\n",
       "    </tr>\n",
       "  </tbody>\n",
       "</table>\n",
       "<p>40615 rows × 199 columns</p>\n",
       "</div>"
      ],
      "text/plain": [
       "                      0              1              2       3     4     5  \\\n",
       "5       female|Pakistan           male         female    None  None  None   \n",
       "6       female|Pakistan  male|Pakistan  male|Pakistan    None  None  None   \n",
       "8         male|Pakistan         female           male    None  None  None   \n",
       "19        male|Pakistan           male           male    None  None  None   \n",
       "24        male|Pakistan     male|Italy           male    None  None  None   \n",
       "...                 ...            ...            ...     ...   ...   ...   \n",
       "205606    male|Pakistan  male|Pakistan           male  female  male  male   \n",
       "205609    male|Pakistan         female           None    None  None  None   \n",
       "205619    male|Pakistan           male           None    None  None  None   \n",
       "205623    male|Pakistan  male|Pakistan           None    None  None  None   \n",
       "205630  female|Pakistan           male         female    male  male  male   \n",
       "\n",
       "           6     7     8     9  ...   189   190   191   192   193   194   195  \\\n",
       "5       None  None  None  None  ...  None  None  None  None  None  None  None   \n",
       "6       None  None  None  None  ...  None  None  None  None  None  None  None   \n",
       "8       None  None  None  None  ...  None  None  None  None  None  None  None   \n",
       "19      None  None  None  None  ...  None  None  None  None  None  None  None   \n",
       "24      None  None  None  None  ...  None  None  None  None  None  None  None   \n",
       "...      ...   ...   ...   ...  ...   ...   ...   ...   ...   ...   ...   ...   \n",
       "205606  None  None  None  None  ...  None  None  None  None  None  None  None   \n",
       "205609  None  None  None  None  ...  None  None  None  None  None  None  None   \n",
       "205619  None  None  None  None  ...  None  None  None  None  None  None  None   \n",
       "205623  None  None  None  None  ...  None  None  None  None  None  None  None   \n",
       "205630  None  None  None  None  ...  None  None  None  None  None  None  None   \n",
       "\n",
       "         196 Subject n_Au  \n",
       "5       None    CHEM    3  \n",
       "6       None    MEDI    3  \n",
       "8       None    AGRI    3  \n",
       "19      None    COMP    3  \n",
       "24      None    PHYS    3  \n",
       "...      ...     ...  ...  \n",
       "205606  None    COMP    3  \n",
       "205609  None    MEDI    3  \n",
       "205619  None    CHEM    3  \n",
       "205623  None    SOCI    3  \n",
       "205630  None    CHEM    3  \n",
       "\n",
       "[40615 rows x 199 columns]"
      ]
     },
     "execution_count": 31,
     "metadata": {},
     "output_type": "execute_result"
    }
   ],
   "source": [
    "df_dummy=df_name_country\n",
    "df_dummy.loc[df_dummy['n_Au']==int(3)]"
   ]
  },
  {
   "cell_type": "code",
   "execution_count": 42,
   "metadata": {},
   "outputs": [
    {
     "data": {
      "text/html": [
       "<div>\n",
       "<style scoped>\n",
       "    .dataframe tbody tr th:only-of-type {\n",
       "        vertical-align: middle;\n",
       "    }\n",
       "\n",
       "    .dataframe tbody tr th {\n",
       "        vertical-align: top;\n",
       "    }\n",
       "\n",
       "    .dataframe thead th {\n",
       "        text-align: right;\n",
       "    }\n",
       "</style>\n",
       "<table border=\"1\" class=\"dataframe\">\n",
       "  <thead>\n",
       "    <tr style=\"text-align: right;\">\n",
       "      <th></th>\n",
       "      <th>0</th>\n",
       "      <th>1</th>\n",
       "      <th>2</th>\n",
       "      <th>3</th>\n",
       "      <th>4</th>\n",
       "      <th>5</th>\n",
       "      <th>6</th>\n",
       "      <th>7</th>\n",
       "      <th>8</th>\n",
       "      <th>9</th>\n",
       "      <th>...</th>\n",
       "      <th>187</th>\n",
       "      <th>188</th>\n",
       "      <th>189</th>\n",
       "      <th>190</th>\n",
       "      <th>191</th>\n",
       "      <th>192</th>\n",
       "      <th>193</th>\n",
       "      <th>194</th>\n",
       "      <th>195</th>\n",
       "      <th>196</th>\n",
       "    </tr>\n",
       "  </thead>\n",
       "  <tbody>\n",
       "    <tr>\n",
       "      <th>0</th>\n",
       "      <td>male|Pakistan</td>\n",
       "      <td>male</td>\n",
       "      <td>female</td>\n",
       "      <td>None</td>\n",
       "      <td>None</td>\n",
       "      <td>None</td>\n",
       "      <td>None</td>\n",
       "      <td>None</td>\n",
       "      <td>None</td>\n",
       "      <td>None</td>\n",
       "      <td>...</td>\n",
       "      <td>None</td>\n",
       "      <td>None</td>\n",
       "      <td>None</td>\n",
       "      <td>None</td>\n",
       "      <td>None</td>\n",
       "      <td>None</td>\n",
       "      <td>None</td>\n",
       "      <td>None</td>\n",
       "      <td>None</td>\n",
       "      <td>None</td>\n",
       "    </tr>\n",
       "    <tr>\n",
       "      <th>18</th>\n",
       "      <td>male|Pakistan</td>\n",
       "      <td>male</td>\n",
       "      <td>female</td>\n",
       "      <td>None</td>\n",
       "      <td>None</td>\n",
       "      <td>None</td>\n",
       "      <td>None</td>\n",
       "      <td>None</td>\n",
       "      <td>None</td>\n",
       "      <td>None</td>\n",
       "      <td>...</td>\n",
       "      <td>None</td>\n",
       "      <td>None</td>\n",
       "      <td>None</td>\n",
       "      <td>None</td>\n",
       "      <td>None</td>\n",
       "      <td>None</td>\n",
       "      <td>None</td>\n",
       "      <td>None</td>\n",
       "      <td>None</td>\n",
       "      <td>None</td>\n",
       "    </tr>\n",
       "    <tr>\n",
       "      <th>23</th>\n",
       "      <td>male|Pakistan</td>\n",
       "      <td>male|Pakistan</td>\n",
       "      <td>female</td>\n",
       "      <td>None</td>\n",
       "      <td>None</td>\n",
       "      <td>None</td>\n",
       "      <td>None</td>\n",
       "      <td>None</td>\n",
       "      <td>None</td>\n",
       "      <td>None</td>\n",
       "      <td>...</td>\n",
       "      <td>None</td>\n",
       "      <td>None</td>\n",
       "      <td>None</td>\n",
       "      <td>None</td>\n",
       "      <td>None</td>\n",
       "      <td>None</td>\n",
       "      <td>None</td>\n",
       "      <td>None</td>\n",
       "      <td>None</td>\n",
       "      <td>None</td>\n",
       "    </tr>\n",
       "    <tr>\n",
       "      <th>25</th>\n",
       "      <td>male|Pakistan</td>\n",
       "      <td>male</td>\n",
       "      <td>female</td>\n",
       "      <td>None</td>\n",
       "      <td>None</td>\n",
       "      <td>None</td>\n",
       "      <td>None</td>\n",
       "      <td>None</td>\n",
       "      <td>None</td>\n",
       "      <td>None</td>\n",
       "      <td>...</td>\n",
       "      <td>None</td>\n",
       "      <td>None</td>\n",
       "      <td>None</td>\n",
       "      <td>None</td>\n",
       "      <td>None</td>\n",
       "      <td>None</td>\n",
       "      <td>None</td>\n",
       "      <td>None</td>\n",
       "      <td>None</td>\n",
       "      <td>None</td>\n",
       "    </tr>\n",
       "    <tr>\n",
       "      <th>34</th>\n",
       "      <td>male|Pakistan</td>\n",
       "      <td>female|Pakistan</td>\n",
       "      <td>female</td>\n",
       "      <td>None</td>\n",
       "      <td>None</td>\n",
       "      <td>None</td>\n",
       "      <td>None</td>\n",
       "      <td>None</td>\n",
       "      <td>None</td>\n",
       "      <td>None</td>\n",
       "      <td>...</td>\n",
       "      <td>None</td>\n",
       "      <td>None</td>\n",
       "      <td>None</td>\n",
       "      <td>None</td>\n",
       "      <td>None</td>\n",
       "      <td>None</td>\n",
       "      <td>None</td>\n",
       "      <td>None</td>\n",
       "      <td>None</td>\n",
       "      <td>None</td>\n",
       "    </tr>\n",
       "    <tr>\n",
       "      <th>...</th>\n",
       "      <td>...</td>\n",
       "      <td>...</td>\n",
       "      <td>...</td>\n",
       "      <td>...</td>\n",
       "      <td>...</td>\n",
       "      <td>...</td>\n",
       "      <td>...</td>\n",
       "      <td>...</td>\n",
       "      <td>...</td>\n",
       "      <td>...</td>\n",
       "      <td>...</td>\n",
       "      <td>...</td>\n",
       "      <td>...</td>\n",
       "      <td>...</td>\n",
       "      <td>...</td>\n",
       "      <td>...</td>\n",
       "      <td>...</td>\n",
       "      <td>...</td>\n",
       "      <td>...</td>\n",
       "      <td>...</td>\n",
       "      <td>...</td>\n",
       "    </tr>\n",
       "    <tr>\n",
       "      <th>205611</th>\n",
       "      <td>male|Turkey</td>\n",
       "      <td>male</td>\n",
       "      <td>male</td>\n",
       "      <td>None</td>\n",
       "      <td>None</td>\n",
       "      <td>None</td>\n",
       "      <td>None</td>\n",
       "      <td>None</td>\n",
       "      <td>None</td>\n",
       "      <td>None</td>\n",
       "      <td>...</td>\n",
       "      <td>None</td>\n",
       "      <td>None</td>\n",
       "      <td>None</td>\n",
       "      <td>None</td>\n",
       "      <td>None</td>\n",
       "      <td>None</td>\n",
       "      <td>None</td>\n",
       "      <td>None</td>\n",
       "      <td>None</td>\n",
       "      <td>None</td>\n",
       "    </tr>\n",
       "    <tr>\n",
       "      <th>205617</th>\n",
       "      <td>male|Pakistan</td>\n",
       "      <td>male</td>\n",
       "      <td>male</td>\n",
       "      <td>male</td>\n",
       "      <td>None</td>\n",
       "      <td>None</td>\n",
       "      <td>None</td>\n",
       "      <td>None</td>\n",
       "      <td>None</td>\n",
       "      <td>None</td>\n",
       "      <td>...</td>\n",
       "      <td>None</td>\n",
       "      <td>None</td>\n",
       "      <td>None</td>\n",
       "      <td>None</td>\n",
       "      <td>None</td>\n",
       "      <td>None</td>\n",
       "      <td>None</td>\n",
       "      <td>None</td>\n",
       "      <td>None</td>\n",
       "      <td>None</td>\n",
       "    </tr>\n",
       "    <tr>\n",
       "      <th>205618</th>\n",
       "      <td>male|Pakistan</td>\n",
       "      <td>female</td>\n",
       "      <td>None</td>\n",
       "      <td>None</td>\n",
       "      <td>None</td>\n",
       "      <td>None</td>\n",
       "      <td>None</td>\n",
       "      <td>None</td>\n",
       "      <td>None</td>\n",
       "      <td>None</td>\n",
       "      <td>...</td>\n",
       "      <td>None</td>\n",
       "      <td>None</td>\n",
       "      <td>None</td>\n",
       "      <td>None</td>\n",
       "      <td>None</td>\n",
       "      <td>None</td>\n",
       "      <td>None</td>\n",
       "      <td>None</td>\n",
       "      <td>None</td>\n",
       "      <td>None</td>\n",
       "    </tr>\n",
       "    <tr>\n",
       "      <th>205620</th>\n",
       "      <td>male|Pakistan</td>\n",
       "      <td>male|Pakistan</td>\n",
       "      <td>male</td>\n",
       "      <td>male</td>\n",
       "      <td>None</td>\n",
       "      <td>None</td>\n",
       "      <td>None</td>\n",
       "      <td>None</td>\n",
       "      <td>None</td>\n",
       "      <td>None</td>\n",
       "      <td>...</td>\n",
       "      <td>None</td>\n",
       "      <td>None</td>\n",
       "      <td>None</td>\n",
       "      <td>None</td>\n",
       "      <td>None</td>\n",
       "      <td>None</td>\n",
       "      <td>None</td>\n",
       "      <td>None</td>\n",
       "      <td>None</td>\n",
       "      <td>None</td>\n",
       "    </tr>\n",
       "    <tr>\n",
       "      <th>205629</th>\n",
       "      <td>male|United Kingdom</td>\n",
       "      <td>male|Pakistan</td>\n",
       "      <td>male</td>\n",
       "      <td>None</td>\n",
       "      <td>None</td>\n",
       "      <td>None</td>\n",
       "      <td>None</td>\n",
       "      <td>None</td>\n",
       "      <td>None</td>\n",
       "      <td>None</td>\n",
       "      <td>...</td>\n",
       "      <td>None</td>\n",
       "      <td>None</td>\n",
       "      <td>None</td>\n",
       "      <td>None</td>\n",
       "      <td>None</td>\n",
       "      <td>None</td>\n",
       "      <td>None</td>\n",
       "      <td>None</td>\n",
       "      <td>None</td>\n",
       "      <td>None</td>\n",
       "    </tr>\n",
       "  </tbody>\n",
       "</table>\n",
       "<p>30162 rows × 197 columns</p>\n",
       "</div>"
      ],
      "text/plain": [
       "                          0                1       2     3     4     5     6  \\\n",
       "0             male|Pakistan             male  female  None  None  None  None   \n",
       "18            male|Pakistan             male  female  None  None  None  None   \n",
       "23            male|Pakistan    male|Pakistan  female  None  None  None  None   \n",
       "25            male|Pakistan             male  female  None  None  None  None   \n",
       "34            male|Pakistan  female|Pakistan  female  None  None  None  None   \n",
       "...                     ...              ...     ...   ...   ...   ...   ...   \n",
       "205611          male|Turkey             male    male  None  None  None  None   \n",
       "205617        male|Pakistan             male    male  male  None  None  None   \n",
       "205618        male|Pakistan           female    None  None  None  None  None   \n",
       "205620        male|Pakistan    male|Pakistan    male  male  None  None  None   \n",
       "205629  male|United Kingdom    male|Pakistan    male  None  None  None  None   \n",
       "\n",
       "           7     8     9  ...   187   188   189   190   191   192   193   194  \\\n",
       "0       None  None  None  ...  None  None  None  None  None  None  None  None   \n",
       "18      None  None  None  ...  None  None  None  None  None  None  None  None   \n",
       "23      None  None  None  ...  None  None  None  None  None  None  None  None   \n",
       "25      None  None  None  ...  None  None  None  None  None  None  None  None   \n",
       "34      None  None  None  ...  None  None  None  None  None  None  None  None   \n",
       "...      ...   ...   ...  ...   ...   ...   ...   ...   ...   ...   ...   ...   \n",
       "205611  None  None  None  ...  None  None  None  None  None  None  None  None   \n",
       "205617  None  None  None  ...  None  None  None  None  None  None  None  None   \n",
       "205618  None  None  None  ...  None  None  None  None  None  None  None  None   \n",
       "205620  None  None  None  ...  None  None  None  None  None  None  None  None   \n",
       "205629  None  None  None  ...  None  None  None  None  None  None  None  None   \n",
       "\n",
       "         195   196  \n",
       "0       None  None  \n",
       "18      None  None  \n",
       "23      None  None  \n",
       "25      None  None  \n",
       "34      None  None  \n",
       "...      ...   ...  \n",
       "205611  None  None  \n",
       "205617  None  None  \n",
       "205618  None  None  \n",
       "205620  None  None  \n",
       "205629  None  None  \n",
       "\n",
       "[30162 rows x 197 columns]"
      ]
     },
     "execution_count": 42,
     "metadata": {},
     "output_type": "execute_result"
    }
   ],
   "source": [
    "df_dummy.loc[:, ~df_dummy.columns.isin(['Subject', 'n_Au'])]"
   ]
  },
  {
   "cell_type": "code",
   "execution_count": 72,
   "metadata": {},
   "outputs": [
    {
     "name": "stdout",
     "output_type": "stream",
     "text": [
      "authors2female proportion19.47\n",
      "authors4female proportion19.46\n",
      "authors8female proportion19.07\n",
      "authors6female proportion19.66\n",
      "authors3female proportion19.53\n",
      "authors5female proportion19.53\n",
      "authors1female proportion18.9\n",
      "authors7female proportion19.54\n",
      "authors9female proportion18.22\n",
      "authors10female proportion19.33\n",
      "authors11female proportion18.11\n",
      "authors12female proportion22.12\n"
     ]
    }
   ],
   "source": [
    "femalepercentage1=[]\n",
    "femalepercentage2=[]\n",
    "Authorship_Pattern=[]\n",
    "publication_count=[]\n",
    "df_authorhsippattern=pd.DataFrame()\n",
    "df_dummy1=df_name_country\n",
    "for authors in df_name_country['n_Au'].unique():\n",
    "    if int(authors)<=12:\n",
    "        \n",
    "        femalepercentage1=[]\n",
    "        maleauthors=0\n",
    "        femaleauthors=0\n",
    "        Totalauthors=0\n",
    "        df_dummy=df_name_country.loc[df_name_country['n_Au']==int(authors)]\n",
    "        df_dummy=df_dummy.loc[:, ~df_dummy.columns.isin(['Subject', 'n_Au'])]\n",
    "        publication_count.append(len(df_dummy))\n",
    "        for column in df_dummy[0:int(authors)]:\n",
    "\n",
    "            if int(column)<authors:\n",
    "                maleauthors=maleauthors+df_dummy[column].loc[df_dummy[column]=='male|Pakistan'].count()\n",
    "                femaleauthors=femaleauthors+df_dummy[column].loc[df_dummy[column]=='female|Pakistan'].count()\n",
    "                Totalauthors=maleauthors+femaleauthors\n",
    "        femalepercentage1.append(round((femaleauthors/Totalauthors)*100,2))\n",
    "        Authorship_Pattern.append(int(authors))\n",
    "        femalepercentage2.append(round((femaleauthors/Totalauthors)*100,2))\n",
    "        print('authors'+ str(authors) + 'female proportion'+ str(round((femaleauthors/Totalauthors)*100,2)))"
   ]
  },
  {
   "cell_type": "code",
   "execution_count": 74,
   "metadata": {},
   "outputs": [],
   "source": [
    "df_authorhsippattern['Authorship Pattern']=Authorship_Pattern\n",
    "df_authorhsippattern['Female Proportion (%)']=femalepercentage2\n",
    "df_authorhsippattern['# of publications']=publication_count"
   ]
  },
  {
   "cell_type": "code",
   "execution_count": 70,
   "metadata": {},
   "outputs": [],
   "source": [
    "df_authorhsippattern=pd.read_csv('Authorship_Pattern.csv')"
   ]
  },
  {
   "cell_type": "code",
   "execution_count": 76,
   "metadata": {},
   "outputs": [],
   "source": [
    "df_authorhsippattern.to_csv('Authorship_Pattern_publication.csv')"
   ]
  },
  {
   "cell_type": "code",
   "execution_count": 42,
   "metadata": {},
   "outputs": [
    {
     "name": "stderr",
     "output_type": "stream",
     "text": [
      "<ipython-input-42-45e25419b92f>:42: RuntimeWarning: invalid value encountered in long_scalars\n",
      "  femalepercentage1.append(round((femaleauthors/Totalauthors)*100,2))\n"
     ]
    }
   ],
   "source": [
    "decade=0\n",
    "df_dummy2=df_name_country\n",
    "maleauthorscount=[]\n",
    "totalauthorscount=[]\n",
    "femaleauthorscount=[]\n",
    "femaletomaleratio=[]\n",
    "femalepercentage=[]\n",
    "Subject=[]\n",
    "Subject1=[]\n",
    "maleauthorscount1=[]\n",
    "femaleauthorscount1=[]\n",
    "femaletomaleratio1=[]\n",
    "femalepercentage1=[]\n",
    "maleauthorscount2=[]\n",
    "femaleauthorscount2=[]\n",
    "femaletomaleratio2=[]\n",
    "femalepercentage2=[]\n",
    "maleauthorscount3=[]\n",
    "femaleauthorscount3=[]\n",
    "femaletomaleratio3=[]\n",
    "femalepercentage3=[]\n",
    "publicationyear=[]\n",
    "decadelist=[]\n",
    "for x in df_dummy2['Subject'].unique():\n",
    "    Subject.append(x)\n",
    "    df_dummy1=df_dummy2.loc[df_dummy2['Subject'].str.contains(x)]\n",
    "    \n",
    "    for y in df_dummy1['pub_year'].unique():\n",
    "        Subject1.append(x)\n",
    "        publicationyear.append(y)\n",
    "        df_dummy=df_dummy1.loc[df_dummy1['pub_year']==y]\n",
    "        df_dummy = df_dummy[df_dummy.columns[0:2]]\n",
    "        maleauthors=0\n",
    "        femaleauthors=0\n",
    "        Totalauthors=0\n",
    "        for column in df_dummy:\n",
    "            if int(column)<2:\n",
    "                maleauthors=maleauthors+df_dummy[column].loc[df_dummy[column]=='male|Pakistan'].count()\n",
    "                femaleauthors=femaleauthors+df_dummy[column].loc[df_dummy[column]=='female|Pakistan'].count()\n",
    "                Totalauthors=Totalauthors+maleauthors+femaleauthors\n",
    "        \n",
    "        femalepercentage1.append(round((femaleauthors/Totalauthors)*100,2))\n",
    "\n",
    "\n",
    "\n",
    "\n",
    "# df_decade['Subject']=Subject\n",
    "# df_decade['Male (1)']=maleauthorscount1\n",
    "# df_decade['female1 (1)']=femaleauthorscount1\n",
    "# df_decade['Proportion1 (1)']=femalepercentage1\n",
    "# df_decade['Male (2)']=maleauthorscount2\n",
    "# df_decade['female (2)']=femaleauthorscount2\n",
    "# df_decade['Proportion (2)']=femalepercentage2\n",
    "# df_decade['Male (3)']=maleauthorscount3\n",
    "# df_decade['female (3)']=femaleauthorscount3\n",
    "# df_decade['Proportion (3)']=femalepercentage3\n",
    "# df_decade.to_csv('decade_2020'+str(decade)+'.csv')\n",
    "\n",
    "\n",
    "\n",
    "decade=decade+100"
   ]
  },
  {
   "cell_type": "code",
   "execution_count": 40,
   "metadata": {},
   "outputs": [],
   "source": [
    "df_name_country['pub_year']=final_df['pub_year']"
   ]
  },
  {
   "cell_type": "code",
   "execution_count": 43,
   "metadata": {},
   "outputs": [],
   "source": [
    "dff=pd.DataFrame()"
   ]
  },
  {
   "cell_type": "code",
   "execution_count": 44,
   "metadata": {},
   "outputs": [],
   "source": [
    "dff['Subject']=Subject1\n",
    "dff['Year']=publicationyear\n",
    "dff['Proportion (%)']=femalepercentage1"
   ]
  },
  {
   "cell_type": "code",
   "execution_count": 52,
   "metadata": {},
   "outputs": [],
   "source": [
    "dff.to_csv('yearbased_subjectwise_genderlandscape.csv')"
   ]
  },
  {
   "cell_type": "code",
   "execution_count": 106,
   "metadata": {},
   "outputs": [],
   "source": [
    "ajsr=ajsr.set_index('asjc_code')\n"
   ]
  },
  {
   "cell_type": "code",
   "execution_count": 111,
   "metadata": {},
   "outputs": [
    {
     "data": {
      "text/plain": [
       "0                                  [1107]\n",
       "1                        [1600,2500,3104]\n",
       "2                        [1100,1300,1710]\n",
       "3                        [1600,2500,3104]\n",
       "4                             [2405,2725]\n",
       "                       ...               \n",
       "205627                   [2208,2500,3104]\n",
       "205628    [1303,1503,1604,1605,1606,3002]\n",
       "205629                             [2205]\n",
       "205630                             [1600]\n",
       "205631              [1702,1712,2604,2614]\n",
       "Name: ASJC_str, Length: 205632, dtype: object"
      ]
     },
     "execution_count": 111,
     "metadata": {},
     "output_type": "execute_result"
    }
   ],
   "source": [
    "final_df.ASJC_str"
   ]
  },
  {
   "cell_type": "code",
   "execution_count": 103,
   "metadata": {},
   "outputs": [],
   "source": [
    "ajsr.rename(columns={'asjc_description1':'asjc_description'}, inplace=True)"
   ]
  },
  {
   "cell_type": "code",
   "execution_count": 151,
   "metadata": {},
   "outputs": [
    {
     "name": "stdout",
     "output_type": "stream",
     "text": [
      "General Agricultural and Biological Sciences\n"
     ]
    }
   ],
   "source": [
    "print(z.loc[z['indexx']==1100]['asjc_description'].values[0])"
   ]
  },
  {
   "cell_type": "code",
   "execution_count": 171,
   "metadata": {},
   "outputs": [
    {
     "data": {
      "text/plain": [
       "205632"
      ]
     },
     "execution_count": 171,
     "metadata": {},
     "output_type": "execute_result"
    }
   ],
   "source": [
    "len(final_df['ASJC'])"
   ]
  },
  {
   "cell_type": "code",
   "execution_count": 50,
   "metadata": {},
   "outputs": [],
   "source": [
    "dff=dff.loc[dff['Year']>1947]"
   ]
  },
  {
   "cell_type": "code",
   "execution_count": 64,
   "metadata": {},
   "outputs": [],
   "source": [
    "agri=dff.loc[dff['Subject']=='AGRI'].loc[dff['Year']>1947]"
   ]
  },
  {
   "cell_type": "code",
   "execution_count": 65,
   "metadata": {},
   "outputs": [],
   "source": [
    "agri=agri.set_index('Year')"
   ]
  },
  {
   "cell_type": "code",
   "execution_count": 66,
   "metadata": {},
   "outputs": [],
   "source": [
    "agri=agri.sort_index()"
   ]
  },
  {
   "cell_type": "code",
   "execution_count": 67,
   "metadata": {},
   "outputs": [],
   "source": [
    "agri.rename(columns={'Proportion':'Proportion (%)'}, inplace=True)"
   ]
  },
  {
   "cell_type": "code",
   "execution_count": 176,
   "metadata": {},
   "outputs": [
    {
     "data": {
      "text/plain": [
       "306"
      ]
     },
     "execution_count": 176,
     "metadata": {},
     "output_type": "execute_result"
    }
   ],
   "source": [
    "len(final_df['Subject_Name'].unique())"
   ]
  },
  {
   "cell_type": "code",
   "execution_count": 177,
   "metadata": {},
   "outputs": [
    {
     "data": {
      "text/plain": [
       "28"
      ]
     },
     "execution_count": 177,
     "metadata": {},
     "output_type": "execute_result"
    }
   ],
   "source": [
    "len(final_df['Subject'].unique())"
   ]
  },
  {
   "cell_type": "code",
   "execution_count": 509,
   "metadata": {},
   "outputs": [
    {
     "data": {
      "text/html": [
       "<div>\n",
       "<style scoped>\n",
       "    .dataframe tbody tr th:only-of-type {\n",
       "        vertical-align: middle;\n",
       "    }\n",
       "\n",
       "    .dataframe tbody tr th {\n",
       "        vertical-align: top;\n",
       "    }\n",
       "\n",
       "    .dataframe thead th {\n",
       "        text-align: right;\n",
       "    }\n",
       "</style>\n",
       "<table border=\"1\" class=\"dataframe\">\n",
       "  <thead>\n",
       "    <tr style=\"text-align: right;\">\n",
       "      <th></th>\n",
       "      <th>Subject</th>\n",
       "      <th>Male (1)</th>\n",
       "      <th>female1 (1)</th>\n",
       "      <th>Proportion1 (1)</th>\n",
       "      <th>Male (2)</th>\n",
       "      <th>female (2)</th>\n",
       "      <th>Proportion (2)</th>\n",
       "      <th>Male (3)</th>\n",
       "      <th>female (3)</th>\n",
       "      <th>Proportion (3)</th>\n",
       "    </tr>\n",
       "  </thead>\n",
       "  <tbody>\n",
       "    <tr>\n",
       "      <th>3</th>\n",
       "      <td>MEDI</td>\n",
       "      <td>25567</td>\n",
       "      <td>5708</td>\n",
       "      <td>18.250999</td>\n",
       "      <td>11568</td>\n",
       "      <td>2610</td>\n",
       "      <td>18.408802</td>\n",
       "      <td>5265</td>\n",
       "      <td>1051</td>\n",
       "      <td>16.640279</td>\n",
       "    </tr>\n",
       "    <tr>\n",
       "      <th>0</th>\n",
       "      <td>AGRI</td>\n",
       "      <td>18155</td>\n",
       "      <td>3992</td>\n",
       "      <td>18.025015</td>\n",
       "      <td>11008</td>\n",
       "      <td>2396</td>\n",
       "      <td>17.875261</td>\n",
       "      <td>4949</td>\n",
       "      <td>1034</td>\n",
       "      <td>17.282300</td>\n",
       "    </tr>\n",
       "    <tr>\n",
       "      <th>8</th>\n",
       "      <td>COMP</td>\n",
       "      <td>13656</td>\n",
       "      <td>3119</td>\n",
       "      <td>18.593145</td>\n",
       "      <td>6402</td>\n",
       "      <td>1312</td>\n",
       "      <td>17.008037</td>\n",
       "      <td>2105</td>\n",
       "      <td>454</td>\n",
       "      <td>17.741305</td>\n",
       "    </tr>\n",
       "    <tr>\n",
       "      <th>1</th>\n",
       "      <td>CHEM</td>\n",
       "      <td>7981</td>\n",
       "      <td>1713</td>\n",
       "      <td>17.670724</td>\n",
       "      <td>4589</td>\n",
       "      <td>1001</td>\n",
       "      <td>17.906977</td>\n",
       "      <td>2090</td>\n",
       "      <td>435</td>\n",
       "      <td>17.227723</td>\n",
       "    </tr>\n",
       "    <tr>\n",
       "      <th>6</th>\n",
       "      <td>ENGI</td>\n",
       "      <td>7769</td>\n",
       "      <td>1723</td>\n",
       "      <td>18.152128</td>\n",
       "      <td>3850</td>\n",
       "      <td>857</td>\n",
       "      <td>18.206926</td>\n",
       "      <td>1437</td>\n",
       "      <td>278</td>\n",
       "      <td>16.209913</td>\n",
       "    </tr>\n",
       "  </tbody>\n",
       "</table>\n",
       "</div>"
      ],
      "text/plain": [
       "  Subject  Male (1)  female1 (1)  Proportion1 (1)  Male (2)  female (2)  \\\n",
       "3    MEDI     25567         5708        18.250999     11568        2610   \n",
       "0    AGRI     18155         3992        18.025015     11008        2396   \n",
       "8    COMP     13656         3119        18.593145      6402        1312   \n",
       "1    CHEM      7981         1713        17.670724      4589        1001   \n",
       "6    ENGI      7769         1723        18.152128      3850         857   \n",
       "\n",
       "   Proportion (2)  Male (3)  female (3)  Proportion (3)  \n",
       "3       18.408802      5265        1051       16.640279  \n",
       "0       17.875261      4949        1034       17.282300  \n",
       "8       17.008037      2105         454       17.741305  \n",
       "1       17.906977      2090         435       17.227723  \n",
       "6       18.206926      1437         278       16.209913  "
      ]
     },
     "execution_count": 509,
     "metadata": {},
     "output_type": "execute_result"
    }
   ],
   "source": [
    "df_decade.nlargest(5,'Male (1)')"
   ]
  },
  {
   "cell_type": "code",
   "execution_count": 391,
   "metadata": {},
   "outputs": [
    {
     "data": {
      "text/plain": [
       "1682"
      ]
     },
     "execution_count": 391,
     "metadata": {},
     "output_type": "execute_result"
    }
   ],
   "source": [
    "df_name_country['0'].str.endswith('female').sum()"
   ]
  },
  {
   "cell_type": "code",
   "execution_count": null,
   "metadata": {},
   "outputs": [],
   "source": [
    "# for x in df_name_country['Subject'].unique():\n",
    "  \n",
    "#     print(str(x)+' count is '+str(df_name_country['Subject'].loc[df_name_country['Subject'].str.contains(x)].count()))\n",
    "#     maleauthorscount=[]\n",
    "#     femaleauthorscount=[]\n",
    "#     femaletomaleratio=[]\n",
    "#     femalepercentage=[]\n",
    "#     df_dummy=df_name_country.loc[df_name_country['Subject'].str.contains(x)]\n",
    "#     df_dummy = df_dummy[df_dummy.columns[0:3]]\n",
    "#     for column in df_dummy:\n",
    "#         if int(column)<10:\n",
    "\n",
    "#             maleauthors=df_dummy[column].loc[df_dummy[column]=='male|Pakistan'].count()\n",
    "#             femaleauthors=df_dummy[column].loc[df_dummy[column]=='female|Pakistan'].count()\n",
    "#             Totalauthors=maleauthors+femaleauthors\n",
    "#             maleauthorscount.append(maleauthors)\n",
    "#             femaleauthorscount.append(femaleauthors)\n",
    "#             femaletomaleratio.append(femaleauthors/maleauthors)\n",
    "#             femalepercentage.append(femaleauthors/Totalauthors)\n",
    "\n",
    "#             print(str(int(column)+1)+' Authorship -->  Male '+str(maleauthors)+' Female '+str(femaleauthors)+' Total '+str(Totalauthors)+' male to female ratio '+str(femaleauthors/maleauthors))\n"
   ]
  },
  {
   "cell_type": "code",
   "execution_count": null,
   "metadata": {},
   "outputs": [],
   "source": [
    "objs = [MyClass() for i in range(100)]\n",
    "for obj in objs:\n",
    "    other_object.add(obj)\n",
    "\n",
    "objs[0]"
   ]
  },
  {
   "cell_type": "code",
   "execution_count": null,
   "metadata": {},
   "outputs": [],
   "source": [
    "quoted = re.compile(\"(?<=')[^']+(?=')\")\n",
    "\n",
    "City=2\n",
    "Country=3\n",
    "University=6\n",
    "\n",
    "countrieslist=[]\n",
    "universitylist=[]\n",
    "citylist=[]\n",
    "for x in data.Au_str.values:\n",
    "    print(len(re.findall('\\(([^)]+)', x)))\n",
    "    str1=''\n",
    "    i=[]\n",
    "    for c in re.findall('\\(([^)]+)', x):\n",
    "       \n",
    "        if(c is not None):\n",
    "#             print(c)\n",
    "            if(len(c.split(','))>6):\n",
    "#                 quoted.findall(l[0].split('=')[6])[2]\n",
    "                ll=quoted.findall(str(c.split('=')[1]))\n",
    "                print(ll)\n",
    "                if len(ll)>0:\n",
    "                    i.append(ll[len(ll)-1])\n",
    "                    print(i)\n",
    "#                 else:\n",
    "#                     for value in quoted.findall(str(c.split(',')[City-1])):\n",
    "#     #                     str1=str1+value+','\n",
    "#     #                     print(str1)\n",
    "#                         i.append(value)\n",
    "#                         print(i)\n",
    "    my_string = ','.join(i)\n",
    "    universitylist.append(str(my_string))\n",
    "    "
   ]
  },
  {
   "cell_type": "code",
   "execution_count": null,
   "metadata": {},
   "outputs": [],
   "source": [
    "import re\n",
    "quoted = re.compile(\"(?<=')[^']+(?=')\")\n",
    "\n",
    "Authorswithfullname=[]\n",
    "Authorswithfirstlastname=[]\n",
    "citylist=[]\n",
    "count=0\n",
    "for x in data.Au_str.values:\n",
    "#     print(len(re.findall('\\(([^)]+)', x)))\n",
    "    str1=''\n",
    "    fullnamelist=[]\n",
    "    fistlastlist=[]\n",
    "    count=count+1\n",
    "    print(count)\n",
    "    for c in re.findall('\\(([^)]+)', x):\n",
    "        if len(c.split(\", \"))>2:\n",
    "            authors = dict(item.split(\"=\") for item in c.split(\", \"))\n",
    "            if authors['given_name'] != None:\n",
    "                Firstname=quoted.findall(authors['given_name'])\n",
    "\n",
    "            else:\n",
    "                if authors['given_name_pn'] != None:\n",
    "                    Firstname=quoted.findall(authors['given_name'])\n",
    "                else:\n",
    "                    Firstname=[' ']\n",
    "            if \"surname\" in authors:\n",
    "                if authors['surname'] != None:\n",
    "                    Lastname=quoted.findall(authors['surname'])\n",
    "            else:\n",
    "                if \"surname_pn\" in authors:\n",
    "                    if authors['surname_pn'] != None:\n",
    "                        Lastname=quoted.findall(authors['surname_pn'])\n",
    "                Lastname=' '\n",
    "\n",
    "    #         if len(Firstname)==0:\n",
    "    #             Firstname=quoted.findall(authors['given_name_pn'])\n",
    "    #             if len(Firstname)==0:\n",
    "    #                 Firstname=quoted.findall(authors['initials_pn'])\n",
    "\n",
    "            print(Firstname)\n",
    "            print(Lastname)\n",
    "            if len(Firstname)==0:\n",
    "                Fullname=''+' '+str(Lastname)\n",
    "                first_last=''+'_'+str(Lastname)\n",
    "                fullnamelist.append(Fullname)\n",
    "                fistlastlist.append(first_last)\n",
    "            else:\n",
    "\n",
    "                Fullname=Firstname[0]+' '+str(Lastname)\n",
    "                first_last=Firstname[0]+'_'+str(Lastname)\n",
    "                fullnamelist.append(Fullname)\n",
    "                fistlastlist.append(first_last)\n",
    "                   \n",
    "    fullname_string = ','.join(fullnamelist)\n",
    "    Authorswithfullname.append(str(fullname_string))\n",
    "    firstlast_string = ','.join(fistlastlist)\n",
    "    Authorswithfirstlastname.append(str(firstlast_string))\n",
    "    \n",
    "    "
   ]
  },
  {
   "cell_type": "code",
   "execution_count": null,
   "metadata": {},
   "outputs": [],
   "source": [
    "import re\n",
    "quoted = re.compile(\"(?<=')[^']+(?=')\")\n",
    "\n",
    "Authorswithfullname=[]\n",
    "Authorswithfirstlastname=[]\n",
    "citylist=[]\n",
    "count=0\n",
    "for x in data.Au_str.values:\n",
    "#     print(len(re.findall('\\(([^)]+)', x)))\n",
    "    str1=''\n",
    "    fullnamelist=[]\n",
    "    fistlastlist=[]\n",
    "    count=count+1\n",
    "    print(count)\n",
    "    for c in re.findall('\\(([^)]+)', x):\n",
    "        if len(c.split(\", \"))>2:\n",
    "            authors = dict(item.split(\"=\") for item in c.split(\", \"))\n",
    "            if authors['given_name'] != None:\n",
    "                Firstname=quoted.findall(authors['given_name'])\n",
    "\n",
    "            else:\n",
    "                if authors['given_name_pn'] != None:\n",
    "                    Firstname=quoted.findall(authors['given_name'])\n",
    "                else:\n",
    "                    Firstname=[' ']\n",
    "            if \"surname\" in authors:\n",
    "                if authors['surname'] != None:\n",
    "                    Lastname=quoted.findall(authors['surname'])\n",
    "            else:\n",
    "                if \"surname_pn\" in authors:\n",
    "                    if authors['surname_pn'] != None:\n",
    "                        Lastname=quoted.findall(authors['surname_pn'])\n",
    "                Lastname=' '\n",
    "\n",
    "    #         if len(Firstname)==0:\n",
    "    #             Firstname=quoted.findall(authors['given_name_pn'])\n",
    "    #             if len(Firstname)==0:\n",
    "    #                 Firstname=quoted.findall(authors['initials_pn'])\n",
    "\n",
    "            print(Firstname)\n",
    "            print(Lastname)\n",
    "            if len(Firstname)==0:\n",
    "                Fullname=''+' '+str(Lastname)\n",
    "                first_last=''+'_'+str(Lastname)\n",
    "                fullnamelist.append(Fullname)\n",
    "                fistlastlist.append(first_last)\n",
    "            else:\n",
    "\n",
    "                Fullname=Firstname[0]+' '+str(Lastname)\n",
    "                first_last=Firstname[0]+'_'+str(Lastname)\n",
    "                fullnamelist.append(Fullname)\n",
    "                fistlastlist.append(first_last)\n",
    "                   \n",
    "    fullname_string = ','.join(fullnamelist)\n",
    "    Authorswithfullname.append(str(fullname_string))\n",
    "    firstlast_string = ','.join(fistlastlist)\n",
    "    Authorswithfirstlastname.append(str(firstlast_string))\n",
    "    \n",
    "    "
   ]
  },
  {
   "cell_type": "markdown",
   "metadata": {},
   "source": [
    "# Checking affiliations\n"
   ]
  },
  {
   "cell_type": "code",
   "execution_count": 135,
   "metadata": {},
   "outputs": [
    {
     "data": {
      "text/plain": [
       "\"[Row(Authorseq=1, auid=17345359600, author_type=None, collaboration=False, degrees=None, e_address=None, e_address_type=None, given_name='Muhammad Nadeem', given_name_pn='Muhammad Nadeem', indexed_name='Arshad M.N.', indexed_name_pn='Arshad M.', initials='M.N.', initials_pn='M.N.', instance_id=None, members=None, nametext=None, orcid=None, suffix=None, surname='Arshad', surname_pn='Arshad'),Row(Authorseq=2, auid=34769679600, author_type=None, collaboration=False, degrees=None, e_address=None, e_address_type=None, given_name='Islam Ullah', given_name_pn='Islam Ullah', indexed_name='Khan I.U.', indexed_name_pn='Khan I.', initials='I.U.', initials_pn='I.U.', instance_id=None, members=None, nametext=None, orcid=None, suffix=None, surname='Khan', surname_pn='Khan'),Row(Authorseq=3, auid=14832237900, author_type=None, collaboration=False, degrees=None, e_address='akkurt@erciyes.edu.tr', e_address_type='email', given_name='Mehmet', given_name_pn='Mehmet', indexed_name='Akkurt M.', indexed_name_pn='Akkurt M.', initials='M.', initials_pn='M.', instance_id=None, members=None, nametext=None, orcid=None, suffix=None, surname='Akkurt', surname_pn='Akkurt'),Row(Authorseq=4, auid=57207486564, author_type=None, collaboration=False, degrees=None, e_address=None, e_address_type=None, given_name='Muhammad', given_name_pn='Muhammad', indexed_name='Shafiq M.', indexed_name_pn='Shafiq M.', initials='M.', initials_pn='M.', instance_id=None, members=None, nametext=None, orcid=None, suffix=None, surname='Shafiq', surname_pn='Shafiq')]\""
      ]
     },
     "execution_count": 135,
     "metadata": {},
     "output_type": "execute_result"
    }
   ],
   "source": [
    "data.Au_str.values[1]"
   ]
  },
  {
   "cell_type": "code",
   "execution_count": 6,
   "metadata": {},
   "outputs": [
    {
     "data": {
      "text/plain": [
       "str"
      ]
     },
     "execution_count": 6,
     "metadata": {},
     "output_type": "execute_result"
    }
   ],
   "source": [
    "type(data.Af_str.values[1])"
   ]
  },
  {
   "cell_type": "code",
   "execution_count": 7,
   "metadata": {},
   "outputs": [],
   "source": [
    "x=data.Af_str.values[1]"
   ]
  },
  {
   "cell_type": "code",
   "execution_count": 8,
   "metadata": {},
   "outputs": [
    {
     "data": {
      "text/plain": [
       "\"(affiliation_address_part=None, affiliation_city=None, affiliation_city_group='Lahore', affiliation_country='Pakistan', affiliation_ids=[60037950], affiliation_organization=['Department of Chemistry', 'Government College University'], affiliation_organization_count=2, affiliation_postal_code=None, affiliation_state=None, affiliation_tag_country='pak', affiliation_text=None, afid=60037950, dptid=100266843\""
      ]
     },
     "execution_count": 8,
     "metadata": {},
     "output_type": "execute_result"
    }
   ],
   "source": [
    "import re\n",
    "s = 'Name(something)'\n",
    "re.search('\\(([^)]+)', x).group(0)"
   ]
  },
  {
   "cell_type": "code",
   "execution_count": 9,
   "metadata": {},
   "outputs": [
    {
     "data": {
      "text/plain": [
       "[\"affiliation_address_part=None, affiliation_city=None, affiliation_city_group='Lahore', affiliation_country='Pakistan', affiliation_ids=[60037950], affiliation_organization=['Department of Chemistry', 'Government College University'], affiliation_organization_count=2, affiliation_postal_code=None, affiliation_state=None, affiliation_tag_country='pak', affiliation_text=None, afid=60037950, dptid=100266843\",\n",
       " \"affiliation_address_part=None, affiliation_city=None, affiliation_city_group='38039 Kayseri', affiliation_country='Turkey', affiliation_ids=[60003217], affiliation_organization=['Department of Physics', 'Faculty of Arts and Sciences', 'Erciyes University'], affiliation_organization_count=3, affiliation_postal_code=None, affiliation_state=None, affiliation_tag_country='tur', affiliation_text=None, afid=60003217, dptid=103214951\"]"
      ]
     },
     "execution_count": 9,
     "metadata": {},
     "output_type": "execute_result"
    }
   ],
   "source": [
    "re.findall('\\(([^)]+)', x)"
   ]
  },
  {
   "cell_type": "code",
   "execution_count": 30,
   "metadata": {},
   "outputs": [
    {
     "data": {
      "text/plain": [
       "\"[Row(affiliation_address_part=None, affiliation_city='Hefei', affiliation_city_group=None, affiliation_country='China', affiliation_ids=[60019499, 60089931, 60019118], affiliation_organization=['Molecular and Cell Genetics Laboratory, CAS Key Laboratory of Innate Immunity and Chronic Disease, Hefei National Laboratory for Physical Sciences at Microscale, School of Life Sciences, University of Science and Technology of China'], affiliation_organization_count=1, affiliation_postal_code='230027', affiliation_state=None, affiliation_tag_country='chn', affiliation_text=None, afid=60089931, dptid=113880100),Row(affiliation_address_part=None, affiliation_city='Hefei', affiliation_city_group=None, affiliation_country='China', affiliation_ids=[60014454], affiliation_organization=['Department of Biochemistry and Molecular Biology, School of Basic Medical Sciences, Anhui Medical University'], affiliation_organization_count=1, affiliation_postal_code='230032', affiliation_state=None, affiliation_tag_country='chn', affiliation_text=None, afid=60014454, dptid=112668363),Row(affiliation_address_part=None, affiliation_city='Hefei', affiliation_city_group=None, affiliation_country='China', affiliation_ids=[60073548, 60014454], affiliation_organization=['Center for Reproductive Medicine, Anhui Provincial Hospital Affiliated to Anhui Medical University'], affiliation_organization_count=1, affiliation_postal_code='230001', affiliation_state=None, affiliation_tag_country='chn', affiliation_text=None, afid=60073548, dptid=116339396),Row(affiliation_address_part=None, affiliation_city='Lexington', affiliation_city_group=None, affiliation_country='United States', affiliation_ids=[60015941], affiliation_organization=['Department of Statistics, University of Kentucky'], affiliation_organization_count=1, affiliation_postal_code='40506', affiliation_state='KY', affiliation_tag_country='usa', affiliation_text=None, afid=60015941, dptid=113155495),Row(affiliation_address_part='2005 Songhu Road', affiliation_city='Shanghai', affiliation_city_group=None, affiliation_country='China', affiliation_ids=[60009860], affiliation_organization=['Collaborative Innovation Center of Genetics and Development, Fudan University'], affiliation_organization_count=1, affiliation_postal_code='200438', affiliation_state=None, affiliation_tag_country='chn', affiliation_text=None, afid=60009860, dptid=114401524),Row(affiliation_address_part=None, affiliation_city='Hefei', affiliation_city_group=None, affiliation_country='China', affiliation_ids=[60006354, 60019499], affiliation_organization=['Hefei Institutes of Physical Science, Chinese Academy of Sciences'], affiliation_organization_count=1, affiliation_postal_code='230031', affiliation_state=None, affiliation_tag_country='chn', affiliation_text=None, afid=60006354, dptid=None),Row(affiliation_address_part=None, affiliation_city=None, affiliation_city_group=None, affiliation_country='Pakistan', affiliation_ids=[60034410], affiliation_organization=['Institute of Pure and Applied Biology, Bahauddin Zakariya University Multan'], affiliation_organization_count=1, affiliation_postal_code='60800', affiliation_state=None, affiliation_tag_country='pak', affiliation_text=None, afid=60034410, dptid=104703328)]\""
      ]
     },
     "execution_count": 30,
     "metadata": {},
     "output_type": "execute_result"
    }
   ],
   "source": [
    "data.Af_str.values[2]"
   ]
  },
  {
   "cell_type": "code",
   "execution_count": 53,
   "metadata": {},
   "outputs": [
    {
     "name": "stdout",
     "output_type": "stream",
     "text": [
      "Initial String affiliation_address_part=None, affiliation_city=None, affiliation_city_group='38039 Kayseri', affiliation_country='Turkey', affiliation_ids=[60003217], affiliation_organization=['Department of Physics', 'Faculty of Arts and Sciences', 'Erciyes University'], affiliation_organization_count=3, affiliation_postal_code=None, affiliation_state=None, affiliation_tag_country='tur', affiliation_text=None, afid=60003217, dptid=103214951\n"
     ]
    },
    {
     "ename": "ValueError",
     "evalue": "dictionary update sequence element #6 has length 1; 2 is required",
     "output_type": "error",
     "traceback": [
      "\u001b[1;31m---------------------------------------------------------------------------\u001b[0m",
      "\u001b[1;31mValueError\u001b[0m                                Traceback (most recent call last)",
      "\u001b[1;32m<ipython-input-53-5b59ca68448f>\u001b[0m in \u001b[0;36m<module>\u001b[1;34m\u001b[0m\n\u001b[0;32m     11\u001b[0m \u001b[1;31m# Converting string into dictionary\u001b[0m\u001b[1;33m\u001b[0m\u001b[1;33m\u001b[0m\u001b[1;33m\u001b[0m\u001b[0m\n\u001b[0;32m     12\u001b[0m \u001b[1;31m# using dict comprehension\u001b[0m\u001b[1;33m\u001b[0m\u001b[1;33m\u001b[0m\u001b[1;33m\u001b[0m\u001b[0m\n\u001b[1;32m---> 13\u001b[1;33m \u001b[0mres\u001b[0m \u001b[1;33m=\u001b[0m \u001b[0mdict\u001b[0m\u001b[1;33m(\u001b[0m\u001b[0mitem\u001b[0m\u001b[1;33m.\u001b[0m\u001b[0msplit\u001b[0m\u001b[1;33m(\u001b[0m\u001b[1;34m\"=\"\u001b[0m\u001b[1;33m)\u001b[0m \u001b[1;32mfor\u001b[0m \u001b[0mitem\u001b[0m \u001b[1;32min\u001b[0m \u001b[0ml\u001b[0m\u001b[1;33m[\u001b[0m\u001b[1;36m0\u001b[0m\u001b[1;33m]\u001b[0m\u001b[1;33m.\u001b[0m\u001b[0msplit\u001b[0m\u001b[1;33m(\u001b[0m\u001b[1;34m\", \"\u001b[0m\u001b[1;33m)\u001b[0m\u001b[1;33m)\u001b[0m\u001b[1;33m\u001b[0m\u001b[1;33m\u001b[0m\u001b[0m\n\u001b[0m\u001b[0;32m     14\u001b[0m \u001b[1;33m\u001b[0m\u001b[0m\n\u001b[0;32m     15\u001b[0m \u001b[1;31m# Printing resultant string\u001b[0m\u001b[1;33m\u001b[0m\u001b[1;33m\u001b[0m\u001b[1;33m\u001b[0m\u001b[0m\n",
      "\u001b[1;31mValueError\u001b[0m: dictionary update sequence element #6 has length 1; 2 is required"
     ]
    }
   ],
   "source": [
    "# Python3 code to demonstrate \n",
    "# converting comma separated string \n",
    "# into dictionary \n",
    "\n",
    "# Initialising string \n",
    "ini_string1 = 'name = akshat, course = btech, branch = computer'\n",
    "\n",
    "# Printing initial string \n",
    "print (\"Initial String\", l[1]) \n",
    "\n",
    "# Converting string into dictionary \n",
    "# using dict comprehension \n",
    "res = dict(item.split(\"=\") for item in l[0].split(\", \")) \n",
    "\t\t\n",
    "# Printing resultant string \n",
    "print (\"Resultant dictionary\", str(res)) \n",
    "\t\n"
   ]
  },
  {
   "cell_type": "code",
   "execution_count": 84,
   "metadata": {},
   "outputs": [
    {
     "data": {
      "text/plain": [
       "\"affiliation_address_part=None, affiliation_city=None, affiliation_city_group='Lahore', affiliation_country='Pakistan', affiliation_ids=[60037950], affiliation_organization=['Department of Chemistry', 'Government College University'], affiliation_organization_count=2, affiliation_postal_code=None, affiliation_state=None, affiliation_tag_country='pak', affiliation_text=None, afid=60037950, dptid=100266843\""
      ]
     },
     "execution_count": 84,
     "metadata": {},
     "output_type": "execute_result"
    }
   ],
   "source": [
    "l[0]"
   ]
  },
  {
   "cell_type": "code",
   "execution_count": 85,
   "metadata": {},
   "outputs": [],
   "source": [
    "x=data.Af_str.values[1]"
   ]
  },
  {
   "cell_type": "code",
   "execution_count": 86,
   "metadata": {},
   "outputs": [],
   "source": [
    "l=re.findall('\\(([^)]+)', x)"
   ]
  },
  {
   "cell_type": "code",
   "execution_count": 87,
   "metadata": {},
   "outputs": [
    {
     "data": {
      "text/plain": [
       "\"affiliation_address_part=None, affiliation_city=None, affiliation_city_group='Lahore', affiliation_country='Pakistan', affiliation_ids=[60037950], affiliation_organization=['Department of Chemistry', 'Government College University'], affiliation_organization_count=2, affiliation_postal_code=None, affiliation_state=None, affiliation_tag_country='pak', affiliation_text=None, afid=60037950, dptid=100266843\""
      ]
     },
     "execution_count": 87,
     "metadata": {},
     "output_type": "execute_result"
    }
   ],
   "source": [
    "l[0]"
   ]
  },
  {
   "cell_type": "code",
   "execution_count": 102,
   "metadata": {},
   "outputs": [],
   "source": [
    "xxx=l[0].split('=')[6]"
   ]
  },
  {
   "cell_type": "code",
   "execution_count": 101,
   "metadata": {},
   "outputs": [
    {
     "data": {
      "text/plain": [
       "'D'"
      ]
     },
     "execution_count": 101,
     "metadata": {},
     "output_type": "execute_result"
    }
   ],
   "source": [
    "xxx"
   ]
  },
  {
   "cell_type": "code",
   "execution_count": 99,
   "metadata": {},
   "outputs": [
    {
     "data": {
      "text/plain": [
       "'Government College University'"
      ]
     },
     "execution_count": 99,
     "metadata": {},
     "output_type": "execute_result"
    }
   ],
   "source": [
    "quoted.findall(l[0].split('=')[6])[2]"
   ]
  },
  {
   "cell_type": "code",
   "execution_count": 88,
   "metadata": {},
   "outputs": [],
   "source": [
    "ll=quoted.findall(str(l[0].split('=')[2]))"
   ]
  },
  {
   "cell_type": "code",
   "execution_count": 89,
   "metadata": {},
   "outputs": [
    {
     "data": {
      "text/plain": [
       "0"
      ]
     },
     "execution_count": 89,
     "metadata": {},
     "output_type": "execute_result"
    }
   ],
   "source": [
    "len(ll)"
   ]
  },
  {
   "cell_type": "markdown",
   "metadata": {},
   "source": [
    "# Code to extract city, country of author"
   ]
  },
  {
   "cell_type": "code",
   "execution_count": null,
   "metadata": {},
   "outputs": [],
   "source": []
  },
  {
   "cell_type": "code",
   "execution_count": 132,
   "metadata": {},
   "outputs": [],
   "source": [
    "newdf['Countries']=countrieslist"
   ]
  },
  {
   "cell_type": "code",
   "execution_count": 124,
   "metadata": {},
   "outputs": [],
   "source": [
    "newdf['universities']=universitylist"
   ]
  },
  {
   "cell_type": "code",
   "execution_count": 110,
   "metadata": {},
   "outputs": [
    {
     "data": {
      "text/plain": [
       "0                                     University of Karachi\n",
       "1          Government College University,Erciyes University\n",
       "2         Molecular and Cell Genetics Laboratory, CAS Ke...\n",
       "3             University of Sargodha,University of Sargodha\n",
       "4         Kuwait Teaching Hospital,Defence Housing Autho...\n",
       "                                ...                        \n",
       "207392    NWFP University of Engineering and Technology,...\n",
       "207393         University of Karachi,Baluchistan University\n",
       "207394    Structures Department, AMEY,Department of Civi...\n",
       "207395                              Quaid-i-Azam University\n",
       "207396    University of the Punjab,Dalhousie University ...\n",
       "Name: universities, Length: 207397, dtype: object"
      ]
     },
     "execution_count": 110,
     "metadata": {},
     "output_type": "execute_result"
    }
   ],
   "source": [
    "newdf['universities']"
   ]
  },
  {
   "cell_type": "code",
   "execution_count": 130,
   "metadata": {},
   "outputs": [],
   "source": [
    "newdf['Cities']=citylist"
   ]
  },
  {
   "cell_type": "code",
   "execution_count": 76,
   "metadata": {},
   "outputs": [
    {
     "data": {
      "text/plain": [
       "0                                      Karachi-75270\n",
       "1                               Lahore,38039 Kayseri\n",
       "2         Hefei,Hefei,Hefei,Lexington,Shanghai,Hefei\n",
       "3                                  Sargodha,Sargodha\n",
       "4                         Karachi,Islamabad,Peshawar\n",
       "                             ...                    \n",
       "207392                  Peshawar,Islamabad,Islamabad\n",
       "207393                          Karachi-75270,Quetta\n",
       "207394                                              \n",
       "207395                                     Islamabad\n",
       "207396                                        Lahore\n",
       "Name: Cities, Length: 207397, dtype: object"
      ]
     },
     "execution_count": 76,
     "metadata": {},
     "output_type": "execute_result"
    }
   ],
   "source": [
    "newdf['Cities']"
   ]
  },
  {
   "cell_type": "code",
   "execution_count": 57,
   "metadata": {},
   "outputs": [
    {
     "data": {
      "text/plain": [
       "0                                                  Pakistan\n",
       "1                                           Pakistan,Turkey\n",
       "2         China,China,China,United States,China,China,Pa...\n",
       "3                                         Pakistan,Pakistan\n",
       "4                                          Pakistan,Karachi\n",
       "                                ...                        \n",
       "207392                           Pakistan,Pakistan,Pakistan\n",
       "207393                                    Pakistan,Pakistan\n",
       "207394                              United Kingdom,Pakistan\n",
       "207395                                             Pakistan\n",
       "207396                     Pakistan,Canada,Romania,Pakistan\n",
       "Name: Countries, Length: 207397, dtype: object"
      ]
     },
     "execution_count": 57,
     "metadata": {},
     "output_type": "execute_result"
    }
   ],
   "source": [
    "newdf['Countries']"
   ]
  },
  {
   "cell_type": "markdown",
   "metadata": {},
   "source": [
    "### Issues in extracting uni name. as i am seperating values based on ',' split function. The university name itself has , in it. The problem can be solved but would take time and more complex logic to handle , and [] to seperate university name and department name. "
   ]
  },
  {
   "cell_type": "markdown",
   "metadata": {},
   "source": [
    "##### After careful evaluation, the university name and department name can be seperated using split function to seperate based on '=' sign. after seperation find using re library values within square brackets '[]'"
   ]
  },
  {
   "cell_type": "markdown",
   "metadata": {},
   "source": [
    "## Code to extract University Name. \n"
   ]
  },
  {
   "cell_type": "code",
   "execution_count": 122,
   "metadata": {},
   "outputs": [],
   "source": [
    "newdf=pd.DataFrame()"
   ]
  },
  {
   "cell_type": "code",
   "execution_count": null,
   "metadata": {},
   "outputs": [],
   "source": [
    "quoted = re.compile(\"(?<=')[^']+(?=')\")\n",
    "\n",
    "City=2\n",
    "Country=3\n",
    "University=6\n",
    "\n",
    "countrieslist=[]\n",
    "universitylist=[]\n",
    "citylist=[]\n",
    "for x in data.Af_str.values:\n",
    "    print(len(re.findall('\\(([^)]+)', x)))\n",
    "    str1=''\n",
    "    i=[]\n",
    "    for c in re.findall('\\(([^)]+)', x):\n",
    "       \n",
    "        if(c is not None):\n",
    "#             print(c)\n",
    "            if(len(c.split('='))>6):\n",
    "#                 quoted.findall(l[0].split('=')[6])[2]\n",
    "                ll=quoted.findall(str(c.split('=')[University]))\n",
    "                print(ll)\n",
    "                if len(ll)>0:\n",
    "                    i.append(ll[len(ll)-1])\n",
    "                    print(i)\n",
    "#                 else:\n",
    "#                     for value in quoted.findall(str(c.split(',')[City-1])):\n",
    "#     #                     str1=str1+value+','\n",
    "#     #                     print(str1)\n",
    "#                         i.append(value)\n",
    "#                         print(i)\n",
    "    my_string = ','.join(i)\n",
    "    universitylist.append(str(my_string))\n",
    "    "
   ]
  },
  {
   "cell_type": "code",
   "execution_count": 126,
   "metadata": {},
   "outputs": [],
   "source": [
    "newdf['Departments']=departmentlist"
   ]
  },
  {
   "cell_type": "code",
   "execution_count": 133,
   "metadata": {},
   "outputs": [],
   "source": [
    "newdf.to_csv('City_country_university.csv')"
   ]
  },
  {
   "cell_type": "code",
   "execution_count": null,
   "metadata": {},
   "outputs": [],
   "source": [
    "quoted = re.compile(\"(?<=')[^']+(?=')\")\n",
    "\n",
    "City=2\n",
    "Country=3\n",
    "University=5\n",
    "# newdf=pd.DataFrame()\n",
    "countrieslist=[]\n",
    "# universitylist=[]\n",
    "citylist=[]\n",
    "for x in data.Af_str.values:\n",
    "    print(len(re.findall('\\(([^)]+)', x)))\n",
    "    str1=''\n",
    "    i=[]\n",
    "    for c in re.findall('\\(([^)]+)', x):\n",
    "       \n",
    "        if(c is not None):\n",
    "#             print(c)\n",
    "            if(len(c.split(','))>3):\n",
    "                ll=quoted.findall(str(c.split(',')[City]))\n",
    "                if len(ll)>0:\n",
    "                                          \n",
    "                    for value in quoted.findall(str(c.split(',')[City])):\n",
    "    #                     str1=str1+value+','\n",
    "    #                     print(str1)\n",
    "                        i.append(value)\n",
    "                        print(i)\n",
    "                else:\n",
    "                    for value in quoted.findall(str(c.split(',')[City-1])):\n",
    "    #                     str1=str1+value+','\n",
    "    #                     print(str1)\n",
    "                        i.append(value)\n",
    "                        print(i)\n",
    "    my_string = ','.join(i)\n",
    "    citylist.append(str(my_string))"
   ]
  },
  {
   "cell_type": "code",
   "execution_count": null,
   "metadata": {},
   "outputs": [],
   "source": []
  },
  {
   "cell_type": "code",
   "execution_count": null,
   "metadata": {},
   "outputs": [],
   "source": [
    "quoted = re.compile(\"(?<=')[^']+(?=')\")\n",
    "\n",
    "City=2\n",
    "Country=3\n",
    "University=5\n",
    "# newdf=pd.DataFrame()\n",
    "countrieslist=[]\n",
    "# universitylist=[]\n",
    "# citylist=[]\n",
    "for x in data.Af_str.values:\n",
    "    print(len(re.findall('\\(([^)]+)', x)))\n",
    "    str1=''\n",
    "    i=[]\n",
    "    for c in re.findall('\\(([^)]+)', x):\n",
    "       \n",
    "        if(c is not None):\n",
    "#             print(c)\n",
    "            if(len(c.split(','))>3):\n",
    "                ll=quoted.findall(str(c.split(',')[Country]))\n",
    "                if len(ll)>0:\n",
    "                                          \n",
    "                    for value in quoted.findall(str(c.split(',')[Country])):\n",
    "    #                     str1=str1+value+','\n",
    "    #                     print(str1)\n",
    "                        i.append(value)\n",
    "                        print(i)\n",
    "#                 else:\n",
    "#                     for value in quoted.findall(str(c.split(',')[City-1])):\n",
    "#     #                     str1=str1+value+','\n",
    "#     #                     print(str1)\n",
    "#                         i.append(value)\n",
    "#                         print(i)\n",
    "    my_string = ','.join(i)\n",
    "    countrieslist.append(str(my_string))"
   ]
  },
  {
   "cell_type": "code",
   "execution_count": 97,
   "metadata": {},
   "outputs": [
    {
     "name": "stdout",
     "output_type": "stream",
     "text": [
      "['Lahore']\n"
     ]
    }
   ],
   "source": [
    "quoted = re.compile(\"(?<=')[^']+(?=')\")\n",
    "i=[]\n",
    "for value in quoted.findall(str(l[0].split(',')[2])):\n",
    "    i.append(value)\n",
    "    print(i)"
   ]
  },
  {
   "cell_type": "code",
   "execution_count": 61,
   "metadata": {},
   "outputs": [
    {
     "data": {
      "text/plain": [
       "\" affiliation_city_group='Lahore'\""
      ]
     },
     "execution_count": 61,
     "metadata": {},
     "output_type": "execute_result"
    }
   ],
   "source": [
    "l[0].split(',')[2]"
   ]
  },
  {
   "cell_type": "markdown",
   "metadata": {},
   "source": [
    "# ScienceDirect score and gender landscape"
   ]
  },
  {
   "cell_type": "code",
   "execution_count": 101,
   "metadata": {},
   "outputs": [
    {
     "data": {
      "text/plain": [
       "31785"
      ]
     },
     "execution_count": 101,
     "metadata": {},
     "output_type": "execute_result"
    }
   ],
   "source": [
    "data['ScienceDirectScore'].loc[data['ScienceDirectScore'].notnull()].count()"
   ]
  },
  {
   "cell_type": "code",
   "execution_count": 137,
   "metadata": {},
   "outputs": [],
   "source": [
    "df_science_direct_pak=df_testt.loc[df_testt['ScienceDirectScore'].notnull()]\n"
   ]
  },
  {
   "cell_type": "code",
   "execution_count": 140,
   "metadata": {},
   "outputs": [],
   "source": [
    "df_dummy=df_science_direct_pak\n",
    "maleauthorscount=[]\n",
    "femaleauthorscount=[]\n",
    "femaletomaleratio=[]\n",
    "femalepercentage=[]\n",
    "\n",
    "for column in df_dummy:\n",
    "    maleauthors=df_dummy[column].loc[df_dummy[column]=='male'].count()\n",
    "    femaleauthors=df_dummy[column].loc[df_dummy[column]=='female'].count()\n",
    "    Totalauthors=maleauthors+femaleauthors\n",
    "    maleauthorscount.append(maleauthors)\n",
    "    femaleauthorscount.append(femaleauthors)\n",
    "    femaletomaleratio.append(femaleauthors/maleauthors)\n",
    "    femalepercentage.append(femaleauthors/Totalauthors)\n",
    "    \n",
    "    print(str(column)+'  Male '+str(maleauthors)+' Female '+str(femaleauthors)+' Total '+str(Totalauthors)+' male to female ratio '+str(femaleauthors/maleauthors))\n",
    "    \n",
    "    "
   ]
  },
  {
   "cell_type": "code",
   "execution_count": 143,
   "metadata": {},
   "outputs": [],
   "source": [
    "ScienceDirectgenderresults=pd.DataFrame()\n",
    "ScienceDirectgenderresults['Male Authors']=maleauthorscount\n",
    "ScienceDirectgenderresults['Female Authors']=femaleauthorscount\n",
    "ScienceDirectgenderresults['Female2MaleRatio']=femaletomaleratio\n",
    "ScienceDirectgenderresults['FemaleRatio']=femalepercentage\n"
   ]
  },
  {
   "cell_type": "code",
   "execution_count": 392,
   "metadata": {},
   "outputs": [
    {
     "data": {
      "text/plain": [
       "'[11344284526,242560405,66749104506,53349127494,67649842337,38949126573,142245584,37156344,33748058169,33646767009,141452964,84944438568,34247104529,36587911,37549039510,33745655190,58849161857,49149112109]'"
      ]
     },
     "execution_count": 392,
     "metadata": {},
     "output_type": "execute_result"
    }
   ],
   "source": [
    "data.citations_str.values[1]"
   ]
  },
  {
   "cell_type": "code",
   "execution_count": 394,
   "metadata": {},
   "outputs": [
    {
     "data": {
      "text/plain": [
       "0                        [AGRI]\n",
       "1              [CHEM,MATE,PHYS]\n",
       "2              [AGRI,BIOC,COMP]\n",
       "3              [CHEM,MATE,PHYS]\n",
       "4                   [IMMU,MEDI]\n",
       "                  ...          \n",
       "207392         [ENGI,MATE,PHYS]\n",
       "207393    [BIOC,CENG,CHEM,PHAR]\n",
       "207394                   [ENGI]\n",
       "207395                   [CHEM]\n",
       "207396              [COMP,MATH]\n",
       "Name: subjareas_str, Length: 207397, dtype: object"
      ]
     },
     "execution_count": 394,
     "metadata": {},
     "output_type": "execute_result"
    }
   ],
   "source": [
    "data.subjareas_str"
   ]
  },
  {
   "cell_type": "code",
   "execution_count": 393,
   "metadata": {},
   "outputs": [
    {
     "data": {
      "text/plain": [
       "0                                  [1107]\n",
       "1                        [1600,2500,3104]\n",
       "2                        [1100,1300,1710]\n",
       "3                        [1600,2500,3104]\n",
       "4                             [2405,2725]\n",
       "                       ...               \n",
       "207392                   [2208,2500,3104]\n",
       "207393    [1303,1503,1604,1605,1606,3002]\n",
       "207394                             [2205]\n",
       "207395                             [1600]\n",
       "207396              [1702,1712,2604,2614]\n",
       "Name: ASJC_str, Length: 207397, dtype: object"
      ]
     },
     "execution_count": 393,
     "metadata": {},
     "output_type": "execute_result"
    }
   ],
   "source": [
    "data.ASJC_str"
   ]
  },
  {
   "cell_type": "markdown",
   "metadata": {},
   "source": [
    "# Grants and gender landscape"
   ]
  },
  {
   "cell_type": "code",
   "execution_count": 106,
   "metadata": {},
   "outputs": [
    {
     "data": {
      "text/plain": [
       "18604"
      ]
     },
     "execution_count": 106,
     "metadata": {},
     "output_type": "execute_result"
    }
   ],
   "source": [
    "data['grant_str'].loc[data['grant_str'].notnull()].count()"
   ]
  },
  {
   "cell_type": "code",
   "execution_count": 385,
   "metadata": {},
   "outputs": [
    {
     "data": {
      "text/plain": [
       "\"[Row(grant_acronym='NSFC', grant_agency='National Natural Science Foundation of China', grant_agency_id='501100001809', grant_id='61376025'),Row(grant_acronym='NSFC', grant_agency='National Natural Science Foundation of China', grant_agency_id='501100001809', grant_id='61774086'),Row(grant_acronym=None, grant_agency='Natural Science Foundation of Jiangsu Province', grant_agency_id='501100004608', grant_id='BK20160806')]\""
      ]
     },
     "execution_count": 385,
     "metadata": {},
     "output_type": "execute_result"
    }
   ],
   "source": [
    "data['grant_str'].loc[data['grant_str'].notnull()].values[1]"
   ]
  },
  {
   "cell_type": "code",
   "execution_count": 107,
   "metadata": {},
   "outputs": [
    {
     "data": {
      "text/plain": [
       "43111"
      ]
     },
     "execution_count": 107,
     "metadata": {},
     "output_type": "execute_result"
    }
   ],
   "source": [
    "data['funding_list_str'].loc[data['funding_list_str'].notnull()].count()"
   ]
  },
  {
   "cell_type": "code",
   "execution_count": 111,
   "metadata": {},
   "outputs": [
    {
     "data": {
      "text/plain": [
       "207397"
      ]
     },
     "execution_count": 111,
     "metadata": {},
     "output_type": "execute_result"
    }
   ],
   "source": [
    "data['subjareas_str'].loc[data['subjareas_str'].notnull()].count()"
   ]
  },
  {
   "cell_type": "code",
   "execution_count": 114,
   "metadata": {},
   "outputs": [
    {
     "data": {
      "text/plain": [
       "27102"
      ]
     },
     "execution_count": 114,
     "metadata": {},
     "output_type": "execute_result"
    }
   ],
   "source": [
    "data['subjareas_str'].loc[data['subjareas_str'].str.contains('PHYS')].count()"
   ]
  },
  {
   "cell_type": "code",
   "execution_count": 341,
   "metadata": {},
   "outputs": [
    {
     "data": {
      "text/plain": [
       "18604"
      ]
     },
     "execution_count": 341,
     "metadata": {},
     "output_type": "execute_result"
    }
   ],
   "source": [
    "data['grant_str'].loc[data['grant_str'].notnull()].count()"
   ]
  },
  {
   "cell_type": "code",
   "execution_count": 353,
   "metadata": {},
   "outputs": [
    {
     "data": {
      "text/plain": [
       "array(['ar', 're', 'ch', 'cp', 'er', 'ed', 'bk', 'le', 'no', 'ip', 'sh',\n",
       "       'dp', 'tb', 'rp', nan, 'bz', 'cr', 'ab'], dtype=object)"
      ]
     },
     "execution_count": 353,
     "metadata": {},
     "output_type": "execute_result"
    }
   ],
   "source": [
    "\n",
    "data.citation_type.unique()"
   ]
  },
  {
   "cell_type": "code",
   "execution_count": 357,
   "metadata": {},
   "outputs": [
    {
     "data": {
      "text/plain": [
       "0         16\n",
       "1         18\n",
       "2         38\n",
       "3         11\n",
       "4         39\n",
       "          ..\n",
       "207392     9\n",
       "207393    17\n",
       "207394    14\n",
       "207395    14\n",
       "207396    18\n",
       "Name: n_citations, Length: 207397, dtype: int64"
      ]
     },
     "execution_count": 357,
     "metadata": {},
     "output_type": "execute_result"
    }
   ],
   "source": [
    "data.n_citations"
   ]
  },
  {
   "cell_type": "code",
   "execution_count": 382,
   "metadata": {},
   "outputs": [
    {
     "data": {
      "text/plain": [
       "\"[Row(affiliation_address_part=None, affiliation_city='Hefei', affiliation_city_group=None, affiliation_country='China', affiliation_ids=[60019499, 60089931, 60019118], affiliation_organization=['Molecular and Cell Genetics Laboratory, CAS Key Laboratory of Innate Immunity and Chronic Disease, Hefei National Laboratory for Physical Sciences at Microscale, School of Life Sciences, University of Science and Technology of China'], affiliation_organization_count=1, affiliation_postal_code='230027', affiliation_state=None, affiliation_tag_country='chn', affiliation_text=None, afid=60089931, dptid=113880100),Row(affiliation_address_part=None, affiliation_city='Hefei', affiliation_city_group=None, affiliation_country='China', affiliation_ids=[60014454], affiliation_organization=['Department of Biochemistry and Molecular Biology, School of Basic Medical Sciences, Anhui Medical University'], affiliation_organization_count=1, affiliation_postal_code='230032', affiliation_state=None, affiliation_tag_country='chn', affiliation_text=None, afid=60014454, dptid=112668363),Row(affiliation_address_part=None, affiliation_city='Hefei', affiliation_city_group=None, affiliation_country='China', affiliation_ids=[60073548, 60014454], affiliation_organization=['Center for Reproductive Medicine, Anhui Provincial Hospital Affiliated to Anhui Medical University'], affiliation_organization_count=1, affiliation_postal_code='230001', affiliation_state=None, affiliation_tag_country='chn', affiliation_text=None, afid=60073548, dptid=116339396),Row(affiliation_address_part=None, affiliation_city='Lexington', affiliation_city_group=None, affiliation_country='United States', affiliation_ids=[60015941], affiliation_organization=['Department of Statistics, University of Kentucky'], affiliation_organization_count=1, affiliation_postal_code='40506', affiliation_state='KY', affiliation_tag_country='usa', affiliation_text=None, afid=60015941, dptid=113155495),Row(affiliation_address_part='2005 Songhu Road', affiliation_city='Shanghai', affiliation_city_group=None, affiliation_country='China', affiliation_ids=[60009860], affiliation_organization=['Collaborative Innovation Center of Genetics and Development, Fudan University'], affiliation_organization_count=1, affiliation_postal_code='200438', affiliation_state=None, affiliation_tag_country='chn', affiliation_text=None, afid=60009860, dptid=114401524),Row(affiliation_address_part=None, affiliation_city='Hefei', affiliation_city_group=None, affiliation_country='China', affiliation_ids=[60006354, 60019499], affiliation_organization=['Hefei Institutes of Physical Science, Chinese Academy of Sciences'], affiliation_organization_count=1, affiliation_postal_code='230031', affiliation_state=None, affiliation_tag_country='chn', affiliation_text=None, afid=60006354, dptid=None),Row(affiliation_address_part=None, affiliation_city=None, affiliation_city_group=None, affiliation_country='Pakistan', affiliation_ids=[60034410], affiliation_organization=['Institute of Pure and Applied Biology, Bahauddin Zakariya University Multan'], affiliation_organization_count=1, affiliation_postal_code='60800', affiliation_state=None, affiliation_tag_country='pak', affiliation_text=None, afid=60034410, dptid=104703328)]\""
      ]
     },
     "execution_count": 382,
     "metadata": {},
     "output_type": "execute_result"
    }
   ],
   "source": [
    "#affiliation based on rows and author number\n",
    "data.Af_str.values[2]"
   ]
  },
  {
   "cell_type": "code",
   "execution_count": 383,
   "metadata": {},
   "outputs": [
    {
     "data": {
      "text/plain": [
       "nan"
      ]
     },
     "execution_count": 383,
     "metadata": {},
     "output_type": "execute_result"
    }
   ],
   "source": [
    "data.grant_str.values[]"
   ]
  },
  {
   "cell_type": "code",
   "execution_count": 376,
   "metadata": {},
   "outputs": [
    {
     "data": {
      "text/plain": [
       "0         1997\n",
       "1         2009\n",
       "2         2015\n",
       "3         2010\n",
       "4         2017\n",
       "          ... \n",
       "207392    2020\n",
       "207393    2004\n",
       "207394    2015\n",
       "207395    2000\n",
       "207396    2015\n",
       "Name: pub_year, Length: 207397, dtype: int64"
      ]
     },
     "execution_count": 376,
     "metadata": {},
     "output_type": "execute_result"
    }
   ],
   "source": [
    "data.pub_year"
   ]
  },
  {
   "cell_type": "code",
   "execution_count": 374,
   "metadata": {},
   "outputs": [
    {
     "data": {
      "text/plain": [
       "\"[None,None,gbr,None,None,2009,2009,None,None,None,None,None,['16005368'],None,['16005368'],None,Acta Crystallographica Section E: Structure Reports Online,Acta Crystallogr. Sect. E Struct. Rep. Online,144910,j,None]\""
      ]
     },
     "execution_count": 374,
     "metadata": {},
     "output_type": "execute_result"
    }
   ],
   "source": [
    "data.source_str.values[1]"
   ]
  },
  {
   "cell_type": "code",
   "execution_count": 181,
   "metadata": {},
   "outputs": [
    {
     "data": {
      "text/plain": [
       "6648"
      ]
     },
     "execution_count": 181,
     "metadata": {},
     "output_type": "execute_result"
    }
   ],
   "source": [
    "df_testt['grant_str'].loc[df_testt['grant_str'].notnull()].count()"
   ]
  },
  {
   "cell_type": "code",
   "execution_count": 151,
   "metadata": {},
   "outputs": [],
   "source": [
    "#grants wala portion\n",
    "\n",
    "df_grants=df_testt.loc[df_testt['grant_str'].notnull()]"
   ]
  },
  {
   "cell_type": "code",
   "execution_count": 152,
   "metadata": {},
   "outputs": [],
   "source": [
    "df_dummy=df_grants"
   ]
  },
  {
   "cell_type": "code",
   "execution_count": 173,
   "metadata": {},
   "outputs": [
    {
     "data": {
      "text/plain": [
       "52"
      ]
     },
     "execution_count": 173,
     "metadata": {},
     "output_type": "execute_result"
    }
   ],
   "source": [
    "df_dummy['grant_str'].loc[df_dummy['grant_str'].str.contains('USAID')].count()"
   ]
  },
  {
   "cell_type": "code",
   "execution_count": 179,
   "metadata": {},
   "outputs": [
    {
     "data": {
      "text/plain": [
       "84"
      ]
     },
     "execution_count": 179,
     "metadata": {},
     "output_type": "execute_result"
    }
   ],
   "source": [
    "df_dummy['grant_str'].loc[df_dummy['grant_str'].str.contains('CIIT')].count()"
   ]
  },
  {
   "cell_type": "code",
   "execution_count": 174,
   "metadata": {},
   "outputs": [
    {
     "data": {
      "text/plain": [
       "148"
      ]
     },
     "execution_count": 174,
     "metadata": {},
     "output_type": "execute_result"
    }
   ],
   "source": [
    "df_dummy['grant_str'].loc[df_dummy['grant_str'].str.contains('NUST')].count()"
   ]
  },
  {
   "cell_type": "code",
   "execution_count": 175,
   "metadata": {},
   "outputs": [
    {
     "data": {
      "text/plain": [
       "22"
      ]
     },
     "execution_count": 175,
     "metadata": {},
     "output_type": "execute_result"
    }
   ],
   "source": [
    "df_dummy['grant_str'].loc[df_dummy['grant_str'].str.contains('ARS')].count()"
   ]
  },
  {
   "cell_type": "code",
   "execution_count": 190,
   "metadata": {},
   "outputs": [
    {
     "data": {
      "text/plain": [
       "31"
      ]
     },
     "execution_count": 190,
     "metadata": {},
     "output_type": "execute_result"
    }
   ],
   "source": [
    "df_dummy['grant_str'].loc[df_dummy['grant_str'].str.contains('GC')].count()"
   ]
  },
  {
   "cell_type": "code",
   "execution_count": 178,
   "metadata": {},
   "outputs": [
    {
     "data": {
      "text/plain": [
       "\"[Row(grant_acronym='CIIT', grant_agency='COMSATS Institute of Information Technology', grant_agency_id=None, grant_id=None),Row(grant_acronym='HEC', grant_agency='Higher Education Commission', grant_agency_id=None, grant_id='072-2111-Ps4-335'),Row(grant_acronym='HEC', grant_agency='Higher Education Commission', grant_agency_id=None, grant_id='17-5-4(Ps4-335)/HEC/Sch/2007'),Row(grant_acronym='HEC', grant_agency='Higher Education Commission', grant_agency_id=None, grant_id='20-1388/R&D/09/2670')]\""
      ]
     },
     "execution_count": 178,
     "metadata": {},
     "output_type": "execute_result"
    }
   ],
   "source": [
    "df_dummy['grant_str'].values[0]"
   ]
  },
  {
   "cell_type": "code",
   "execution_count": 207,
   "metadata": {},
   "outputs": [],
   "source": [
    "l=df_dummy['grant_str'].str.split(\",\",expand=True)"
   ]
  },
  {
   "cell_type": "code",
   "execution_count": 208,
   "metadata": {},
   "outputs": [],
   "source": [
    "l[0]= l[0].str.slice(19,)"
   ]
  },
  {
   "cell_type": "code",
   "execution_count": 160,
   "metadata": {},
   "outputs": [
    {
     "data": {
      "text/plain": [
       "6648"
      ]
     },
     "execution_count": 160,
     "metadata": {},
     "output_type": "execute_result"
    }
   ],
   "source": [
    "df_dummy['grant_str'].count()"
   ]
  },
  {
   "cell_type": "code",
   "execution_count": 148,
   "metadata": {},
   "outputs": [
    {
     "ename": "KeyError",
     "evalue": "\"[Row(grant_acronym='CIIT', grant_agency='COMSATS Institute of Information Technology', grant_agency_id=None, grant_id=None),Row(grant_acronym='HEC', grant_agency='Higher Education Commission', grant_agency_id=None, grant_id='072-2111-Ps4-335'),Row(grant_acronym='HEC', grant_agency='Higher Education Commission', grant_agency_id=None, grant_id='17-5-4(Ps4-335)/HEC/Sch/2007'),Row(grant_acronym='HEC', grant_agency='Higher Education Commission', grant_agency_id=None, grant_id='20-1388/R&D/09/2670')]\"",
     "output_type": "error",
     "traceback": [
      "\u001b[1;31m---------------------------------------------------------------------------\u001b[0m",
      "\u001b[1;31mKeyError\u001b[0m                                  Traceback (most recent call last)",
      "\u001b[1;32m<ipython-input-148-242f23066d0a>\u001b[0m in \u001b[0;36m<module>\u001b[1;34m\u001b[0m\n\u001b[0;32m      6\u001b[0m \u001b[1;33m\u001b[0m\u001b[0m\n\u001b[0;32m      7\u001b[0m \u001b[1;32mfor\u001b[0m \u001b[0mcolumn\u001b[0m \u001b[1;32min\u001b[0m \u001b[0mdf_dummy\u001b[0m\u001b[1;33m:\u001b[0m\u001b[1;33m\u001b[0m\u001b[1;33m\u001b[0m\u001b[0m\n\u001b[1;32m----> 8\u001b[1;33m     \u001b[0mmaleauthors\u001b[0m\u001b[1;33m=\u001b[0m\u001b[0mdf_dummy\u001b[0m\u001b[1;33m[\u001b[0m\u001b[0mcolumn\u001b[0m\u001b[1;33m]\u001b[0m\u001b[1;33m.\u001b[0m\u001b[0mloc\u001b[0m\u001b[1;33m[\u001b[0m\u001b[0mdf_dummy\u001b[0m\u001b[1;33m[\u001b[0m\u001b[0mcolumn\u001b[0m\u001b[1;33m]\u001b[0m\u001b[1;33m==\u001b[0m\u001b[1;34m'male'\u001b[0m\u001b[1;33m]\u001b[0m\u001b[1;33m.\u001b[0m\u001b[0mcount\u001b[0m\u001b[1;33m(\u001b[0m\u001b[1;33m)\u001b[0m\u001b[1;33m\u001b[0m\u001b[1;33m\u001b[0m\u001b[0m\n\u001b[0m\u001b[0;32m      9\u001b[0m     \u001b[0mfemaleauthors\u001b[0m\u001b[1;33m=\u001b[0m\u001b[0mdf_dummy\u001b[0m\u001b[1;33m[\u001b[0m\u001b[0mcolumn\u001b[0m\u001b[1;33m]\u001b[0m\u001b[1;33m.\u001b[0m\u001b[0mloc\u001b[0m\u001b[1;33m[\u001b[0m\u001b[0mdf_dummy\u001b[0m\u001b[1;33m[\u001b[0m\u001b[0mcolumn\u001b[0m\u001b[1;33m]\u001b[0m\u001b[1;33m==\u001b[0m\u001b[1;34m'female'\u001b[0m\u001b[1;33m]\u001b[0m\u001b[1;33m.\u001b[0m\u001b[0mcount\u001b[0m\u001b[1;33m(\u001b[0m\u001b[1;33m)\u001b[0m\u001b[1;33m\u001b[0m\u001b[1;33m\u001b[0m\u001b[0m\n\u001b[0;32m     10\u001b[0m     \u001b[0mTotalauthors\u001b[0m\u001b[1;33m=\u001b[0m\u001b[0mmaleauthors\u001b[0m\u001b[1;33m+\u001b[0m\u001b[0mfemaleauthors\u001b[0m\u001b[1;33m\u001b[0m\u001b[1;33m\u001b[0m\u001b[0m\n",
      "\u001b[1;32m~\\Anaconda3\\lib\\site-packages\\pandas\\core\\series.py\u001b[0m in \u001b[0;36m__getitem__\u001b[1;34m(self, key)\u001b[0m\n\u001b[0;32m   1066\u001b[0m         \u001b[0mkey\u001b[0m \u001b[1;33m=\u001b[0m \u001b[0mcom\u001b[0m\u001b[1;33m.\u001b[0m\u001b[0mapply_if_callable\u001b[0m\u001b[1;33m(\u001b[0m\u001b[0mkey\u001b[0m\u001b[1;33m,\u001b[0m \u001b[0mself\u001b[0m\u001b[1;33m)\u001b[0m\u001b[1;33m\u001b[0m\u001b[1;33m\u001b[0m\u001b[0m\n\u001b[0;32m   1067\u001b[0m         \u001b[1;32mtry\u001b[0m\u001b[1;33m:\u001b[0m\u001b[1;33m\u001b[0m\u001b[1;33m\u001b[0m\u001b[0m\n\u001b[1;32m-> 1068\u001b[1;33m             \u001b[0mresult\u001b[0m \u001b[1;33m=\u001b[0m \u001b[0mself\u001b[0m\u001b[1;33m.\u001b[0m\u001b[0mindex\u001b[0m\u001b[1;33m.\u001b[0m\u001b[0mget_value\u001b[0m\u001b[1;33m(\u001b[0m\u001b[0mself\u001b[0m\u001b[1;33m,\u001b[0m \u001b[0mkey\u001b[0m\u001b[1;33m)\u001b[0m\u001b[1;33m\u001b[0m\u001b[1;33m\u001b[0m\u001b[0m\n\u001b[0m\u001b[0;32m   1069\u001b[0m \u001b[1;33m\u001b[0m\u001b[0m\n\u001b[0;32m   1070\u001b[0m             \u001b[1;32mif\u001b[0m \u001b[1;32mnot\u001b[0m \u001b[0mis_scalar\u001b[0m\u001b[1;33m(\u001b[0m\u001b[0mresult\u001b[0m\u001b[1;33m)\u001b[0m\u001b[1;33m:\u001b[0m\u001b[1;33m\u001b[0m\u001b[1;33m\u001b[0m\u001b[0m\n",
      "\u001b[1;32m~\\Anaconda3\\lib\\site-packages\\pandas\\core\\indexes\\base.py\u001b[0m in \u001b[0;36mget_value\u001b[1;34m(self, series, key)\u001b[0m\n\u001b[0;32m   4728\u001b[0m         \u001b[0mk\u001b[0m \u001b[1;33m=\u001b[0m \u001b[0mself\u001b[0m\u001b[1;33m.\u001b[0m\u001b[0m_convert_scalar_indexer\u001b[0m\u001b[1;33m(\u001b[0m\u001b[0mk\u001b[0m\u001b[1;33m,\u001b[0m \u001b[0mkind\u001b[0m\u001b[1;33m=\u001b[0m\u001b[1;34m\"getitem\"\u001b[0m\u001b[1;33m)\u001b[0m\u001b[1;33m\u001b[0m\u001b[1;33m\u001b[0m\u001b[0m\n\u001b[0;32m   4729\u001b[0m         \u001b[1;32mtry\u001b[0m\u001b[1;33m:\u001b[0m\u001b[1;33m\u001b[0m\u001b[1;33m\u001b[0m\u001b[0m\n\u001b[1;32m-> 4730\u001b[1;33m             \u001b[1;32mreturn\u001b[0m \u001b[0mself\u001b[0m\u001b[1;33m.\u001b[0m\u001b[0m_engine\u001b[0m\u001b[1;33m.\u001b[0m\u001b[0mget_value\u001b[0m\u001b[1;33m(\u001b[0m\u001b[0ms\u001b[0m\u001b[1;33m,\u001b[0m \u001b[0mk\u001b[0m\u001b[1;33m,\u001b[0m \u001b[0mtz\u001b[0m\u001b[1;33m=\u001b[0m\u001b[0mgetattr\u001b[0m\u001b[1;33m(\u001b[0m\u001b[0mseries\u001b[0m\u001b[1;33m.\u001b[0m\u001b[0mdtype\u001b[0m\u001b[1;33m,\u001b[0m \u001b[1;34m\"tz\"\u001b[0m\u001b[1;33m,\u001b[0m \u001b[1;32mNone\u001b[0m\u001b[1;33m)\u001b[0m\u001b[1;33m)\u001b[0m\u001b[1;33m\u001b[0m\u001b[1;33m\u001b[0m\u001b[0m\n\u001b[0m\u001b[0;32m   4731\u001b[0m         \u001b[1;32mexcept\u001b[0m \u001b[0mKeyError\u001b[0m \u001b[1;32mas\u001b[0m \u001b[0me1\u001b[0m\u001b[1;33m:\u001b[0m\u001b[1;33m\u001b[0m\u001b[1;33m\u001b[0m\u001b[0m\n\u001b[0;32m   4732\u001b[0m             \u001b[1;32mif\u001b[0m \u001b[0mlen\u001b[0m\u001b[1;33m(\u001b[0m\u001b[0mself\u001b[0m\u001b[1;33m)\u001b[0m \u001b[1;33m>\u001b[0m \u001b[1;36m0\u001b[0m \u001b[1;32mand\u001b[0m \u001b[1;33m(\u001b[0m\u001b[0mself\u001b[0m\u001b[1;33m.\u001b[0m\u001b[0mholds_integer\u001b[0m\u001b[1;33m(\u001b[0m\u001b[1;33m)\u001b[0m \u001b[1;32mor\u001b[0m \u001b[0mself\u001b[0m\u001b[1;33m.\u001b[0m\u001b[0mis_boolean\u001b[0m\u001b[1;33m(\u001b[0m\u001b[1;33m)\u001b[0m\u001b[1;33m)\u001b[0m\u001b[1;33m:\u001b[0m\u001b[1;33m\u001b[0m\u001b[1;33m\u001b[0m\u001b[0m\n",
      "\u001b[1;32mpandas\\_libs\\index.pyx\u001b[0m in \u001b[0;36mpandas._libs.index.IndexEngine.get_value\u001b[1;34m()\u001b[0m\n",
      "\u001b[1;32mpandas\\_libs\\index.pyx\u001b[0m in \u001b[0;36mpandas._libs.index.IndexEngine.get_value\u001b[1;34m()\u001b[0m\n",
      "\u001b[1;32mpandas\\_libs\\index.pyx\u001b[0m in \u001b[0;36mpandas._libs.index.IndexEngine.get_loc\u001b[1;34m()\u001b[0m\n",
      "\u001b[1;32mpandas\\_libs\\index_class_helper.pxi\u001b[0m in \u001b[0;36mpandas._libs.index.Int64Engine._check_type\u001b[1;34m()\u001b[0m\n",
      "\u001b[1;31mKeyError\u001b[0m: \"[Row(grant_acronym='CIIT', grant_agency='COMSATS Institute of Information Technology', grant_agency_id=None, grant_id=None),Row(grant_acronym='HEC', grant_agency='Higher Education Commission', grant_agency_id=None, grant_id='072-2111-Ps4-335'),Row(grant_acronym='HEC', grant_agency='Higher Education Commission', grant_agency_id=None, grant_id='17-5-4(Ps4-335)/HEC/Sch/2007'),Row(grant_acronym='HEC', grant_agency='Higher Education Commission', grant_agency_id=None, grant_id='20-1388/R&D/09/2670')]\""
     ]
    }
   ],
   "source": [
    "\n",
    "maleauthorscount=[]\n",
    "femaleauthorscount=[]\n",
    "femaletomaleratio=[]\n",
    "femalepercentage=[]\n",
    "\n",
    "for column in df_dummy:\n",
    "    maleauthors=df_dummy[column].loc[df_dummy[column]=='male'].count()\n",
    "    femaleauthors=df_dummy[column].loc[df_dummy[column]=='female'].count()\n",
    "    Totalauthors=maleauthors+femaleauthors\n",
    "    maleauthorscount.append(maleauthors)\n",
    "    femaleauthorscount.append(femaleauthors)\n",
    "    femaletomaleratio.append(femaleauthors/maleauthors)\n",
    "    femalepercentage.append(femaleauthors/Totalauthors)\n",
    "    \n",
    "    print(str(column)+'  Male '+str(maleauthors)+' Female '+str(femaleauthors)+' Total '+str(Totalauthors)+' male to female ratio '+str(femaleauthors/maleauthors))\n",
    "    \n",
    "    "
   ]
  },
  {
   "cell_type": "markdown",
   "metadata": {},
   "source": [
    "# Citations"
   ]
  },
  {
   "cell_type": "code",
   "execution_count": 104,
   "metadata": {},
   "outputs": [
    {
     "data": {
      "text/plain": [
       "'[11344284526,242560405,66749104506,53349127494,67649842337,38949126573,142245584,37156344,33748058169,33646767009,141452964,84944438568,34247104529,36587911,37549039510,33745655190,58849161857,49149112109]'"
      ]
     },
     "execution_count": 104,
     "metadata": {},
     "output_type": "execute_result"
    }
   ],
   "source": [
    "data['citations_str'].values[1]"
   ]
  },
  {
   "cell_type": "code",
   "execution_count": null,
   "metadata": {},
   "outputs": [],
   "source": []
  },
  {
   "cell_type": "markdown",
   "metadata": {},
   "source": [
    "# Preprocessing data"
   ]
  },
  {
   "cell_type": "markdown",
   "metadata": {},
   "source": [
    "data['Au_cors_str'].values[3]"
   ]
  },
  {
   "cell_type": "code",
   "execution_count": 118,
   "metadata": {},
   "outputs": [],
   "source": [
    "#select the columns that would be used the most\n",
    "df = pd.DataFrame(data, columns = ['correspondence','Au_unique_IN_str', 'subjareas_str','source_str','funding_list_str','funding_list_str','grant_str','ScienceDirectScore'])"
   ]
  },
  {
   "cell_type": "code",
   "execution_count": 108,
   "metadata": {},
   "outputs": [
    {
     "data": {
      "text/plain": [
       "'male'"
      ]
     },
     "execution_count": 108,
     "metadata": {},
     "output_type": "execute_result"
    }
   ],
   "source": [
    "#function to get gender information\n",
    "from __future__ import print_function\n",
    "import time\n",
    "import openapi_client\n",
    "from openapi_client.rest import ApiException\n",
    "from pprint import pprint\n",
    "import numpy as np\n",
    "# Configure API key authorization: api_key\n",
    "configuration = openapi_client.Configuration()\n",
    "\n",
    "configuration.api_key['X-API-KEY'] = '417aa2d90dfabcbdad52cac63f2891a8'\n",
    "# Uncomment below to setup prefix (e.g. Bearer) for API key, if needed\n",
    "# configuration.api_key_prefix['X-API-KEY'] = 'Bearer'\n",
    "\n",
    "# create an instance of the API class\n",
    "api_instance = openapi_client.PersonalApi(openapi_client.ApiClient(configuration))\n",
    "full_name = 'Furqan Arshad' # str | \n",
    "\n",
    "def gender_fullname(full_name):\n",
    "    try:\n",
    "        # Infer the likely gender of a full name, ex. John H. Smith\n",
    "#         api_response = api_instance.gender_full(full_name)\n",
    "#         gender_full_geo()\n",
    "        api_response = api_instance.gender_full(full_name)\n",
    "        \n",
    "\n",
    "#         pprint(api_response.likely_gender)\n",
    "    except ApiException as e:\n",
    "        print(\"Exception when calling PersonalApi->gender_full: %s\\n\" % e)\n",
    "        return 'exception'\n",
    "    return api_response.likely_gender\n",
    "    \n",
    "gender_fullname(full_name)"
   ]
  },
  {
   "cell_type": "code",
   "execution_count": 174,
   "metadata": {},
   "outputs": [],
   "source": [
    "from __future__ import print_function\n",
    "import time\n",
    "import openapi_client\n",
    "from openapi_client.rest import ApiException\n",
    "from pprint import pprint\n",
    "\n",
    "# Configure API key authorization: api_key\n",
    "configuration = openapi_client.Configuration()\n",
    "configuration.api_key['X-API-KEY'] = '417aa2d90dfabcbdad52cac63f2891a8'\n",
    "# Uncomment below to setup prefix (e.g. Bearer) for API key, if needed\n",
    "# configuration.api_key_prefix['X-API-KEY'] = 'Bearer'\n",
    "\n",
    "# create an instance of the API class\n",
    "api_instance = openapi_client.PersonalApi(openapi_client.ApiClient(configuration))\n",
    "batch_personal_name_in = openapi_client.BatchPersonalNameIn() # BatchPersonalNameIn | A list of personal names (optional)\n",
    "\n",
    "try:\n",
    "    # Infer the likely gender of up to 100 full names, detecting automatically the cultural context.\n",
    "    api_response = api_instance.gender_full_batch(batch_personal_name_in=batch_personal_name_in)\n",
    "    pprint(api_response)\n",
    "except ApiException as e:\n",
    "    print(\"Exception when calling PersonalApi->gender_full_batch: %s\\n\" % e)"
   ]
  },
  {
   "cell_type": "code",
   "execution_count": 119,
   "metadata": {},
   "outputs": [],
   "source": [
    "#Only Pakistani authors\n",
    "df_Pak=df[df['correspondence'].str.contains('pak')]"
   ]
  },
  {
   "cell_type": "code",
   "execution_count": 120,
   "metadata": {},
   "outputs": [
    {
     "name": "stderr",
     "output_type": "stream",
     "text": [
      "C:\\Users\\Chisel-Lab\\Anaconda3\\lib\\site-packages\\ipykernel_launcher.py:2: SettingWithCopyWarning: \n",
      "A value is trying to be set on a copy of a slice from a DataFrame.\n",
      "Try using .loc[row_indexer,col_indexer] = value instead\n",
      "\n",
      "See the caveats in the documentation: http://pandas.pydata.org/pandas-docs/stable/user_guide/indexing.html#returning-a-view-versus-a-copy\n",
      "  \n"
     ]
    }
   ],
   "source": [
    "#count number of authors\n",
    "df_Pak['NumberofAuthors'] = df_Pak['Au_unique_IN_str'].apply(lambda x: len(x.split(',')))"
   ]
  },
  {
   "cell_type": "code",
   "execution_count": 122,
   "metadata": {
    "scrolled": true
   },
   "outputs": [
    {
     "data": {
      "text/html": [
       "<div>\n",
       "<style scoped>\n",
       "    .dataframe tbody tr th:only-of-type {\n",
       "        vertical-align: middle;\n",
       "    }\n",
       "\n",
       "    .dataframe tbody tr th {\n",
       "        vertical-align: top;\n",
       "    }\n",
       "\n",
       "    .dataframe thead th {\n",
       "        text-align: right;\n",
       "    }\n",
       "</style>\n",
       "<table border=\"1\" class=\"dataframe\">\n",
       "  <thead>\n",
       "    <tr style=\"text-align: right;\">\n",
       "      <th></th>\n",
       "      <th>correspondence</th>\n",
       "      <th>Au_unique_IN_str</th>\n",
       "      <th>subjareas_str</th>\n",
       "      <th>source_str</th>\n",
       "      <th>funding_list_str</th>\n",
       "      <th>funding_list_str</th>\n",
       "      <th>grant_str</th>\n",
       "      <th>ScienceDirectScore</th>\n",
       "      <th>NumberofAuthors</th>\n",
       "    </tr>\n",
       "  </thead>\n",
       "  <tbody>\n",
       "    <tr>\n",
       "      <td>47396</td>\n",
       "      <td>[{country=usa}, {country=pak}]</td>\n",
       "      <td>[Abbas S.,Abecasis G.R.,Afzal M.N.,Aguayo S.M....</td>\n",
       "      <td>[BIOC]</td>\n",
       "      <td>[None,None,usa,01,07,1 July 2020,2020,None,Non...</td>\n",
       "      <td>[Row(agency=None, agency_acronym=None, agency_...</td>\n",
       "      <td>[Row(agency=None, agency_acronym=None, agency_...</td>\n",
       "      <td>NaN</td>\n",
       "      <td>NaN</td>\n",
       "      <td>181</td>\n",
       "    </tr>\n",
       "    <tr>\n",
       "      <td>24089</td>\n",
       "      <td>[{country=pak}]</td>\n",
       "      <td>[Abbaneo D.,Abbas M.,Abbrescia M.,Abdelalim A....</td>\n",
       "      <td>[MATH,PHYS]</td>\n",
       "      <td>[P02003,None,gbr,02,02,2 February 2017,2017,mi...</td>\n",
       "      <td>[Row(agency=None, agency_acronym=None, agency_...</td>\n",
       "      <td>[Row(agency=None, agency_acronym=None, agency_...</td>\n",
       "      <td>NaN</td>\n",
       "      <td>NaN</td>\n",
       "      <td>155</td>\n",
       "    </tr>\n",
       "    <tr>\n",
       "      <td>80484</td>\n",
       "      <td>[{country=pak}]</td>\n",
       "      <td>[Abbrescia M.,Aleksandrov A.,Aly S.,Amoozegar ...</td>\n",
       "      <td>[MATH,PHYS]</td>\n",
       "      <td>[C11012,None,gbr,None,None,2019,2019,helen.cra...</td>\n",
       "      <td>NaN</td>\n",
       "      <td>NaN</td>\n",
       "      <td>NaN</td>\n",
       "      <td>NaN</td>\n",
       "      <td>103</td>\n",
       "    </tr>\n",
       "    <tr>\n",
       "      <td>190229</td>\n",
       "      <td>[{country=pak}]</td>\n",
       "      <td>[Abbas S.,Ahmad U.,Alexander M.,Ali S.S.,Attwo...</td>\n",
       "      <td>[BIOC,MEDI]</td>\n",
       "      <td>[None,None,usa,None,08,August 2010,2010,None,N...</td>\n",
       "      <td>[Row(agency='Medical Research Council', agency...</td>\n",
       "      <td>[Row(agency='Medical Research Council', agency...</td>\n",
       "      <td>NaN</td>\n",
       "      <td>NaN</td>\n",
       "      <td>73</td>\n",
       "    </tr>\n",
       "    <tr>\n",
       "      <td>141732</td>\n",
       "      <td>[{country=pak}]</td>\n",
       "      <td>[Abbas S.,Ahmad U.,Alam Gul A.,Alexander M.,Al...</td>\n",
       "      <td>[MEDI]</td>\n",
       "      <td>[None,None,usa,None,None,July 2010,2010,None,N...</td>\n",
       "      <td>NaN</td>\n",
       "      <td>NaN</td>\n",
       "      <td>NaN</td>\n",
       "      <td>NaN</td>\n",
       "      <td>59</td>\n",
       "    </tr>\n",
       "    <tr>\n",
       "      <td>...</td>\n",
       "      <td>...</td>\n",
       "      <td>...</td>\n",
       "      <td>...</td>\n",
       "      <td>...</td>\n",
       "      <td>...</td>\n",
       "      <td>...</td>\n",
       "      <td>...</td>\n",
       "      <td>...</td>\n",
       "      <td>...</td>\n",
       "    </tr>\n",
       "    <tr>\n",
       "      <td>107767</td>\n",
       "      <td>[{country=pak}]</td>\n",
       "      <td>[Ahmad F.,Ahmad W.,Alhaddad B.,Ali G.,Azeem Z....</td>\n",
       "      <td>[MEDI]</td>\n",
       "      <td>[None,None,usa,21,07,21 July 2017,2017,molvis@...</td>\n",
       "      <td>[Row(agency=None, agency_acronym=None, agency_...</td>\n",
       "      <td>[Row(agency=None, agency_acronym=None, agency_...</td>\n",
       "      <td>[Row(grant_acronym='HEC', grant_agency='Higher...</td>\n",
       "      <td>NaN</td>\n",
       "      <td>17</td>\n",
       "    </tr>\n",
       "    <tr>\n",
       "      <td>110455</td>\n",
       "      <td>[{country=pak}]</td>\n",
       "      <td>[Ahmad S.,Ahmad Z.,Ahmed A.,Ahmed N.,Ali R.,Ba...</td>\n",
       "      <td>[ENER,PHYS]</td>\n",
       "      <td>[None,None,usa,01,06,1 June 2016,2016,barbara....</td>\n",
       "      <td>NaN</td>\n",
       "      <td>NaN</td>\n",
       "      <td>NaN</td>\n",
       "      <td>NaN</td>\n",
       "      <td>17</td>\n",
       "    </tr>\n",
       "    <tr>\n",
       "      <td>110682</td>\n",
       "      <td>[{country=pak}]</td>\n",
       "      <td>[Akbar M.M.,Asif S.,Aslam M.,Atabani A.E.,Bokh...</td>\n",
       "      <td>[BUSI,ENER,ENGI,ENVI]</td>\n",
       "      <td>[118214,None,gbr,10,12,10 December 2019,2019,N...</td>\n",
       "      <td>[Row(agency=None, agency_acronym=None, agency_...</td>\n",
       "      <td>[Row(agency=None, agency_acronym=None, agency_...</td>\n",
       "      <td>NaN</td>\n",
       "      <td>81.0</td>\n",
       "      <td>17</td>\n",
       "    </tr>\n",
       "    <tr>\n",
       "      <td>112541</td>\n",
       "      <td>[{country=pak}]</td>\n",
       "      <td>[Abbas S.,Afzal M.I.,Afzal M.S.,Ahmed S.,Aslam...</td>\n",
       "      <td>[AGRI,HEAL,IMMU,SOCI]</td>\n",
       "      <td>[9030311,None,che,None,None,2020,2020,rasetti@...</td>\n",
       "      <td>NaN</td>\n",
       "      <td>NaN</td>\n",
       "      <td>NaN</td>\n",
       "      <td>NaN</td>\n",
       "      <td>17</td>\n",
       "    </tr>\n",
       "    <tr>\n",
       "      <td>125120</td>\n",
       "      <td>[{country=pak}]</td>\n",
       "      <td>[Ahmad A.,Awais M.,Fahad S.,Hussain M.,Hussain...</td>\n",
       "      <td>[AGRI]</td>\n",
       "      <td>[None,None,nld,15,05,15 May 2019,2019,None,Non...</td>\n",
       "      <td>[Row(agency='Alabama Commission on Higher Educ...</td>\n",
       "      <td>[Row(agency='Alabama Commission on Higher Educ...</td>\n",
       "      <td>[Row(grant_acronym='HEC', grant_agency='Higher...</td>\n",
       "      <td>97.0</td>\n",
       "      <td>17</td>\n",
       "    </tr>\n",
       "  </tbody>\n",
       "</table>\n",
       "<p>100 rows × 9 columns</p>\n",
       "</div>"
      ],
      "text/plain": [
       "                        correspondence  \\\n",
       "47396   [{country=usa}, {country=pak}]   \n",
       "24089                  [{country=pak}]   \n",
       "80484                  [{country=pak}]   \n",
       "190229                 [{country=pak}]   \n",
       "141732                 [{country=pak}]   \n",
       "...                                ...   \n",
       "107767                 [{country=pak}]   \n",
       "110455                 [{country=pak}]   \n",
       "110682                 [{country=pak}]   \n",
       "112541                 [{country=pak}]   \n",
       "125120                 [{country=pak}]   \n",
       "\n",
       "                                         Au_unique_IN_str  \\\n",
       "47396   [Abbas S.,Abecasis G.R.,Afzal M.N.,Aguayo S.M....   \n",
       "24089   [Abbaneo D.,Abbas M.,Abbrescia M.,Abdelalim A....   \n",
       "80484   [Abbrescia M.,Aleksandrov A.,Aly S.,Amoozegar ...   \n",
       "190229  [Abbas S.,Ahmad U.,Alexander M.,Ali S.S.,Attwo...   \n",
       "141732  [Abbas S.,Ahmad U.,Alam Gul A.,Alexander M.,Al...   \n",
       "...                                                   ...   \n",
       "107767  [Ahmad F.,Ahmad W.,Alhaddad B.,Ali G.,Azeem Z....   \n",
       "110455  [Ahmad S.,Ahmad Z.,Ahmed A.,Ahmed N.,Ali R.,Ba...   \n",
       "110682  [Akbar M.M.,Asif S.,Aslam M.,Atabani A.E.,Bokh...   \n",
       "112541  [Abbas S.,Afzal M.I.,Afzal M.S.,Ahmed S.,Aslam...   \n",
       "125120  [Ahmad A.,Awais M.,Fahad S.,Hussain M.,Hussain...   \n",
       "\n",
       "                subjareas_str  \\\n",
       "47396                  [BIOC]   \n",
       "24089             [MATH,PHYS]   \n",
       "80484             [MATH,PHYS]   \n",
       "190229            [BIOC,MEDI]   \n",
       "141732                 [MEDI]   \n",
       "...                       ...   \n",
       "107767                 [MEDI]   \n",
       "110455            [ENER,PHYS]   \n",
       "110682  [BUSI,ENER,ENGI,ENVI]   \n",
       "112541  [AGRI,HEAL,IMMU,SOCI]   \n",
       "125120                 [AGRI]   \n",
       "\n",
       "                                               source_str  \\\n",
       "47396   [None,None,usa,01,07,1 July 2020,2020,None,Non...   \n",
       "24089   [P02003,None,gbr,02,02,2 February 2017,2017,mi...   \n",
       "80484   [C11012,None,gbr,None,None,2019,2019,helen.cra...   \n",
       "190229  [None,None,usa,None,08,August 2010,2010,None,N...   \n",
       "141732  [None,None,usa,None,None,July 2010,2010,None,N...   \n",
       "...                                                   ...   \n",
       "107767  [None,None,usa,21,07,21 July 2017,2017,molvis@...   \n",
       "110455  [None,None,usa,01,06,1 June 2016,2016,barbara....   \n",
       "110682  [118214,None,gbr,10,12,10 December 2019,2019,N...   \n",
       "112541  [9030311,None,che,None,None,2020,2020,rasetti@...   \n",
       "125120  [None,None,nld,15,05,15 May 2019,2019,None,Non...   \n",
       "\n",
       "                                         funding_list_str  \\\n",
       "47396   [Row(agency=None, agency_acronym=None, agency_...   \n",
       "24089   [Row(agency=None, agency_acronym=None, agency_...   \n",
       "80484                                                 NaN   \n",
       "190229  [Row(agency='Medical Research Council', agency...   \n",
       "141732                                                NaN   \n",
       "...                                                   ...   \n",
       "107767  [Row(agency=None, agency_acronym=None, agency_...   \n",
       "110455                                                NaN   \n",
       "110682  [Row(agency=None, agency_acronym=None, agency_...   \n",
       "112541                                                NaN   \n",
       "125120  [Row(agency='Alabama Commission on Higher Educ...   \n",
       "\n",
       "                                         funding_list_str  \\\n",
       "47396   [Row(agency=None, agency_acronym=None, agency_...   \n",
       "24089   [Row(agency=None, agency_acronym=None, agency_...   \n",
       "80484                                                 NaN   \n",
       "190229  [Row(agency='Medical Research Council', agency...   \n",
       "141732                                                NaN   \n",
       "...                                                   ...   \n",
       "107767  [Row(agency=None, agency_acronym=None, agency_...   \n",
       "110455                                                NaN   \n",
       "110682  [Row(agency=None, agency_acronym=None, agency_...   \n",
       "112541                                                NaN   \n",
       "125120  [Row(agency='Alabama Commission on Higher Educ...   \n",
       "\n",
       "                                                grant_str  ScienceDirectScore  \\\n",
       "47396                                                 NaN                 NaN   \n",
       "24089                                                 NaN                 NaN   \n",
       "80484                                                 NaN                 NaN   \n",
       "190229                                                NaN                 NaN   \n",
       "141732                                                NaN                 NaN   \n",
       "...                                                   ...                 ...   \n",
       "107767  [Row(grant_acronym='HEC', grant_agency='Higher...                 NaN   \n",
       "110455                                                NaN                 NaN   \n",
       "110682                                                NaN                81.0   \n",
       "112541                                                NaN                 NaN   \n",
       "125120  [Row(grant_acronym='HEC', grant_agency='Higher...                97.0   \n",
       "\n",
       "        NumberofAuthors  \n",
       "47396               181  \n",
       "24089               155  \n",
       "80484               103  \n",
       "190229               73  \n",
       "141732               59  \n",
       "...                 ...  \n",
       "107767               17  \n",
       "110455               17  \n",
       "110682               17  \n",
       "112541               17  \n",
       "125120               17  \n",
       "\n",
       "[100 rows x 9 columns]"
      ]
     },
     "execution_count": 122,
     "metadata": {},
     "output_type": "execute_result"
    }
   ],
   "source": [
    "#show top 100 authors by count\n",
    "df_Pak.nlargest(100, ['NumberofAuthors'])"
   ]
  },
  {
   "cell_type": "code",
   "execution_count": 121,
   "metadata": {},
   "outputs": [],
   "source": [
    "#drop authors greater than 200 to reduce the size of dataframe\n",
    "df_Pak=df_Pak[df_Pak.NumberofAuthors < 200]"
   ]
  },
  {
   "cell_type": "code",
   "execution_count": 123,
   "metadata": {},
   "outputs": [],
   "source": [
    "# remove the square brackets\n",
    "df_Pak['Au_unique_IN_str'] = df_Pak['Au_unique_IN_str'].str.slice(1,-1)"
   ]
  },
  {
   "cell_type": "code",
   "execution_count": 124,
   "metadata": {},
   "outputs": [],
   "source": [
    "# remove the square brackets\n",
    "df_Pak['subjareas_str'] = df_Pak['subjareas_str'].str.slice(1,-1)"
   ]
  },
  {
   "cell_type": "code",
   "execution_count": 112,
   "metadata": {},
   "outputs": [],
   "source": [
    "final_df['ASJC_str']=final_df['ASJC_str'].str.slice(1,-1)"
   ]
  },
  {
   "cell_type": "code",
   "execution_count": 33,
   "metadata": {},
   "outputs": [],
   "source": [
    "final_df['subjareas_str'] =final_df['subjareas_str'].str.slice(1,-1)"
   ]
  },
  {
   "cell_type": "code",
   "execution_count": 113,
   "metadata": {},
   "outputs": [],
   "source": [
    "codes=final_df['ASJC_str'].str.split(',', expand=True)"
   ]
  },
  {
   "cell_type": "code",
   "execution_count": 34,
   "metadata": {},
   "outputs": [],
   "source": [
    "subjects=final_df['subjareas_str'].str.split(',', expand=True)"
   ]
  },
  {
   "cell_type": "code",
   "execution_count": 114,
   "metadata": {},
   "outputs": [],
   "source": [
    "final_df['ASJC']=codes[0]"
   ]
  },
  {
   "cell_type": "code",
   "execution_count": 115,
   "metadata": {},
   "outputs": [
    {
     "data": {
      "text/plain": [
       "0         1107\n",
       "1         1600\n",
       "2         1100\n",
       "3         1600\n",
       "4         2405\n",
       "          ... \n",
       "205627    2208\n",
       "205628    1303\n",
       "205629    2205\n",
       "205630    1600\n",
       "205631    1702\n",
       "Name: ASJC, Length: 205632, dtype: object"
      ]
     },
     "execution_count": 115,
     "metadata": {},
     "output_type": "execute_result"
    }
   ],
   "source": [
    "final_df['ASJC']"
   ]
  },
  {
   "cell_type": "code",
   "execution_count": null,
   "metadata": {},
   "outputs": [],
   "source": []
  },
  {
   "cell_type": "code",
   "execution_count": 36,
   "metadata": {},
   "outputs": [
    {
     "data": {
      "text/plain": [
       "0         AGRI\n",
       "1         CHEM\n",
       "2         AGRI\n",
       "3         CHEM\n",
       "4         IMMU\n",
       "          ... \n",
       "205627    ENGI\n",
       "205628    BIOC\n",
       "205629    ENGI\n",
       "205630    CHEM\n",
       "205631    COMP\n",
       "Name: Subject, Length: 205632, dtype: object"
      ]
     },
     "execution_count": 36,
     "metadata": {},
     "output_type": "execute_result"
    }
   ],
   "source": [
    "final_df['Subject']"
   ]
  },
  {
   "cell_type": "code",
   "execution_count": 11,
   "metadata": {},
   "outputs": [],
   "source": [
    "# code to split by comma\n",
    "df_Pak_names=df_Pak['Au_unique_IN_str'].str.split(',', expand=True)"
   ]
  },
  {
   "cell_type": "code",
   "execution_count": 246,
   "metadata": {},
   "outputs": [],
   "source": [
    "# create a new df for gender \n",
    "df_Pak_gender = pd.DataFrame()\n",
    "df_Pak_gender=df_Pak_names\n",
    "df_testt=df_Pak_names"
   ]
  },
  {
   "cell_type": "code",
   "execution_count": 129,
   "metadata": {},
   "outputs": [],
   "source": [
    "df_Pak_names['subjareas_str']=df_Pak['subjareas_str']\n",
    "df_Pak_names['source_str']=df_Pak['source_str']\n",
    "df_Pak_names['ScienceDirectScore']=df_Pak['ScienceDirectScore']\n",
    "df_Pak_names['NumberofAuthors']=df_Pak['NumberofAuthors']\n",
    "df_Pak_names['grant_str']=df_Pak['grant_str']\n",
    "df_Pak_names['correspondence']=df_Pak['correspondence']"
   ]
  },
  {
   "cell_type": "markdown",
   "metadata": {},
   "source": [
    "# Female authorship in 1st, 2nd,3rd ... and last"
   ]
  },
  {
   "cell_type": "code",
   "execution_count": 323,
   "metadata": {},
   "outputs": [],
   "source": [
    "female_authorship_in_order=pd.DataFrame()"
   ]
  },
  {
   "cell_type": "code",
   "execution_count": 324,
   "metadata": {},
   "outputs": [],
   "source": [
    "female_authorship_in_order['maleauthorscount']=maleauthorscount\n",
    "female_authorship_in_order['femaleauthorscount']=femaleauthorscount\n",
    "female_authorship_in_order['femaletomaleratio']=femaletomaleratio\n",
    "female_authorship_in_order['femalepercentage']=femalepercentage"
   ]
  },
  {
   "cell_type": "code",
   "execution_count": 325,
   "metadata": {},
   "outputs": [
    {
     "data": {
      "text/html": [
       "<div>\n",
       "<style scoped>\n",
       "    .dataframe tbody tr th:only-of-type {\n",
       "        vertical-align: middle;\n",
       "    }\n",
       "\n",
       "    .dataframe tbody tr th {\n",
       "        vertical-align: top;\n",
       "    }\n",
       "\n",
       "    .dataframe thead th {\n",
       "        text-align: right;\n",
       "    }\n",
       "</style>\n",
       "<table border=\"1\" class=\"dataframe\">\n",
       "  <thead>\n",
       "    <tr style=\"text-align: right;\">\n",
       "      <th></th>\n",
       "      <th>maleauthorscount</th>\n",
       "      <th>femaleauthorscount</th>\n",
       "      <th>femaletomaleratio</th>\n",
       "      <th>femalepercentage</th>\n",
       "    </tr>\n",
       "  </thead>\n",
       "  <tbody>\n",
       "    <tr>\n",
       "      <td>0</td>\n",
       "      <td>125257</td>\n",
       "      <td>8928</td>\n",
       "      <td>0.071277</td>\n",
       "      <td>0.066535</td>\n",
       "    </tr>\n",
       "    <tr>\n",
       "      <td>1</td>\n",
       "      <td>112857</td>\n",
       "      <td>10138</td>\n",
       "      <td>0.089830</td>\n",
       "      <td>0.082426</td>\n",
       "    </tr>\n",
       "    <tr>\n",
       "      <td>2</td>\n",
       "      <td>92301</td>\n",
       "      <td>8959</td>\n",
       "      <td>0.097063</td>\n",
       "      <td>0.088475</td>\n",
       "    </tr>\n",
       "    <tr>\n",
       "      <td>3</td>\n",
       "      <td>66895</td>\n",
       "      <td>6450</td>\n",
       "      <td>0.096420</td>\n",
       "      <td>0.087941</td>\n",
       "    </tr>\n",
       "    <tr>\n",
       "      <td>4</td>\n",
       "      <td>43178</td>\n",
       "      <td>4474</td>\n",
       "      <td>0.103618</td>\n",
       "      <td>0.093889</td>\n",
       "    </tr>\n",
       "    <tr>\n",
       "      <td>5</td>\n",
       "      <td>27137</td>\n",
       "      <td>2813</td>\n",
       "      <td>0.103659</td>\n",
       "      <td>0.093923</td>\n",
       "    </tr>\n",
       "    <tr>\n",
       "      <td>6</td>\n",
       "      <td>15589</td>\n",
       "      <td>1686</td>\n",
       "      <td>0.108153</td>\n",
       "      <td>0.097598</td>\n",
       "    </tr>\n",
       "    <tr>\n",
       "      <td>7</td>\n",
       "      <td>9431</td>\n",
       "      <td>997</td>\n",
       "      <td>0.105715</td>\n",
       "      <td>0.095608</td>\n",
       "    </tr>\n",
       "    <tr>\n",
       "      <td>8</td>\n",
       "      <td>5400</td>\n",
       "      <td>606</td>\n",
       "      <td>0.112222</td>\n",
       "      <td>0.100899</td>\n",
       "    </tr>\n",
       "    <tr>\n",
       "      <td>9</td>\n",
       "      <td>3110</td>\n",
       "      <td>343</td>\n",
       "      <td>0.110289</td>\n",
       "      <td>0.099334</td>\n",
       "    </tr>\n",
       "  </tbody>\n",
       "</table>\n",
       "</div>"
      ],
      "text/plain": [
       "   maleauthorscount  femaleauthorscount  femaletomaleratio  femalepercentage\n",
       "0            125257                8928           0.071277          0.066535\n",
       "1            112857               10138           0.089830          0.082426\n",
       "2             92301                8959           0.097063          0.088475\n",
       "3             66895                6450           0.096420          0.087941\n",
       "4             43178                4474           0.103618          0.093889\n",
       "5             27137                2813           0.103659          0.093923\n",
       "6             15589                1686           0.108153          0.097598\n",
       "7              9431                 997           0.105715          0.095608\n",
       "8              5400                 606           0.112222          0.100899\n",
       "9              3110                 343           0.110289          0.099334"
      ]
     },
     "execution_count": 325,
     "metadata": {},
     "output_type": "execute_result"
    }
   ],
   "source": [
    "female_authorship_in_order.head(10)"
   ]
  },
  {
   "cell_type": "code",
   "execution_count": 326,
   "metadata": {},
   "outputs": [],
   "source": [
    "female_authorship_in_order.to_csv('female_authorship_in_order.csv')"
   ]
  },
  {
   "cell_type": "code",
   "execution_count": null,
   "metadata": {},
   "outputs": [],
   "source": [
    "maleauthorscount=[]\n",
    "femaleauthorscount=[]\n",
    "femaletomaleratio=[]\n",
    "femalepercentage=[]\n",
    "\n",
    "for column in df_testt:\n",
    "    maleauthors=df_testt[column].loc[df_testt[column]=='male'].count()\n",
    "    femaleauthors=df_testt[column].loc[df_testt[column]=='female'].count()\n",
    "    Totalauthors=maleauthors+femaleauthors\n",
    "    maleauthorscount.append(maleauthors)\n",
    "    femaleauthorscount.append(femaleauthors)\n",
    "    femaletomaleratio.append(femaleauthors/maleauthors)\n",
    "    femalepercentage.append(femaleauthors/Totalauthors)\n",
    "    \n",
    "    print(str(column)+'  Male '+str(maleauthors)+' Female '+str(femaleauthors)+' Total '+str(Totalauthors)+' male to female ratio '+str(femaleauthors/maleauthors))\n",
    "    \n",
    "    "
   ]
  },
  {
   "cell_type": "code",
   "execution_count": 282,
   "metadata": {},
   "outputs": [],
   "source": [
    "x=df_testt['source_str'].loc[df_testt['source_str'].str.contains('2011')]"
   ]
  },
  {
   "cell_type": "markdown",
   "metadata": {},
   "source": [
    "# Journal/conference wise gender based landscape "
   ]
  },
  {
   "cell_type": "code",
   "execution_count": 299,
   "metadata": {},
   "outputs": [
    {
     "data": {
      "text/plain": [
       "\"[None,None,pak,None,06,June 2012,2012,None,None,None,None,None,None,None,['1029385X'],None,Medical Forum Monthly,Med. Forum Monthly,79643,j,None]\""
      ]
     },
     "execution_count": 299,
     "metadata": {},
     "output_type": "execute_result"
    }
   ],
   "source": [
    "#18th column contains general information\n",
    "df_testt['source_str'].values[9]"
   ]
  },
  {
   "cell_type": "code",
   "execution_count": 300,
   "metadata": {},
   "outputs": [],
   "source": [
    "general=df_testt['source_str'].str.split(\",\",expand=True)"
   ]
  },
  {
   "cell_type": "code",
   "execution_count": 334,
   "metadata": {},
   "outputs": [
    {
     "data": {
      "text/plain": [
       "\"[None,None,gbr,None,11,November 2010,2010,None,None,None,None,None,['16005368'],None,['16005368'],None,Acta Crystallographica Section E: Structure Reports Online,Acta Crystallogr. Sect. E Struct. Rep. Online,144910,j,None]\""
      ]
     },
     "execution_count": 334,
     "metadata": {},
     "output_type": "execute_result"
    }
   ],
   "source": [
    "df_testt['source_str'].values[1]"
   ]
  },
  {
   "cell_type": "code",
   "execution_count": null,
   "metadata": {},
   "outputs": [],
   "source": [
    "generl_conf=[]\n",
    "generl_conf_count=[]\n",
    "\n",
    "df_general_conf=pd.DataFrame()\n",
    "\n",
    "for x in general[17].unique():\n",
    "    print('general/conference name  -->'+x+'   '+str(general[17].loc[general[17].str.contains(x)].count()))\n",
    "    generl_conf.append(x)\n",
    "    generl_conf_count.append(general[17].loc[general[17].str.contains(x)].count())\n",
    "    "
   ]
  },
  {
   "cell_type": "code",
   "execution_count": 313,
   "metadata": {},
   "outputs": [],
   "source": [
    "df_general_conf['generl_conf']=generl_conf\n",
    "df_general_conf['generl_conf_count']=generl_conf_count\n"
   ]
  },
  {
   "cell_type": "code",
   "execution_count": 331,
   "metadata": {},
   "outputs": [
    {
     "data": {
      "text/plain": [
       "111275"
      ]
     },
     "execution_count": 331,
     "metadata": {},
     "output_type": "execute_result"
    }
   ],
   "source": [
    "df_general_conf['generl_conf_count'].sum()"
   ]
  },
  {
   "cell_type": "code",
   "execution_count": 327,
   "metadata": {},
   "outputs": [],
   "source": [
    "df_general_conf.nlargest(20, ['generl_conf_count']).to_csv('top20generals.csv')"
   ]
  },
  {
   "cell_type": "code",
   "execution_count": 70,
   "metadata": {},
   "outputs": [],
   "source": [
    "genderresults = pd.DataFrame()"
   ]
  },
  {
   "cell_type": "code",
   "execution_count": 139,
   "metadata": {},
   "outputs": [
    {
     "data": {
      "text/html": [
       "<div>\n",
       "<style scoped>\n",
       "    .dataframe tbody tr th:only-of-type {\n",
       "        vertical-align: middle;\n",
       "    }\n",
       "\n",
       "    .dataframe tbody tr th {\n",
       "        vertical-align: top;\n",
       "    }\n",
       "\n",
       "    .dataframe thead th {\n",
       "        text-align: right;\n",
       "    }\n",
       "</style>\n",
       "<table border=\"1\" class=\"dataframe\">\n",
       "  <thead>\n",
       "    <tr style=\"text-align: right;\">\n",
       "      <th></th>\n",
       "      <th>Male Authors</th>\n",
       "      <th>Female Authors</th>\n",
       "      <th>Female2MaleRatio</th>\n",
       "      <th>FemaleRatio</th>\n",
       "    </tr>\n",
       "  </thead>\n",
       "  <tbody>\n",
       "    <tr>\n",
       "      <td>0</td>\n",
       "      <td>125257</td>\n",
       "      <td>8928</td>\n",
       "      <td>0.071277</td>\n",
       "      <td>0.066535</td>\n",
       "    </tr>\n",
       "    <tr>\n",
       "      <td>1</td>\n",
       "      <td>112857</td>\n",
       "      <td>10138</td>\n",
       "      <td>0.089830</td>\n",
       "      <td>0.082426</td>\n",
       "    </tr>\n",
       "    <tr>\n",
       "      <td>2</td>\n",
       "      <td>92301</td>\n",
       "      <td>8959</td>\n",
       "      <td>0.097063</td>\n",
       "      <td>0.088475</td>\n",
       "    </tr>\n",
       "    <tr>\n",
       "      <td>3</td>\n",
       "      <td>66895</td>\n",
       "      <td>6450</td>\n",
       "      <td>0.096420</td>\n",
       "      <td>0.087941</td>\n",
       "    </tr>\n",
       "    <tr>\n",
       "      <td>4</td>\n",
       "      <td>43178</td>\n",
       "      <td>4474</td>\n",
       "      <td>0.103618</td>\n",
       "      <td>0.093889</td>\n",
       "    </tr>\n",
       "    <tr>\n",
       "      <td>...</td>\n",
       "      <td>...</td>\n",
       "      <td>...</td>\n",
       "      <td>...</td>\n",
       "      <td>...</td>\n",
       "    </tr>\n",
       "    <tr>\n",
       "      <td>176</td>\n",
       "      <td>1</td>\n",
       "      <td>0</td>\n",
       "      <td>0.000000</td>\n",
       "      <td>0.000000</td>\n",
       "    </tr>\n",
       "    <tr>\n",
       "      <td>177</td>\n",
       "      <td>0</td>\n",
       "      <td>1</td>\n",
       "      <td>inf</td>\n",
       "      <td>1.000000</td>\n",
       "    </tr>\n",
       "    <tr>\n",
       "      <td>178</td>\n",
       "      <td>1</td>\n",
       "      <td>0</td>\n",
       "      <td>0.000000</td>\n",
       "      <td>0.000000</td>\n",
       "    </tr>\n",
       "    <tr>\n",
       "      <td>179</td>\n",
       "      <td>1</td>\n",
       "      <td>0</td>\n",
       "      <td>0.000000</td>\n",
       "      <td>0.000000</td>\n",
       "    </tr>\n",
       "    <tr>\n",
       "      <td>180</td>\n",
       "      <td>1</td>\n",
       "      <td>0</td>\n",
       "      <td>0.000000</td>\n",
       "      <td>0.000000</td>\n",
       "    </tr>\n",
       "  </tbody>\n",
       "</table>\n",
       "<p>181 rows × 4 columns</p>\n",
       "</div>"
      ],
      "text/plain": [
       "     Male Authors  Female Authors  Female2MaleRatio  FemaleRatio\n",
       "0          125257            8928          0.071277     0.066535\n",
       "1          112857           10138          0.089830     0.082426\n",
       "2           92301            8959          0.097063     0.088475\n",
       "3           66895            6450          0.096420     0.087941\n",
       "4           43178            4474          0.103618     0.093889\n",
       "..            ...             ...               ...          ...\n",
       "176             1               0          0.000000     0.000000\n",
       "177             0               1               inf     1.000000\n",
       "178             1               0          0.000000     0.000000\n",
       "179             1               0          0.000000     0.000000\n",
       "180             1               0          0.000000     0.000000\n",
       "\n",
       "[181 rows x 4 columns]"
      ]
     },
     "execution_count": 139,
     "metadata": {},
     "output_type": "execute_result"
    }
   ],
   "source": [
    "genderresults"
   ]
  },
  {
   "cell_type": "code",
   "execution_count": 74,
   "metadata": {},
   "outputs": [],
   "source": [
    "df_testt['MaleCount'] = df_testt.apply(lambda x: x.str.contains('male'), axis=1).sum(axis=1)"
   ]
  },
  {
   "cell_type": "code",
   "execution_count": 76,
   "metadata": {},
   "outputs": [],
   "source": [
    "df_testt['FemaleCount'] = df_testt.apply(lambda x: x.str.contains('female'), axis=1).sum(axis=1)"
   ]
  },
  {
   "cell_type": "code",
   "execution_count": 86,
   "metadata": {},
   "outputs": [
    {
     "data": {
      "text/plain": [
       "551915.0"
      ]
     },
     "execution_count": 86,
     "metadata": {},
     "output_type": "execute_result"
    }
   ],
   "source": [
    "df_testt['MaleCount'].sum()"
   ]
  },
  {
   "cell_type": "code",
   "execution_count": 87,
   "metadata": {},
   "outputs": [
    {
     "data": {
      "text/plain": [
       "45936.0"
      ]
     },
     "execution_count": 87,
     "metadata": {},
     "output_type": "execute_result"
    }
   ],
   "source": [
    "df_testt['FemaleCount'].sum()"
   ]
  },
  {
   "cell_type": "code",
   "execution_count": 88,
   "metadata": {},
   "outputs": [
    {
     "data": {
      "text/plain": [
       "0.08323020755007565"
      ]
     },
     "execution_count": 88,
     "metadata": {},
     "output_type": "execute_result"
    }
   ],
   "source": [
    "df_testt['FemaleCount'].sum()/df_testt['MaleCount'].sum()"
   ]
  },
  {
   "cell_type": "code",
   "execution_count": 83,
   "metadata": {},
   "outputs": [],
   "source": [
    "df_testt['FemaletoMale percentage']= (df_testt['FemaleCount'] /df_testt['MaleCount'])*100"
   ]
  },
  {
   "cell_type": "code",
   "execution_count": 320,
   "metadata": {},
   "outputs": [
    {
     "data": {
      "text/plain": [
       "0      0.000000\n",
       "3      0.000000\n",
       "4     16.666667\n",
       "5     33.333333\n",
       "6      0.000000\n",
       "7      0.000000\n",
       "8      0.000000\n",
       "11    25.000000\n",
       "14     0.000000\n",
       "15    25.000000\n",
       "Name: FemaletoMale percentage, dtype: float64"
      ]
     },
     "execution_count": 320,
     "metadata": {},
     "output_type": "execute_result"
    }
   ],
   "source": [
    "df_testt['FemaletoMale percentage'].head(10)"
   ]
  },
  {
   "cell_type": "markdown",
   "metadata": {},
   "source": [
    "# Discipline based landscape"
   ]
  },
  {
   "cell_type": "code",
   "execution_count": 132,
   "metadata": {},
   "outputs": [],
   "source": [
    "df_testt['SubjectAreacount'] = df_testt['subjareas_str'].apply(lambda x: len(x.split(',')))"
   ]
  },
  {
   "cell_type": "code",
   "execution_count": 240,
   "metadata": {},
   "outputs": [
    {
     "data": {
      "text/plain": [
       "84540"
      ]
     },
     "execution_count": 240,
     "metadata": {},
     "output_type": "execute_result"
    }
   ],
   "source": [
    "df_testt['SubjectAreacount'].loc[df_testt['SubjectAreacount']==1].count()"
   ]
  },
  {
   "cell_type": "code",
   "execution_count": 248,
   "metadata": {},
   "outputs": [],
   "source": [
    "df_subject_one=df_testt['subjareas_str']=df_testt.loc[df_testt['SubjectAreacount']==1]"
   ]
  },
  {
   "cell_type": "code",
   "execution_count": 255,
   "metadata": {},
   "outputs": [
    {
     "data": {
      "text/html": [
       "<div>\n",
       "<style scoped>\n",
       "    .dataframe tbody tr th:only-of-type {\n",
       "        vertical-align: middle;\n",
       "    }\n",
       "\n",
       "    .dataframe tbody tr th {\n",
       "        vertical-align: top;\n",
       "    }\n",
       "\n",
       "    .dataframe thead th {\n",
       "        text-align: right;\n",
       "    }\n",
       "</style>\n",
       "<table border=\"1\" class=\"dataframe\">\n",
       "  <thead>\n",
       "    <tr style=\"text-align: right;\">\n",
       "      <th></th>\n",
       "      <th>0</th>\n",
       "      <th>1</th>\n",
       "      <th>2</th>\n",
       "      <th>3</th>\n",
       "      <th>4</th>\n",
       "      <th>5</th>\n",
       "      <th>6</th>\n",
       "      <th>7</th>\n",
       "      <th>8</th>\n",
       "      <th>9</th>\n",
       "      <th>...</th>\n",
       "      <th>FemaleCount</th>\n",
       "      <th>FemaletoMaleratio</th>\n",
       "      <th>FemaletoMale percentage</th>\n",
       "      <th>subjareas_str</th>\n",
       "      <th>source_str</th>\n",
       "      <th>ScienceDirectScore</th>\n",
       "      <th>NumberofAuthors</th>\n",
       "      <th>grant_str</th>\n",
       "      <th>correspondence</th>\n",
       "      <th>SubjectAreacount</th>\n",
       "    </tr>\n",
       "  </thead>\n",
       "  <tbody>\n",
       "    <tr>\n",
       "      <td>0</td>\n",
       "      <td>male</td>\n",
       "      <td>male</td>\n",
       "      <td>None</td>\n",
       "      <td>None</td>\n",
       "      <td>None</td>\n",
       "      <td>None</td>\n",
       "      <td>None</td>\n",
       "      <td>None</td>\n",
       "      <td>None</td>\n",
       "      <td>None</td>\n",
       "      <td>...</td>\n",
       "      <td>0.0</td>\n",
       "      <td>0.0</td>\n",
       "      <td>0.0</td>\n",
       "      <td>AGRI</td>\n",
       "      <td>[None,None,mys,None,06,June 1997,1997,None,Non...</td>\n",
       "      <td>NaN</td>\n",
       "      <td>2</td>\n",
       "      <td>NaN</td>\n",
       "      <td>[{country=pak}]</td>\n",
       "      <td>1</td>\n",
       "    </tr>\n",
       "    <tr>\n",
       "      <td>8</td>\n",
       "      <td>male</td>\n",
       "      <td>male</td>\n",
       "      <td>male</td>\n",
       "      <td>None</td>\n",
       "      <td>None</td>\n",
       "      <td>None</td>\n",
       "      <td>None</td>\n",
       "      <td>None</td>\n",
       "      <td>None</td>\n",
       "      <td>None</td>\n",
       "      <td>...</td>\n",
       "      <td>0.0</td>\n",
       "      <td>0.0</td>\n",
       "      <td>0.0</td>\n",
       "      <td>AGRI</td>\n",
       "      <td>[None,None,pak,None,None,2012,2012,None,None,N...</td>\n",
       "      <td>NaN</td>\n",
       "      <td>3</td>\n",
       "      <td>NaN</td>\n",
       "      <td>[{country=pak}]</td>\n",
       "      <td>1</td>\n",
       "    </tr>\n",
       "    <tr>\n",
       "      <td>14</td>\n",
       "      <td>male</td>\n",
       "      <td>male</td>\n",
       "      <td>male</td>\n",
       "      <td>male</td>\n",
       "      <td>None</td>\n",
       "      <td>None</td>\n",
       "      <td>None</td>\n",
       "      <td>None</td>\n",
       "      <td>None</td>\n",
       "      <td>None</td>\n",
       "      <td>...</td>\n",
       "      <td>0.0</td>\n",
       "      <td>0.0</td>\n",
       "      <td>0.0</td>\n",
       "      <td>AGRI</td>\n",
       "      <td>[None,None,pak,None,06,June 2008,2008,None,Non...</td>\n",
       "      <td>NaN</td>\n",
       "      <td>4</td>\n",
       "      <td>NaN</td>\n",
       "      <td>[{country=pak}]</td>\n",
       "      <td>1</td>\n",
       "    </tr>\n",
       "    <tr>\n",
       "      <td>18</td>\n",
       "      <td>male</td>\n",
       "      <td>male</td>\n",
       "      <td>None</td>\n",
       "      <td>None</td>\n",
       "      <td>None</td>\n",
       "      <td>None</td>\n",
       "      <td>None</td>\n",
       "      <td>None</td>\n",
       "      <td>None</td>\n",
       "      <td>None</td>\n",
       "      <td>...</td>\n",
       "      <td>0.0</td>\n",
       "      <td>0.0</td>\n",
       "      <td>0.0</td>\n",
       "      <td>AGRI</td>\n",
       "      <td>[None,None,pak,None,10,October 2012,2012,None,...</td>\n",
       "      <td>NaN</td>\n",
       "      <td>2</td>\n",
       "      <td>NaN</td>\n",
       "      <td>[{country=pak}]</td>\n",
       "      <td>1</td>\n",
       "    </tr>\n",
       "    <tr>\n",
       "      <td>40</td>\n",
       "      <td>male</td>\n",
       "      <td>male</td>\n",
       "      <td>male</td>\n",
       "      <td>female</td>\n",
       "      <td>None</td>\n",
       "      <td>None</td>\n",
       "      <td>None</td>\n",
       "      <td>None</td>\n",
       "      <td>None</td>\n",
       "      <td>None</td>\n",
       "      <td>...</td>\n",
       "      <td>1.0</td>\n",
       "      <td>25.0</td>\n",
       "      <td>25.0</td>\n",
       "      <td>AGRI</td>\n",
       "      <td>[None,None,pak,None,02,February 2014,2014,None...</td>\n",
       "      <td>NaN</td>\n",
       "      <td>4</td>\n",
       "      <td>NaN</td>\n",
       "      <td>[{country=pak}]</td>\n",
       "      <td>1</td>\n",
       "    </tr>\n",
       "    <tr>\n",
       "      <td>...</td>\n",
       "      <td>...</td>\n",
       "      <td>...</td>\n",
       "      <td>...</td>\n",
       "      <td>...</td>\n",
       "      <td>...</td>\n",
       "      <td>...</td>\n",
       "      <td>...</td>\n",
       "      <td>...</td>\n",
       "      <td>...</td>\n",
       "      <td>...</td>\n",
       "      <td>...</td>\n",
       "      <td>...</td>\n",
       "      <td>...</td>\n",
       "      <td>...</td>\n",
       "      <td>...</td>\n",
       "      <td>...</td>\n",
       "      <td>...</td>\n",
       "      <td>...</td>\n",
       "      <td>...</td>\n",
       "      <td>...</td>\n",
       "      <td>...</td>\n",
       "    </tr>\n",
       "    <tr>\n",
       "      <td>207314</td>\n",
       "      <td>male</td>\n",
       "      <td>None</td>\n",
       "      <td>None</td>\n",
       "      <td>None</td>\n",
       "      <td>None</td>\n",
       "      <td>None</td>\n",
       "      <td>None</td>\n",
       "      <td>None</td>\n",
       "      <td>None</td>\n",
       "      <td>None</td>\n",
       "      <td>...</td>\n",
       "      <td>0.0</td>\n",
       "      <td>0.0</td>\n",
       "      <td>0.0</td>\n",
       "      <td>AGRI</td>\n",
       "      <td>[None,None,nld,None,None,1996,1996,None,None,N...</td>\n",
       "      <td>NaN</td>\n",
       "      <td>1</td>\n",
       "      <td>NaN</td>\n",
       "      <td>[{country=pak}]</td>\n",
       "      <td>1</td>\n",
       "    </tr>\n",
       "    <tr>\n",
       "      <td>207348</td>\n",
       "      <td>male</td>\n",
       "      <td>female</td>\n",
       "      <td>male</td>\n",
       "      <td>male</td>\n",
       "      <td>None</td>\n",
       "      <td>None</td>\n",
       "      <td>None</td>\n",
       "      <td>None</td>\n",
       "      <td>None</td>\n",
       "      <td>None</td>\n",
       "      <td>...</td>\n",
       "      <td>1.0</td>\n",
       "      <td>25.0</td>\n",
       "      <td>25.0</td>\n",
       "      <td>AGRI</td>\n",
       "      <td>[None,None,pak,01,04,April 2018,2018,None,None...</td>\n",
       "      <td>NaN</td>\n",
       "      <td>4</td>\n",
       "      <td>NaN</td>\n",
       "      <td>[{country=pak}]</td>\n",
       "      <td>1</td>\n",
       "    </tr>\n",
       "    <tr>\n",
       "      <td>207354</td>\n",
       "      <td>male</td>\n",
       "      <td>male</td>\n",
       "      <td>None</td>\n",
       "      <td>None</td>\n",
       "      <td>None</td>\n",
       "      <td>None</td>\n",
       "      <td>None</td>\n",
       "      <td>None</td>\n",
       "      <td>None</td>\n",
       "      <td>None</td>\n",
       "      <td>...</td>\n",
       "      <td>0.0</td>\n",
       "      <td>0.0</td>\n",
       "      <td>0.0</td>\n",
       "      <td>AGRI</td>\n",
       "      <td>[None,None,pak,01,10,1 October 2007,2007,None,...</td>\n",
       "      <td>NaN</td>\n",
       "      <td>2</td>\n",
       "      <td>NaN</td>\n",
       "      <td>[{country=pak}]</td>\n",
       "      <td>1</td>\n",
       "    </tr>\n",
       "    <tr>\n",
       "      <td>207359</td>\n",
       "      <td>male</td>\n",
       "      <td>male</td>\n",
       "      <td>None</td>\n",
       "      <td>None</td>\n",
       "      <td>None</td>\n",
       "      <td>None</td>\n",
       "      <td>None</td>\n",
       "      <td>None</td>\n",
       "      <td>None</td>\n",
       "      <td>None</td>\n",
       "      <td>...</td>\n",
       "      <td>0.0</td>\n",
       "      <td>0.0</td>\n",
       "      <td>0.0</td>\n",
       "      <td>AGRI</td>\n",
       "      <td>[None,None,pak,None,12,December 2008,2008,None...</td>\n",
       "      <td>NaN</td>\n",
       "      <td>2</td>\n",
       "      <td>NaN</td>\n",
       "      <td>[{country=pak}]</td>\n",
       "      <td>1</td>\n",
       "    </tr>\n",
       "    <tr>\n",
       "      <td>207386</td>\n",
       "      <td>male</td>\n",
       "      <td>male</td>\n",
       "      <td>male</td>\n",
       "      <td>male</td>\n",
       "      <td>None</td>\n",
       "      <td>None</td>\n",
       "      <td>None</td>\n",
       "      <td>None</td>\n",
       "      <td>None</td>\n",
       "      <td>None</td>\n",
       "      <td>...</td>\n",
       "      <td>0.0</td>\n",
       "      <td>0.0</td>\n",
       "      <td>0.0</td>\n",
       "      <td>AGRI</td>\n",
       "      <td>[None,None,pak,None,06,June 2007,2007,None,Non...</td>\n",
       "      <td>NaN</td>\n",
       "      <td>4</td>\n",
       "      <td>NaN</td>\n",
       "      <td>[{country=pak}]</td>\n",
       "      <td>1</td>\n",
       "    </tr>\n",
       "  </tbody>\n",
       "</table>\n",
       "<p>14622 rows × 192 columns</p>\n",
       "</div>"
      ],
      "text/plain": [
       "           0       1     2       3     4     5     6     7     8     9  ...  \\\n",
       "0       male    male  None    None  None  None  None  None  None  None  ...   \n",
       "8       male    male  male    None  None  None  None  None  None  None  ...   \n",
       "14      male    male  male    male  None  None  None  None  None  None  ...   \n",
       "18      male    male  None    None  None  None  None  None  None  None  ...   \n",
       "40      male    male  male  female  None  None  None  None  None  None  ...   \n",
       "...      ...     ...   ...     ...   ...   ...   ...   ...   ...   ...  ...   \n",
       "207314  male    None  None    None  None  None  None  None  None  None  ...   \n",
       "207348  male  female  male    male  None  None  None  None  None  None  ...   \n",
       "207354  male    male  None    None  None  None  None  None  None  None  ...   \n",
       "207359  male    male  None    None  None  None  None  None  None  None  ...   \n",
       "207386  male    male  male    male  None  None  None  None  None  None  ...   \n",
       "\n",
       "       FemaleCount FemaletoMaleratio FemaletoMale percentage subjareas_str  \\\n",
       "0              0.0               0.0                     0.0          AGRI   \n",
       "8              0.0               0.0                     0.0          AGRI   \n",
       "14             0.0               0.0                     0.0          AGRI   \n",
       "18             0.0               0.0                     0.0          AGRI   \n",
       "40             1.0              25.0                    25.0          AGRI   \n",
       "...            ...               ...                     ...           ...   \n",
       "207314         0.0               0.0                     0.0          AGRI   \n",
       "207348         1.0              25.0                    25.0          AGRI   \n",
       "207354         0.0               0.0                     0.0          AGRI   \n",
       "207359         0.0               0.0                     0.0          AGRI   \n",
       "207386         0.0               0.0                     0.0          AGRI   \n",
       "\n",
       "                                               source_str ScienceDirectScore  \\\n",
       "0       [None,None,mys,None,06,June 1997,1997,None,Non...                NaN   \n",
       "8       [None,None,pak,None,None,2012,2012,None,None,N...                NaN   \n",
       "14      [None,None,pak,None,06,June 2008,2008,None,Non...                NaN   \n",
       "18      [None,None,pak,None,10,October 2012,2012,None,...                NaN   \n",
       "40      [None,None,pak,None,02,February 2014,2014,None...                NaN   \n",
       "...                                                   ...                ...   \n",
       "207314  [None,None,nld,None,None,1996,1996,None,None,N...                NaN   \n",
       "207348  [None,None,pak,01,04,April 2018,2018,None,None...                NaN   \n",
       "207354  [None,None,pak,01,10,1 October 2007,2007,None,...                NaN   \n",
       "207359  [None,None,pak,None,12,December 2008,2008,None...                NaN   \n",
       "207386  [None,None,pak,None,06,June 2007,2007,None,Non...                NaN   \n",
       "\n",
       "       NumberofAuthors grant_str   correspondence SubjectAreacount  \n",
       "0                    2       NaN  [{country=pak}]                1  \n",
       "8                    3       NaN  [{country=pak}]                1  \n",
       "14                   4       NaN  [{country=pak}]                1  \n",
       "18                   2       NaN  [{country=pak}]                1  \n",
       "40                   4       NaN  [{country=pak}]                1  \n",
       "...                ...       ...              ...              ...  \n",
       "207314               1       NaN  [{country=pak}]                1  \n",
       "207348               4       NaN  [{country=pak}]                1  \n",
       "207354               2       NaN  [{country=pak}]                1  \n",
       "207359               2       NaN  [{country=pak}]                1  \n",
       "207386               4       NaN  [{country=pak}]                1  \n",
       "\n",
       "[14622 rows x 192 columns]"
      ]
     },
     "execution_count": 255,
     "metadata": {},
     "output_type": "execute_result"
    }
   ],
   "source": [
    "df_subject_one.loc[df_subject_one['subjareas_str'].str.contains(x)]"
   ]
  },
  {
   "cell_type": "code",
   "execution_count": null,
   "metadata": {},
   "outputs": [],
   "source": [
    "for x in df_subject_one['subjareas_str'].unique():\n",
    "    print(str(x)+' count is '+str(df_subject_one['subjareas_str'].loc[df_subject_one['subjareas_str'].str.contains(x)].count()))\n",
    "    maleauthorscount=[]\n",
    "    femaleauthorscount=[]\n",
    "    femaletomaleratio=[]\n",
    "    femalepercentage=[]\n",
    "    df_dummy=df_subject_one.loc[df_subject_one['subjareas_str'].str.contains(x)]\n",
    "    df_dummy = df_dummy[df_dummy.columns[0:3]]\n",
    "    for column in df_dummy:\n",
    "        if column<10:\n",
    "\n",
    "            maleauthors=df_dummy[column].loc[df_dummy[column]=='male'].count()\n",
    "            femaleauthors=df_dummy[column].loc[df_dummy[column]=='female'].count()\n",
    "            Totalauthors=maleauthors+femaleauthors\n",
    "            maleauthorscount.append(maleauthors)\n",
    "            femaleauthorscount.append(femaleauthors)\n",
    "            femaletomaleratio.append(femaleauthors/maleauthors)\n",
    "            femalepercentage.append(femaleauthors/Totalauthors)\n",
    "\n",
    "            print(str(column+1)+' Authorship -->  Male '+str(maleauthors)+' Female '+str(femaleauthors)+' Total '+str(Totalauthors)+' male to female ratio '+str(femaleauthors/maleauthors))\n"
   ]
  },
  {
   "cell_type": "code",
   "execution_count": null,
   "metadata": {},
   "outputs": [],
   "source": []
  },
  {
   "cell_type": "code",
   "execution_count": 268,
   "metadata": {},
   "outputs": [],
   "source": [
    "newdf = df_dummy[df_dummy.columns[0:10]]"
   ]
  },
  {
   "cell_type": "code",
   "execution_count": 71,
   "metadata": {},
   "outputs": [],
   "source": [
    "genderresults['Male Authors']=maleauthorscount\n",
    "genderresults['Female Authors']=femaleauthorscount\n",
    "genderresults['Female2MaleRatio']=femaletomaleratio\n",
    "genderresults['FemaleRatio']=femalepercentage\n"
   ]
  }
 ],
 "metadata": {
  "kernelspec": {
   "display_name": "Python 3",
   "language": "python",
   "name": "python3"
  },
  "language_info": {
   "codemirror_mode": {
    "name": "ipython",
    "version": 3
   },
   "file_extension": ".py",
   "mimetype": "text/x-python",
   "name": "python",
   "nbconvert_exporter": "python",
   "pygments_lexer": "ipython3",
   "version": "3.9.10"
  }
 },
 "nbformat": 4,
 "nbformat_minor": 2
}
