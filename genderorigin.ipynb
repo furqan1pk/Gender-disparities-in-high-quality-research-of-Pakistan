{
 "cells": [
  {
   "cell_type": "code",
   "execution_count": 1,
   "metadata": {},
   "outputs": [],
   "source": [
    "# used to open large csv files as I have low ram\n",
    "import sys\n",
    "import csv\n",
    "maxInt = sys.maxsize\n",
    "while True:\n",
    "    # decrease the maxInt value by factor 10 \n",
    "    # as long as the OverflowError occurs.\n",
    "\n",
    "    try:\n",
    "        csv.field_size_limit(maxInt)\n",
    "        break\n",
    "    except OverflowError:\n",
    "        maxInt = int(maxInt/10)"
   ]
  },
  {
   "cell_type": "code",
   "execution_count": 2,
   "metadata": {},
   "outputs": [],
   "source": [
    "#open the csv file\n",
    "import pandas as pd\n",
    "data=pd.read_csv(\"export.csv\", engine='python')\n"
   ]
  },
  {
   "cell_type": "code",
   "execution_count": 4,
   "metadata": {},
   "outputs": [],
   "source": [
    "#select the columns that would be used the most\n",
    "df = pd.DataFrame(data, columns = ['correspondence','Au_unique_IN_str', 'subjareas_str','source_str','funding_list_str','funding_list_str','grant_str','ScienceDirectScore'])"
   ]
  },
  {
   "cell_type": "code",
   "execution_count": null,
   "metadata": {},
   "outputs": [],
   "source": [
    "#function to get gender information\n",
    "from __future__ import print_function\n",
    "import time\n",
    "import openapi_client\n",
    "from openapi_client.rest import ApiException\n",
    "from pprint import pprint\n",
    "import numpy as np\n",
    "# Configure API key authorization: api_key\n",
    "configuration = openapi_client.Configuration()\n",
    "\n",
    "configuration.api_key['X-API-KEY'] = '417aa2d90dfabcbdad52cac63f2891a8'\n",
    "# Uncomment below to setup prefix (e.g. Bearer) for API key, if needed\n",
    "# configuration.api_key_prefix['X-API-KEY'] = 'Bearer'\n",
    "\n",
    "# create an instance of the API class\n",
    "api_instance = openapi_client.PersonalApi(openapi_client.ApiClient(configuration))\n",
    "full_name = 'Furqan Arshad' # str | \n",
    "# gender_fullname(full_name)\n",
    "\n",
    "def gender_fullname(full_name):\n",
    "    try:\n",
    "        # Infer the likely gender of a full name, ex. John H. Smith\n",
    "#         api_response = api_instance.gender_full(full_name)\n",
    "#         gender_full_geo()\n",
    "        api_response = api_instance.gender_full(full_name)\n",
    "        \n",
    "\n",
    "#         pprint(api_response.likely_gender)\n",
    "    except ApiException as e:\n",
    "        print(\"Exception when calling PersonalApi->gender_full: %s\\n\" % e)\n",
    "        return 'exception'\n",
    "    return api_response.likely_gender\n",
    "    \n",
    "gender_fullname(full_name)"
   ]
  },
  {
   "cell_type": "code",
   "execution_count": 75,
   "metadata": {},
   "outputs": [
    {
     "data": {
      "text/plain": [
       "'PK,male'"
      ]
     },
     "execution_count": 75,
     "metadata": {},
     "output_type": "execute_result"
    }
   ],
   "source": [
    "from __future__ import print_function\n",
    "import time\n",
    "import openapi_client\n",
    "from openapi_client.rest import ApiException\n",
    "from pprint import pprint\n",
    "\n",
    "# Configure API key authorization: api_key\n",
    "configuration = openapi_client.Configuration()\n",
    "configuration.api_key['X-API-KEY'] = '417aa2d90dfabcbdad52cac63f2891a8'\n",
    "# Uncomment below to setup prefix (e.g. Bearer) for API key, if needed\n",
    "# configuration.api_key_prefix['X-API-KEY'] = 'Bearer'\n",
    "\n",
    "# create an instance of the API class\n",
    "api_instance = openapi_client.PersonalApi(openapi_client.ApiClient(configuration))\n",
    "first_name = 'Furqan' # str | \n",
    "last_name = 'Arshad' # str | \n",
    "def origin_fullname(full_name):\n",
    "    try:\n",
    "        # [USES 10 UNITS PER NAME] Infer the likely country of origin of a personal name. Assumes names as they are in the country of origin. For US, CA, AU, NZ and other melting-pots : use 'diaspora' instead.\n",
    "        api_response_origin = api_instance.origin(first_name, last_name)\n",
    "        api_response_gender = api_instance.gender_full(full_name)\n",
    "        \n",
    "#         pprint(api_response_gender.likely_gender)\n",
    "#         pprint(api_response_origin.country_origin)\n",
    "    except ApiException as e:\n",
    "        print(\"Exception when calling PersonalApi->origin: %s\\n\" % e)\n",
    "    return (api_response_origin.country_origin+','+api_response_gender.likely_gender)\n",
    "origin_fullname('Furqan Arshad')"
   ]
  },
  {
   "cell_type": "code",
   "execution_count": 32,
   "metadata": {},
   "outputs": [],
   "source": [
    "#Only Pakistani authors\n",
    "# new_df = df[~df[\"col\"].str.contains(word)]\n",
    "df_notPak=df[~df['correspondence'].str.contains('pak')]"
   ]
  },
  {
   "cell_type": "code",
   "execution_count": 35,
   "metadata": {},
   "outputs": [
    {
     "name": "stderr",
     "output_type": "stream",
     "text": [
      "C:\\Users\\Chisel-Lab\\Anaconda3\\lib\\site-packages\\ipykernel_launcher.py:1: SettingWithCopyWarning: \n",
      "A value is trying to be set on a copy of a slice from a DataFrame.\n",
      "Try using .loc[row_indexer,col_indexer] = value instead\n",
      "\n",
      "See the caveats in the documentation: http://pandas.pydata.org/pandas-docs/stable/user_guide/indexing.html#returning-a-view-versus-a-copy\n",
      "  \"\"\"Entry point for launching an IPython kernel.\n"
     ]
    }
   ],
   "source": [
    "df_notPak['Au_unique_IN_str'] = df_notPak['Au_unique_IN_str'].str.slice(1,-1)"
   ]
  },
  {
   "cell_type": "code",
   "execution_count": 40,
   "metadata": {},
   "outputs": [],
   "source": [
    "import numpy as np\n",
    "df_notPak=df_notPak.fillna(np.nan).replace([np.nan], [None])"
   ]
  },
  {
   "cell_type": "code",
   "execution_count": 48,
   "metadata": {},
   "outputs": [],
   "source": [
    "df_notPak=df_notPak.loc[df_notPak['Au_unique_IN_str'].notnull()]"
   ]
  },
  {
   "cell_type": "code",
   "execution_count": 49,
   "metadata": {},
   "outputs": [],
   "source": [
    "df_notPak['NumberofAuthors'] = df_notPak['Au_unique_IN_str'].apply(lambda x: len(x.split(',')))"
   ]
  },
  {
   "cell_type": "code",
   "execution_count": 55,
   "metadata": {},
   "outputs": [],
   "source": [
    "#drop authors greater than 200 to reduce the size of dataframe\n",
    "df_notPak_l200=df_notPak[df_notPak.NumberofAuthors < 200]"
   ]
  },
  {
   "cell_type": "code",
   "execution_count": 54,
   "metadata": {},
   "outputs": [],
   "source": [
    "df_notPak_g200=df_notPak[df_notPak.NumberofAuthors > 200]"
   ]
  },
  {
   "cell_type": "code",
   "execution_count": 24,
   "metadata": {},
   "outputs": [],
   "source": [
    "# code to split by comma\n",
    "df_notPak_names=df_notPak['Au_unique_IN_str'].str.split(',', expand=True)"
   ]
  },
  {
   "cell_type": "code",
   "execution_count": 28,
   "metadata": {},
   "outputs": [],
   "source": [
    "df_testt = df_notPak_names"
   ]
  },
  {
   "cell_type": "code",
   "execution_count": 78,
   "metadata": {},
   "outputs": [],
   "source": [
    "df_testt.to_csv('nonpakistanAuthors_origin_gender.csv')"
   ]
  },
  {
   "cell_type": "code",
   "execution_count": 73,
   "metadata": {},
   "outputs": [
    {
     "data": {
      "text/plain": [
       "47455"
      ]
     },
     "execution_count": 73,
     "metadata": {},
     "output_type": "execute_result"
    }
   ],
   "source": [
    "df_testt[0].loc[df_testt[0].str.contains('PK,male')].count()"
   ]
  },
  {
   "cell_type": "code",
   "execution_count": 81,
   "metadata": {},
   "outputs": [
    {
     "name": "stdout",
     "output_type": "stream",
     "text": [
      "0\n",
      "1\n",
      "2\n",
      "3\n",
      "4\n",
      "5\n",
      "6\n",
      "7\n",
      "8\n",
      "9\n",
      "10\n",
      "11\n",
      "12\n",
      "13\n",
      "14\n",
      "15\n",
      "16\n",
      "17\n",
      "18\n",
      "19\n",
      "20\n",
      "21\n",
      "22\n",
      "23\n",
      "24\n",
      "25\n",
      "26\n",
      "27\n",
      "28\n",
      "29\n",
      "30\n",
      "31\n",
      "32\n",
      "33\n",
      "34\n",
      "35\n",
      "36\n",
      "37\n",
      "38\n",
      "39\n",
      "40\n",
      "41\n",
      "42\n",
      "43\n",
      "44\n",
      "45\n",
      "46\n",
      "47\n",
      "48\n",
      "Exception when calling PersonalApi->origin: (400)\n",
      "Reason: \n",
      "HTTP response headers: HTTPHeaderDict({'Content-Length': '0', 'Date': 'Fri, 30 Oct 2020 10:04:10 GMT', 'Connection': 'close'})\n",
      "\n",
      "\n"
     ]
    },
    {
     "ename": "UnboundLocalError",
     "evalue": "local variable 'api_response_gender' referenced before assignment",
     "output_type": "error",
     "traceback": [
      "\u001b[1;31m---------------------------------------------------------------------------\u001b[0m",
      "\u001b[1;31mUnboundLocalError\u001b[0m                         Traceback (most recent call last)",
      "\u001b[1;32m<ipython-input-81-42a158d66fec>\u001b[0m in \u001b[0;36m<module>\u001b[1;34m\u001b[0m\n\u001b[0;32m      7\u001b[0m                 \u001b[1;32mif\u001b[0m \u001b[1;33m(\u001b[0m\u001b[1;33m(\u001b[0m\u001b[0mdf_testt\u001b[0m\u001b[1;33m[\u001b[0m\u001b[0mcolumn\u001b[0m\u001b[1;33m]\u001b[0m\u001b[1;33m.\u001b[0m\u001b[0mvalues\u001b[0m\u001b[1;33m[\u001b[0m\u001b[0mi\u001b[0m\u001b[1;33m]\u001b[0m \u001b[1;33m!=\u001b[0m \u001b[1;34m'PK,female'\u001b[0m\u001b[1;33m)\u001b[0m\u001b[1;33m)\u001b[0m\u001b[1;33m:\u001b[0m\u001b[1;33m\u001b[0m\u001b[1;33m\u001b[0m\u001b[0m\n\u001b[0;32m      8\u001b[0m \u001b[1;31m#                     print(df_testt[column].values[i])\u001b[0m\u001b[1;33m\u001b[0m\u001b[1;33m\u001b[0m\u001b[1;33m\u001b[0m\u001b[0m\n\u001b[1;32m----> 9\u001b[1;33m                     \u001b[0mgender\u001b[0m\u001b[1;33m=\u001b[0m\u001b[0morigin_fullname\u001b[0m\u001b[1;33m(\u001b[0m\u001b[0mdf_testt\u001b[0m\u001b[1;33m[\u001b[0m\u001b[0mcolumn\u001b[0m\u001b[1;33m]\u001b[0m\u001b[1;33m.\u001b[0m\u001b[0mvalues\u001b[0m\u001b[1;33m[\u001b[0m\u001b[0mi\u001b[0m\u001b[1;33m]\u001b[0m\u001b[1;33m)\u001b[0m\u001b[1;33m\u001b[0m\u001b[1;33m\u001b[0m\u001b[0m\n\u001b[0m\u001b[0;32m     10\u001b[0m                     \u001b[0mdf_testt\u001b[0m\u001b[1;33m[\u001b[0m\u001b[0mcolumn\u001b[0m\u001b[1;33m]\u001b[0m\u001b[1;33m.\u001b[0m\u001b[0mvalues\u001b[0m\u001b[1;33m[\u001b[0m\u001b[0mi\u001b[0m\u001b[1;33m]\u001b[0m \u001b[1;33m=\u001b[0m \u001b[0mgender\u001b[0m\u001b[1;33m\u001b[0m\u001b[1;33m\u001b[0m\u001b[0m\n\u001b[0;32m     11\u001b[0m                     \u001b[0mmylist\u001b[0m\u001b[1;33m.\u001b[0m\u001b[0mappend\u001b[0m\u001b[1;33m(\u001b[0m\u001b[0mgender\u001b[0m\u001b[1;33m)\u001b[0m\u001b[1;33m\u001b[0m\u001b[1;33m\u001b[0m\u001b[0m\n",
      "\u001b[1;32m<ipython-input-75-3fa0019d3538>\u001b[0m in \u001b[0;36morigin_fullname\u001b[1;34m(full_name)\u001b[0m\n\u001b[0;32m     25\u001b[0m     \u001b[1;32mexcept\u001b[0m \u001b[0mApiException\u001b[0m \u001b[1;32mas\u001b[0m \u001b[0me\u001b[0m\u001b[1;33m:\u001b[0m\u001b[1;33m\u001b[0m\u001b[1;33m\u001b[0m\u001b[0m\n\u001b[0;32m     26\u001b[0m         \u001b[0mprint\u001b[0m\u001b[1;33m(\u001b[0m\u001b[1;34m\"Exception when calling PersonalApi->origin: %s\\n\"\u001b[0m \u001b[1;33m%\u001b[0m \u001b[0me\u001b[0m\u001b[1;33m)\u001b[0m\u001b[1;33m\u001b[0m\u001b[1;33m\u001b[0m\u001b[0m\n\u001b[1;32m---> 27\u001b[1;33m     \u001b[1;32mreturn\u001b[0m \u001b[1;33m(\u001b[0m\u001b[0mapi_response_origin\u001b[0m\u001b[1;33m.\u001b[0m\u001b[0mcountry_origin\u001b[0m\u001b[1;33m+\u001b[0m\u001b[1;34m','\u001b[0m\u001b[1;33m+\u001b[0m\u001b[0mapi_response_gender\u001b[0m\u001b[1;33m.\u001b[0m\u001b[0mlikely_gender\u001b[0m\u001b[1;33m)\u001b[0m\u001b[1;33m\u001b[0m\u001b[1;33m\u001b[0m\u001b[0m\n\u001b[0m\u001b[0;32m     28\u001b[0m \u001b[0morigin_fullname\u001b[0m\u001b[1;33m(\u001b[0m\u001b[1;34m'Furqan Arshad'\u001b[0m\u001b[1;33m)\u001b[0m\u001b[1;33m\u001b[0m\u001b[1;33m\u001b[0m\u001b[0m\n",
      "\u001b[1;31mUnboundLocalError\u001b[0m: local variable 'api_response_gender' referenced before assignment"
     ]
    }
   ],
   "source": [
    "mylist= []\n",
    "for column in df_testt:\n",
    "    print(column)\n",
    "    for i in range(len(df_testt[column])):\n",
    "        if df_testt[column].values[i] is not None:\n",
    "            if ((df_testt[column].values[i] != 'PK,male')):\n",
    "                if ((df_testt[column].values[i] != 'PK,female')):\n",
    "#                     print(df_testt[column].values[i])\n",
    "                    gender=origin_fullname(df_testt[column].values[i])\n",
    "                    df_testt[column].values[i] = gender\n",
    "                    mylist.append(gender)\n",
    "        \n"
   ]
  },
  {
   "cell_type": "code",
   "execution_count": null,
   "metadata": {},
   "outputs": [],
   "source": [
    "for i in range(math.ceil(len(x)/100)):\n",
    "    if (len(x)%100 != 0):\n",
    "        if(i==math.ceil(len(x)/100)):\n",
    "            x[i*100:]\n",
    "        else:\n",
    "            x[i*100:(i+1)*100]      \n",
    "\n",
    "a[start:stop]  # items start through stop-1"
   ]
  }
 ],
 "metadata": {
  "kernelspec": {
   "display_name": "Python 3 (ipykernel)",
   "language": "python",
   "name": "python3"
  },
  "language_info": {
   "codemirror_mode": {
    "name": "ipython",
    "version": 3
   },
   "file_extension": ".py",
   "mimetype": "text/x-python",
   "name": "python",
   "nbconvert_exporter": "python",
   "pygments_lexer": "ipython3",
   "version": "3.9.10"
  }
 },
 "nbformat": 4,
 "nbformat_minor": 4
}
